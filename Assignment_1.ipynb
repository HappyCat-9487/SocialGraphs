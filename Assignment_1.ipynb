{
  "cells": [
    {
      "cell_type": "markdown",
      "id": "Aa5DNdCeVD0y",
      "metadata": {
        "id": "Aa5DNdCeVD0y"
      },
      "source": [
        "# Part 1: Binning degree distributions"
      ]
    },
    {
      "cell_type": "markdown",
      "id": "JKO1QLsNwvTn",
      "metadata": {
        "id": "JKO1QLsNwvTn"
      },
      "source": [
        "## A. Binning real numbers\n",
        "\n",
        "### Let's do a gentle start and use the random library generate 5000 data points from a Gaussian distribution with $\\mu=2$ and $σ=0.125$."
      ]
    },
    {
      "cell_type": "code",
      "execution_count": 37,
      "id": "b6c1f340",
      "metadata": {
        "id": "b6c1f340"
      },
      "outputs": [],
      "source": [
        "import numpy as np\n",
        "import matplotlib.pyplot as plt\n",
        "import networkx as nx"
      ]
    },
    {
      "cell_type": "code",
      "execution_count": 38,
      "id": "0f455fb4",
      "metadata": {
        "id": "0f455fb4"
      },
      "outputs": [],
      "source": [
        "mu, sigma, N = 2, 0.125, 5000 # mean, standard deviation and number of points\n",
        "s = np.random.normal(mu, sigma, N)"
      ]
    },
    {
      "cell_type": "markdown",
      "id": "_LrO6xK6zsjh",
      "metadata": {
        "id": "_LrO6xK6zsjh"
      },
      "source": [
        "We can verify that the Gaussian distribution is done correctly by printing the mean and standard deviation:"
      ]
    },
    {
      "cell_type": "code",
      "execution_count": 39,
      "id": "JNW2zmEB0qFk",
      "metadata": {
        "colab": {
          "base_uri": "https://localhost:8080/"
        },
        "id": "JNW2zmEB0qFk",
        "outputId": "573837bc-947f-4ffe-df30-6f42ca228b8a"
      },
      "outputs": [
        {
          "name": "stdout",
          "output_type": "stream",
          "text": [
            "Mean: 1.9994503069185317\n",
            "Standard deviation: 0.12417032947568692\n"
          ]
        }
      ],
      "source": [
        "print(\"Mean: \" + str(np.mean(s)))\n",
        "print(\"Standard deviation: \" + str(np.std(s)))"
      ]
    },
    {
      "cell_type": "markdown",
      "id": "7R35Wls_096f",
      "metadata": {
        "id": "7R35Wls_096f"
      },
      "source": [
        "We see very close values, so the distribution was successful."
      ]
    },
    {
      "cell_type": "markdown",
      "id": "2y_XR4-Jy8Gl",
      "metadata": {
        "id": "2y_XR4-Jy8Gl"
      },
      "source": [
        "### Now, let's use numpy.histogram to bin those number into 10 bins. What does the numpy.histogram function return? Do the two arrays have the same length?\n"
      ]
    },
    {
      "cell_type": "code",
      "execution_count": 40,
      "id": "50Kcn21Sw69c",
      "metadata": {
        "colab": {
          "base_uri": "https://localhost:8080/"
        },
        "id": "50Kcn21Sw69c",
        "outputId": "9d0bbf8c-1a9b-4c13-b82f-a3497876a503"
      },
      "outputs": [
        {
          "name": "stdout",
          "output_type": "stream",
          "text": [
            "[   2   10   97  434 1307 1615 1061  388   79    7]\n",
            "[1.43406077 1.53837015 1.64267954 1.74698893 1.85129831 1.9556077\n",
            " 2.05991708 2.16422647 2.26853586 2.37284524 2.47715463]\n",
            "\n",
            "The count-array has a lenght of:  10\n",
            "The bin-array has a lenght of: 11\n"
          ]
        }
      ],
      "source": [
        "hist,bin_edges=np.histogram(s,bins=10) #data binned into 10 bins\n",
        "\n",
        "print(hist)\n",
        "print(bin_edges)\n",
        "print('')\n",
        "print('The count-array has a lenght of: ',len(hist))\n",
        "print('The bin-array has a lenght of:',len(bin_edges))"
      ]
    },
    {
      "cell_type": "markdown",
      "id": "BEIQAbIK1-5a",
      "metadata": {
        "id": "BEIQAbIK1-5a"
      },
      "source": [
        "We see from the resulting lists, that there is an additional edge compared to the number of bins. "
      ]
    },
    {
      "cell_type": "markdown",
      "id": "60xY--agzHZI",
      "metadata": {
        "id": "60xY--agzHZI"
      },
      "source": [
        "### Then we use matplotlib.pyplot.plot to plot the binned data. You will have to deal with the fact that the counts- and bin-arrays have different lengths. Explain how you deal with this problem and why."
      ]
    },
    {
      "cell_type": "markdown",
      "id": "E2EY3kpu4dTZ",
      "metadata": {
        "id": "E2EY3kpu4dTZ"
      },
      "source": [
        "Below, the binned data is plotted in a histogram. The last edge is removed as a result of the bins being defined in intervals as we discovered above.\n",
        "\n",
        "We make sure to use .bar instead of .hist since the data has already been binned."
      ]
    },
    {
      "cell_type": "code",
      "execution_count": 41,
      "id": "zT2o_E964BFU",
      "metadata": {
        "colab": {
          "base_uri": "https://localhost:8080/",
          "height": 317
        },
        "id": "zT2o_E964BFU",
        "outputId": "f4ab899a-53f8-405d-f451-579f80ae7464"
      },
      "outputs": [
        {
          "data": {
            "image/png": "[encoded data removed]",
            "text/plain": [
              "<Figure size 432x288 with 1 Axes>"
            ]
          },
          "metadata": {
            "needs_background": "light"
          },
          "output_type": "display_data"
        }
      ],
      "source": [
        "fig, ax = plt.subplots()\n",
        "\n",
        "ax.bar(x=bin_edges[:-1], height=hist, width=np.diff(bin_edges), align='edge', ec='black')\n",
        "ax.set_xticks((bin_edges[:-1] + bin_edges[1:]) / 2)\n",
        "plt.xticks(fontsize=10, rotation=45)\n",
        "plt.xlabel('Bin')\n",
        "plt.ylabel('Bumber of datapoints')\n",
        "plt.title('Gaussian distribution of 5000 datapoints with μ=2  and σ=0.125')\n",
        "\n",
        "plt.show()"
      ]
    },
    {
      "cell_type": "markdown",
      "id": "WMUFqdow3B33",
      "metadata": {
        "id": "WMUFqdow3B33"
      },
      "source": [
        "## B. Binning integers\n",
        "\n",
        "### Now we'll generate a bunch of integers and set the bin boundaries manually. This time, let's grab data from a Poisson distribution. \n",
        "\n",
        "### Use numpy.random.poisson to generate 5000 numbers drawn from a Poisson distribution characterized by . \n",
        "\n",
        "### Find the maximum and minimum value of your 5000 random numbers.\n"
      ]
    },
    {
      "cell_type": "code",
      "execution_count": 42,
      "id": "j3neBOmi3QRq",
      "metadata": {
        "colab": {
          "base_uri": "https://localhost:8080/"
        },
        "id": "j3neBOmi3QRq",
        "outputId": "e508a30a-cfed-4198-826e-9269540c6463"
      },
      "outputs": [
        {
          "name": "stdout",
          "output_type": "stream",
          "text": [
            "25\n",
            "2\n"
          ]
        }
      ],
      "source": [
        "x = np.random.poisson(10, 5000)\n",
        "max_value = np.max(x)\n",
        "print(max_value)\n",
        "min_value = np.min(x)\n",
        "print(min_value)"
      ]
    },
    {
      "cell_type": "markdown",
      "id": "e6j3rrYq3okb",
      "metadata": {
        "id": "e6j3rrYq3okb"
      },
      "source": [
        "### Instead of simplify specifying the number of bins for numpy.histogram, let's specify the bins we want using a vector. Create a vector  that results in a binning that puts each integer value in its own bin and where the first bin contains the minimum number you found above, and the last bin contains the maximum number.\n",
        "\n",
        "### 1. You may want to think about how numpy.histogram deals with the smallest and largest value in particular; is it correct to set the first entry of $v$ to be equal to the smallest value you observe and the last entry of  to be the highest value observed?\n",
        "\n",
        "### 2. Use the vector by setting numpy.histogram's bin parameter as bin $=v$. What is the sum over bin counts? \n",
        "\n",
        "\n",
        "### 3. Explain how the binning-vectors first and last element relates to the min and max from the Poisson distribution."
      ]
    },
    {
      "cell_type": "code",
      "execution_count": 43,
      "id": "6ZjsNHc13xkn",
      "metadata": {
        "colab": {
          "base_uri": "https://localhost:8080/"
        },
        "id": "6ZjsNHc13xkn",
        "outputId": "773e20c3-4711-49da-a056-286858329e92"
      },
      "outputs": [
        {
          "name": "stdout",
          "output_type": "stream",
          "text": [
            "5000\n"
          ]
        }
      ],
      "source": [
        "v = np.arange(min(x),max(x)+2)\n",
        "\n",
        "#Plot of the Poisson distribution\n",
        "count,bins=np.histogram(x, bins=v)\n",
        "\n",
        "print(sum(count))"
      ]
    },
    {
      "cell_type": "markdown",
      "id": "7x2EkFEvYtLk",
      "metadata": {
        "id": "7x2EkFEvYtLk"
      },
      "source": [
        "1. The binning-vector's first value is defined as the minimum value of the Poisson distribution. However this is not the case for the maximum value, because as we already discovered, np.histogram returns an additional edge. \n",
        "\n",
        "2. The sum of bin counts gives us the length of the dataset, 5000. \n",
        "\n",
        "3. The first element in the binning-vector correstonds to the minimum value of the Poisson distribution. The last element should be 1 + the maximum of the poisson distribution, again because of the np.histogram specification."
      ]
    },
    {
      "cell_type": "markdown",
      "id": "ZAw8oScO5Q8N",
      "metadata": {
        "id": "ZAw8oScO5Q8N"
      },
      "source": [
        "### Now, use a bar chart (matplotlib.pyplot.bar) to plot the distribution"
      ]
    },
    {
      "cell_type": "code",
      "execution_count": 44,
      "id": "LK42Wyvy4F4i",
      "metadata": {
        "colab": {
          "base_uri": "https://localhost:8080/",
          "height": 298
        },
        "id": "LK42Wyvy4F4i",
        "outputId": "4fba25ff-2dac-4b90-a3f1-4c911142b271"
      },
      "outputs": [
        {
          "data": {
            "image/png": "[encoded data removed]",
            "text/plain": [
              "<Figure size 432x288 with 1 Axes>"
            ]
          },
          "metadata": {
            "needs_background": "light"
          },
          "output_type": "display_data"
        }
      ],
      "source": [
        "#Plot of the Poisson distribution using matplotlib.pyplot.bar function\n",
        "plt.bar(bins[:-1], count)\n",
        "plt.title('Poisson Distribution',fontsize=13)\n",
        "plt.xlabel('Value',fontsize=12)\n",
        "plt.ylabel('Counts',fontsize=12)\n",
        "plt.show() "
      ]
    },
    {
      "cell_type": "markdown",
      "id": "eDZl-42O5KS1",
      "metadata": {
        "id": "eDZl-42O5KS1"
      },
      "source": [
        "## C. Binning and plotting degree distributions.\n",
        "\n",
        "### Let's generate the Erdös-Renyi (ER) network which has a degree distribution that matches the Poisson distribution above. \n",
        "\n",
        "### First we have to figure out which values the ER parameters (N and p) should assume. It's easy to see that N=5000 , but how do you find p? Hint: The parameter  in the Poisson distribution corresponds to the average degree, so you have to find a p that results in an average degree, k=10. And you know that $<k> = p(N-1)$ , which will give you $p$."
      ]
    },
    {
      "cell_type": "code",
      "execution_count": 45,
      "id": "B2fb9w8N5t98",
      "metadata": {
        "colab": {
          "base_uri": "https://localhost:8080/"
        },
        "id": "B2fb9w8N5t98",
        "outputId": "02f1e3fe-b7ec-4766-81ec-8536139f146f"
      },
      "outputs": [
        {
          "name": "stdout",
          "output_type": "stream",
          "text": [
            "0.002000400080016003\n"
          ]
        }
      ],
      "source": [
        "N=5000\n",
        "k=10\n",
        "p=k/(N-1)\n",
        "print(p)"
      ]
    },
    {
      "cell_type": "markdown",
      "id": "MAmy5FrC7LuU",
      "metadata": {
        "id": "MAmy5FrC7LuU"
      },
      "source": [
        "### Now, use networkx to create the graph and extract the degree distribution."
      ]
    },
    {
      "cell_type": "code",
      "execution_count": 46,
      "id": "OInRSXaS7PUJ",
      "metadata": {
        "id": "OInRSXaS7PUJ"
      },
      "outputs": [],
      "source": [
        "r = nx.random_graphs.erdos_renyi_graph(N,p)"
      ]
    },
    {
      "cell_type": "code",
      "execution_count": 47,
      "id": "_ERLbFNZ7mJJ",
      "metadata": {
        "colab": {
          "base_uri": "https://localhost:8080/"
        },
        "id": "_ERLbFNZ7mJJ",
        "outputId": "81f21c77-d215-4f14-d1c5-06f7e9a42995"
      },
      "outputs": [
        {
          "name": "stdout",
          "output_type": "stream",
          "text": [
            "Degree distribution (5, 13, 23, 41, 69, 110, 192, 231, 371, 486, 582, 643, 643, 586, 408, 313, 167, 75, 27, 12, 1, 2)\n"
          ]
        }
      ],
      "source": [
        "import collections\n",
        "degree_sequence = sorted([d for n, d in r.degree()], reverse=True)  # degree sequence\n",
        "degreeCount = collections.Counter(degree_sequence)\n",
        "deg, cnt = zip(*degreeCount.items())\n",
        "print('Degree distribution',cnt)"
      ]
    },
    {
      "cell_type": "markdown",
      "id": "ocXMNHRB7rXP",
      "metadata": {
        "id": "ocXMNHRB7rXP"
      },
      "source": [
        "### Finally, create a nice bar plot of the degree distribution, including axes labels and a plot title. Make sure that it looks like the Poisson distribution you plotted above."
      ]
    },
    {
      "cell_type": "code",
      "execution_count": 48,
      "id": "XChW1JF47xfQ",
      "metadata": {
        "colab": {
          "base_uri": "https://localhost:8080/",
          "height": 298
        },
        "id": "XChW1JF47xfQ",
        "outputId": "d669ad19-c7c5-42a9-8bae-0f1b395df556"
      },
      "outputs": [
        {
          "data": {
            "image/png": "[encoded data removed]",
            "text/plain": [
              "<Figure size 432x288 with 1 Axes>"
            ]
          },
          "metadata": {
            "needs_background": "light"
          },
          "output_type": "display_data"
        }
      ],
      "source": [
        "plt.bar(deg, cnt, width=0.80)\n",
        "plt.title('Degree Distribution',fontsize=13)\n",
        "plt.xlabel('Degree',fontsize=12)\n",
        "plt.ylabel('Counts',fontsize=12)\n",
        "plt.show() "
      ]
    },
    {
      "cell_type": "markdown",
      "id": "suwdT5q8_5Zg",
      "metadata": {
        "id": "suwdT5q8_5Zg"
      },
      "source": [
        "We see that the plottet degree distribution is very similar to the Poisson distribution plotted above."
      ]
    },
    {
      "cell_type": "markdown",
      "id": "eab0698a",
      "metadata": {
        "id": "eab0698a"
      },
      "source": [
        "# Part 2: Random networks and plotting in networkx"
      ]
    },
    {
      "cell_type": "markdown",
      "id": "5ec851a8",
      "metadata": {
        "id": "5ec851a8"
      },
      "source": [
        "## A: Exercise 3.1: Erdős-Rényi Networks"
      ]
    },
    {
      "cell_type": "markdown",
      "id": "a2f6fe83",
      "metadata": {
        "id": "a2f6fe83"
      },
      "source": [
        "### Consider an Erdős-Rényi network with $N = 3,000$ nodes, connected to each other with probability $p = 10^{–3}$.\n",
        "\n",
        "### What is the expected number of links, $〈L〉$?"
      ]
    },
    {
      "cell_type": "code",
      "execution_count": 49,
      "id": "965f8a38",
      "metadata": {
        "colab": {
          "base_uri": "https://localhost:8080/"
        },
        "id": "965f8a38",
        "outputId": "054693fc-342a-4acf-d0d9-8ccace33f62f"
      },
      "outputs": [
        {
          "name": "stdout",
          "output_type": "stream",
          "text": [
            "4498.5\n"
          ]
        }
      ],
      "source": [
        "N = 3000\n",
        "p = 10**(-3)\n",
        "\n",
        "L = p*((N*(N-1))/2)\n",
        "\n",
        "print(L)"
      ]
    },
    {
      "cell_type": "markdown",
      "id": "823434d4",
      "metadata": {
        "id": "823434d4"
      },
      "source": [
        "### In which regime is the network?\n"
      ]
    },
    {
      "cell_type": "markdown",
      "id": "f6ad7042",
      "metadata": {
        "id": "f6ad7042"
      },
      "source": [
        "There are three different regimes:\n",
        "\n",
        "1. Subcritical Regime: When k is between 0 and 1 (0<k<1)\n",
        "2. Supercritical Regime: When k is larger than 1 (k>1)\n",
        "3. Connected Regime: When k is larger than lnN (k>lnN)\n",
        "\n",
        "So we need to determine $‹k› = p(N-1)$:"
      ]
    },
    {
      "cell_type": "code",
      "execution_count": 50,
      "id": "19dde43e",
      "metadata": {
        "colab": {
          "base_uri": "https://localhost:8080/"
        },
        "id": "19dde43e",
        "outputId": "0b172d1c-3205-43fd-bf07-73838fc75ef3"
      },
      "outputs": [
        {
          "name": "stdout",
          "output_type": "stream",
          "text": [
            "2.999\n"
          ]
        }
      ],
      "source": [
        "k = p*(N-1)\n",
        "\n",
        "print(k)"
      ]
    },
    {
      "cell_type": "markdown",
      "id": "1263c050",
      "metadata": {
        "id": "1263c050"
      },
      "source": [
        "This means that the average degree of the network is 3. \n",
        "\n",
        "With help from WolframAlpha, $lnN$ was calculated to be 8."
      ]
    },
    {
      "cell_type": "markdown",
      "id": "04a90c26",
      "metadata": {
        "id": "04a90c26"
      },
      "source": [
        "This means that $1 ‹ k ‹ lnN$, and hence the network is in the **supercritical regime**."
      ]
    },
    {
      "cell_type": "markdown",
      "id": "5e7484b7",
      "metadata": {
        "id": "5e7484b7"
      },
      "source": [
        "### Calculate the probability $p_c$ so that the network is at the critical point\n"
      ]
    },
    {
      "cell_type": "markdown",
      "id": "2cc9b01b",
      "metadata": {
        "id": "2cc9b01b"
      },
      "source": [
        "The probability is defined as $p_c = \\frac{1}{N-1}$, where the critical point, when k = 1, corresponds to the numerator. Hence the probability is found as:"
      ]
    },
    {
      "cell_type": "code",
      "execution_count": 51,
      "id": "9a12e947",
      "metadata": {
        "colab": {
          "base_uri": "https://localhost:8080/"
        },
        "id": "9a12e947",
        "outputId": "0ccc4fe4-ddea-4168-bc7d-78d36b7a9a58"
      },
      "outputs": [
        {
          "name": "stdout",
          "output_type": "stream",
          "text": [
            "0.00033344448149383126\n"
          ]
        }
      ],
      "source": [
        "pc = 1/(N-1)\n",
        "\n",
        "print(pc)"
      ]
    },
    {
      "cell_type": "markdown",
      "id": "76962452",
      "metadata": {
        "id": "76962452"
      },
      "source": [
        "### Given the linking probability $p = 10^{–3}$, calculate the number of nodes $N_{cr}$ so that the network has only one component.\n"
      ]
    },
    {
      "cell_type": "markdown",
      "id": "3eef5014",
      "metadata": {
        "id": "3eef5014"
      },
      "source": [
        "When a network only has one component, it means that there is one giant component, that has absorbed all nodes. This happens in the connected regime, where $p = \\frac{ln N}{N}$."
      ]
    },
    {
      "cell_type": "markdown",
      "id": "620973da",
      "metadata": {
        "id": "620973da"
      },
      "source": [
        "With help from WolframAlpha, the number of nodes is calculated to be $N_{cr} = 9120$"
      ]
    },
    {
      "cell_type": "markdown",
      "id": "8aae32e5",
      "metadata": {
        "id": "8aae32e5"
      },
      "source": [
        "### For the network in (d), calculate the average degree $‹k^{cr}›$ and the average distance between two randomly chosen nodes 〈d〉.\n"
      ]
    },
    {
      "cell_type": "markdown",
      "id": "f4df93be",
      "metadata": {
        "id": "f4df93be"
      },
      "source": [
        "The average degree of the network with $p = 10^{–3}$ and $N_{cr}=9120$ is found:"
      ]
    },
    {
      "cell_type": "code",
      "execution_count": 52,
      "id": "71925c5a",
      "metadata": {
        "colab": {
          "base_uri": "https://localhost:8080/"
        },
        "id": "71925c5a",
        "outputId": "793ff9f4-25a4-46ac-8ff2-75016a3c211d"
      },
      "outputs": [
        {
          "name": "stdout",
          "output_type": "stream",
          "text": [
            "9.119\n"
          ]
        }
      ],
      "source": [
        "Ncr = 9120\n",
        "pcr = 10**-3\n",
        "\n",
        "kcr = pcr*(Ncr-1)\n",
        "print(kcr)"
      ]
    },
    {
      "cell_type": "markdown",
      "id": "E6DEKIP2TQXw",
      "metadata": {
        "id": "E6DEKIP2TQXw"
      },
      "source": [
        "And the average distance between two randomly chosen nodes is defined as $‹d› = \\frac{ln(N)}{ln(‹k›)}$, and is found below:"
      ]
    },
    {
      "cell_type": "code",
      "execution_count": 53,
      "id": "XtAr7z2FTPzf",
      "metadata": {
        "colab": {
          "base_uri": "https://localhost:8080/"
        },
        "id": "XtAr7z2FTPzf",
        "outputId": "a8d53486-66ab-4066-f295-b2794a3829d8"
      },
      "outputs": [
        {
          "name": "stdout",
          "output_type": "stream",
          "text": [
            "4.12522144293705\n"
          ]
        }
      ],
      "source": [
        "from numpy import log as ln\n",
        "import numpy as np\n",
        "\n",
        "d = np.log(Ncr)/np.log(kcr)\n",
        "print(d)"
      ]
    },
    {
      "cell_type": "markdown",
      "id": "331001c5",
      "metadata": {
        "id": "331001c5"
      },
      "source": [
        "We see that the average distance, $‹d› = 4.125$, while the average degree is $‹k› = 9.119$. This is larger compared to the network in the supercritical regime, which had an average degree of $‹k› = 3$. This makes sense, as the number of nodes is significantly higher and also because for a giant component, all nodes in the network are connected."
      ]
    },
    {
      "cell_type": "markdown",
      "id": "daca191a",
      "metadata": {
        "id": "daca191a"
      },
      "source": [
        "### Calculate the degree distribution $p_k$ of this network (approximate with a Poisson degree distribution)."
      ]
    },
    {
      "cell_type": "markdown",
      "id": "ae20f37e",
      "metadata": {
        "id": "ae20f37e"
      },
      "source": [
        "The Poisson approximation of the degree distribution is defined as $p_k = \\frac{e^{-‹k›}}{\\sqrt{2\\pi k}}(\\frac{e^{‹k›}}{k})^k$."
      ]
    },
    {
      "cell_type": "code",
      "execution_count": 54,
      "id": "Dv4M24bGEjud",
      "metadata": {
        "colab": {
          "base_uri": "https://localhost:8080/",
          "height": 308
        },
        "id": "Dv4M24bGEjud",
        "outputId": "a2a9b75d-7b2b-4496-867f-89de5ec83b17"
      },
      "outputs": [
        {
          "data": {
            "image/png": "[encoded data removed]",
            "text/plain": [
              "<Figure size 432x288 with 1 Axes>"
            ]
          },
          "metadata": {
            "needs_background": "light"
          },
          "output_type": "display_data"
        }
      ],
      "source": [
        "lamb = kcr\n",
        "N = Ncr\n",
        "\n",
        "s = np.random.poisson(lamb, N)\n",
        "v = np.arange(min(s),max(s)+2)\n",
        "\n",
        "hist,bin_edges=np.histogram(s, v) #data binned into 10 bins\n",
        "\n",
        "fig, ax = plt.subplots()\n",
        "ax.bar(x=bin_edges[:-1], height=hist, width=np.diff(bin_edges), align='edge', ec='black')\n",
        "ax.set_xticks((bin_edges[:-1] + bin_edges[1:]) / 2)\n",
        "plt.xticks(fontsize=10, rotation=45)\n",
        "plt.xlabel('Degree')\n",
        "plt.ylabel('Count')\n",
        "plt.title('Degree distribution (Poisson approximation)')\n",
        "\n",
        "plt.show()"
      ]
    },
    {
      "cell_type": "markdown",
      "id": "e08146b3",
      "metadata": {
        "id": "e08146b3"
      },
      "source": [
        "## B: Paths"
      ]
    },
    {
      "cell_type": "markdown",
      "id": "0370dd77",
      "metadata": {
        "id": "0370dd77"
      },
      "source": [
        "### Plot a random network with 200 nodes and an average degree of 1.5."
      ]
    },
    {
      "cell_type": "markdown",
      "id": "597a9002",
      "metadata": {
        "id": "597a9002"
      },
      "source": [
        "We know that there needs to be 200 nodes.\n",
        "We also know, that the average degree is defined as $‹k› = \\frac{2L}{N}$. From this we can isolate L as $L=\\frac{‹k›N}{2}$."
      ]
    },
    {
      "cell_type": "code",
      "execution_count": 55,
      "id": "17935bb0",
      "metadata": {
        "colab": {
          "base_uri": "https://localhost:8080/"
        },
        "id": "17935bb0",
        "outputId": "e91734bc-8865-4111-9f54-48b1895b1af1"
      },
      "outputs": [
        {
          "name": "stdout",
          "output_type": "stream",
          "text": [
            "150.0\n"
          ]
        }
      ],
      "source": [
        "N = 200\n",
        "k = 1.5\n",
        "\n",
        "L = (k*N/2)\n",
        "print(L)"
      ]
    },
    {
      "cell_type": "markdown",
      "id": "7dc6560d",
      "metadata": {
        "id": "7dc6560d"
      },
      "source": [
        "So the total number of links in the network is 150."
      ]
    },
    {
      "cell_type": "markdown",
      "id": "03671570",
      "metadata": {
        "id": "03671570"
      },
      "source": [
        "Now the network can be plotted using NetworkX:"
      ]
    },
    {
      "cell_type": "code",
      "execution_count": 56,
      "id": "a46e0d9b",
      "metadata": {
        "colab": {
          "base_uri": "https://localhost:8080/",
          "height": 466
        },
        "id": "a46e0d9b",
        "outputId": "b22cd539-4cbd-41f1-d250-65c0f350aaae"
      },
      "outputs": [
        {
          "data": {
            "image/png": "[encoded data removed]",
            "text/plain": [
              "<Figure size 720x576 with 1 Axes>"
            ]
          },
          "metadata": {},
          "output_type": "display_data"
        }
      ],
      "source": [
        "import networkx as nx\n",
        "\n",
        "Gr = nx.gnm_random_graph(200, 150)\n",
        "\n",
        "plt.figure(figsize=(10, 8))\n",
        "pos = nx.kamada_kawai_layout(Gr)\n",
        "node_options = {\"node_color\": \"#A0CBE2\", \"node_size\": 50}\n",
        "edge_options = {\"width\": .50, \"alpha\": .5, \"edge_color\": \"black\"}\n",
        "\n",
        "nx.draw_networkx_nodes(Gr, pos, **node_options, edgecolors='black')\n",
        "nx.draw_networkx_edges(Gr, pos, **edge_options)\n",
        "plt.show()\n"
      ]
    },
    {
      "cell_type": "markdown",
      "id": "950acc9b",
      "metadata": {
        "id": "950acc9b"
      },
      "source": [
        "### Extract the Giant Connected Component, GCC. (Hint. You can use networkx.connected_component_subgraphs)"
      ]
    },
    {
      "cell_type": "markdown",
      "id": "203f71da",
      "metadata": {
        "id": "203f71da"
      },
      "source": [
        "A giant connected component (GCC) is a large cluster of nodes in the network. The number of nodes and edges is found below. "
      ]
    },
    {
      "cell_type": "code",
      "execution_count": 57,
      "id": "e78ba007",
      "metadata": {
        "colab": {
          "base_uri": "https://localhost:8080/"
        },
        "id": "e78ba007",
        "outputId": "dcbe680e-2326-473c-b684-5261a90c006f"
      },
      "outputs": [
        {
          "name": "stdout",
          "output_type": "stream",
          "text": [
            "Graph with 118 nodes and 128 edges\n"
          ]
        }
      ],
      "source": [
        "G0 = sorted(nx.connected_components(Gr), key=len, reverse=True) \n",
        "Gcc = Gr.subgraph(G0[0]) \n",
        "\n",
        "print(Gcc)"
      ]
    },
    {
      "cell_type": "markdown",
      "id": "4ec2129d",
      "metadata": {
        "id": "4ec2129d"
      },
      "source": [
        "### Choose a node at random from the GCC. (Hint: You may want to try random.choice.)"
      ]
    },
    {
      "cell_type": "code",
      "execution_count": 58,
      "id": "235e6acf",
      "metadata": {
        "colab": {
          "base_uri": "https://localhost:8080/"
        },
        "id": "235e6acf",
        "outputId": "137c789d-f5c5-4d2f-f981-451271bb2104"
      },
      "outputs": [
        {
          "name": "stdout",
          "output_type": "stream",
          "text": [
            "36\n"
          ]
        }
      ],
      "source": [
        "import random\n",
        "\n",
        "sample = random.sample(Gcc.nodes, len(Gcc))\n",
        "rn = random.choice(sample)\n",
        "\n",
        "print(rn)"
      ]
    },
    {
      "cell_type": "markdown",
      "id": "201149cf",
      "metadata": {
        "id": "201149cf"
      },
      "source": [
        "### Find all nodes that are precisely 2 steps away from that node. (Hint. I suggest networkx.single_source_shortest_path_length)"
      ]
    },
    {
      "cell_type": "code",
      "execution_count": 59,
      "id": "66d74d22",
      "metadata": {
        "colab": {
          "base_uri": "https://localhost:8080/"
        },
        "id": "66d74d22",
        "outputId": "4209a7db-2899-4d90-c4e0-7ad9142ae72f"
      },
      "outputs": [
        {
          "name": "stdout",
          "output_type": "stream",
          "text": [
            "[128, 129, 3, 196, 38, 43, 13, 118, 54]\n"
          ]
        }
      ],
      "source": [
        "sp = nx.single_source_shortest_path_length(Gcc, rn)\n",
        "\n",
        "l2 = []\n",
        "for node in sp:\n",
        "    if sp[node] == 2:\n",
        "        l2.append(node)\n",
        "        \n",
        "print(l2)"
      ]
    },
    {
      "cell_type": "markdown",
      "id": "96a818fa",
      "metadata": {
        "id": "96a818fa"
      },
      "source": [
        "### Plot the GCC"
      ]
    },
    {
      "cell_type": "code",
      "execution_count": 60,
      "id": "dd60b4be",
      "metadata": {
        "colab": {
          "base_uri": "https://localhost:8080/",
          "height": 466
        },
        "id": "dd60b4be",
        "outputId": "a337892e-6eb2-47b7-c5d4-9dd7ea78dc46",
        "scrolled": true
      },
      "outputs": [
        {
          "data": {
            "image/png": "[encoded data removed]",
            "text/plain": [
              "<Figure size 720x576 with 1 Axes>"
            ]
          },
          "metadata": {},
          "output_type": "display_data"
        }
      ],
      "source": [
        "color_map = []\n",
        "\n",
        "for node in Gcc:\n",
        "    if node == rn:\n",
        "        color_map.append('#000000')\n",
        "    elif node in l2:\n",
        "        color_map.append('#ff0000')\n",
        "    else:\n",
        "        color_map.append('#A0CBE2')\n",
        "\n",
        "\n",
        "#nx.draw(Gcc, node_color = color_map, node_size = 75)\n",
        "\n",
        "plt.figure(figsize=(10, 8))\n",
        "pos = nx.kamada_kawai_layout(Gcc)\n",
        "node_options = {\"node_color\": color_map, \"node_size\": 50}\n",
        "edge_options = {\"width\": .7, \"alpha\": 1, \"edge_color\": \"black\"}\n",
        "\n",
        "nx.draw_networkx_nodes(Gcc, pos, **node_options, edgecolors='black')\n",
        "nx.draw_networkx_edges(Gcc, pos, **edge_options)\n",
        "plt.show()"
      ]
    },
    {
      "cell_type": "markdown",
      "id": "FOlMRkumsOfm",
      "metadata": {
        "id": "FOlMRkumsOfm"
      },
      "source": [
        "# Part 3: Watts-Strogatz Networks"
      ]
    },
    {
      "cell_type": "markdown",
      "id": "4OSdTyo0OVZv",
      "metadata": {
        "id": "4OSdTyo0OVZv"
      },
      "source": [
        "## A."
      ]
    },
    {
      "cell_type": "markdown",
      "id": "JFEVt08WMQt1",
      "metadata": {
        "id": "JFEVt08WMQt1"
      },
      "source": [
        "### Use nx.watts_strogatz_graph to generate 3 graphs with 500 nodes each, average degree = 4, and rewiring probablity $p = 0, 0.1, 1$. Calculate the average shortest path length ⟨d⟩ for each one. Describe what happens to the network when $p=1$."
      ]
    },
    {
      "cell_type": "markdown",
      "id": "jqiz_gwKM6aY",
      "metadata": {
        "id": "jqiz_gwKM6aY"
      },
      "source": [
        "First, the three networks are defined."
      ]
    },
    {
      "cell_type": "code",
      "execution_count": 61,
      "id": "V8qSXb5MMz7L",
      "metadata": {
        "id": "V8qSXb5MMz7L"
      },
      "outputs": [],
      "source": [
        "import networkx as nx\n",
        "import matplotlib.pyplot as plt\n",
        "\n",
        "graph1 = nx.watts_strogatz_graph(500, 4, 0)\n",
        "graph2 = nx.watts_strogatz_graph(500, 4, 0.1)\n",
        "graph3 = nx.watts_strogatz_graph(500, 4, 1)\n"
      ]
    },
    {
      "cell_type": "markdown",
      "id": "lLHwN2-uM-G-",
      "metadata": {
        "id": "lLHwN2-uM-G-"
      },
      "source": [
        "The average shortest paths are found. The average shortest path length is the sum of path lengths between all pairs of nodes."
      ]
    },
    {
      "cell_type": "code",
      "execution_count": 62,
      "id": "QVW-E8rWNAoz",
      "metadata": {
        "colab": {
          "base_uri": "https://localhost:8080/"
        },
        "id": "QVW-E8rWNAoz",
        "outputId": "8c1320be-9895-4d51-d3fc-65b89d357847"
      },
      "outputs": [
        {
          "name": "stdout",
          "output_type": "stream",
          "text": [
            "62.875751503006015\n",
            "8.024841683366734\n",
            "4.753971943887776\n"
          ]
        }
      ],
      "source": [
        "print(nx.average_shortest_path_length(graph1))\n",
        "print(nx.average_shortest_path_length(graph2))\n",
        "print(nx.average_shortest_path_length(graph3))"
      ]
    },
    {
      "cell_type": "markdown",
      "id": "-zFLEJVzNIE0",
      "metadata": {
        "id": "-zFLEJVzNIE0"
      },
      "source": [
        "We notice from the result, that as the probability for rewiring, $p$, increases, the average shortest path decreases, while it increases when $p$ gets close to 0. When $p=1$, all links get rewired, and the network turns into a random network, leading to shorter average paths. \n"
      ]
    },
    {
      "cell_type": "markdown",
      "id": "7XZAO584Odbv",
      "metadata": {
        "id": "7XZAO584Odbv"
      },
      "source": [
        "## B."
      ]
    },
    {
      "cell_type": "markdown",
      "id": "EOQD0zTaPGEl",
      "metadata": {
        "id": "EOQD0zTaPGEl"
      },
      "source": [
        "### Let's investigate this behavior in detail. \n",
        "\n",
        "### Generate 50 networks with N=500, ⟨k⟩=4, for each of p={0,0.01,0.03,0.05,0.1,0.2}. \n",
        "\n",
        "### Calculate the average of ⟨d⟩ as well as the standard deviation over the 50 networks, to create a plot that shows how the path length decreases very quickly with only a little fraction of re-wiring. Use the standard deviation to add errorbars to the plot."
      ]
    },
    {
      "cell_type": "markdown",
      "id": "yw1XsGtgOej7",
      "metadata": {
        "id": "yw1XsGtgOej7"
      },
      "source": [
        "We start by defining a function that calculates the average of ⟨d⟩ over 50 networks, depending on the value of p.\n",
        "\n",
        "\n",
        "\n"
      ]
    },
    {
      "cell_type": "code",
      "execution_count": 63,
      "id": "mLJ7VmENO_Mg",
      "metadata": {
        "id": "mLJ7VmENO_Mg"
      },
      "outputs": [],
      "source": [
        "import numpy as np\n",
        "\n",
        "def Average(p):\n",
        "    networks = []\n",
        "    sp = []\n",
        "    \n",
        "    for i in range(50): # Defining the 50 networks  \n",
        "        graph = nx.watts_strogatz_graph(500, 4, p)\n",
        "        networks.append(graph)\n",
        "   \n",
        "    for j in range(len(networks)): # Finding the shortest path for each of the networks\n",
        "        short = nx.average_shortest_path_length(networks[j])\n",
        "        sp.append(short)\n",
        "\n",
        "    avg = sum(sp)/len(sp)\n",
        "    stad = np.std(sp)\n",
        "    \n",
        "    return avg, stad #, len(networks)"
      ]
    },
    {
      "cell_type": "markdown",
      "id": "LicG3NkBPND-",
      "metadata": {
        "id": "LicG3NkBPND-"
      },
      "source": [
        "We then want to find the average for all p-values."
      ]
    },
    {
      "cell_type": "code",
      "execution_count": 64,
      "id": "bW5vO4tRPS1W",
      "metadata": {
        "colab": {
          "base_uri": "https://localhost:8080/"
        },
        "id": "bW5vO4tRPS1W",
        "outputId": "a8ee0fe9-db27-4598-9026-e8c195fbf34a"
      },
      "outputs": [
        {
          "name": "stdout",
          "output_type": "stream",
          "text": [
            "[62.87575150300606, 23.341620681362734, 12.839332264529055, 10.24481987975952, 7.711700681362726, 6.141080721442889]\n",
            "[7.105427357601002e-15, 4.794210705805784, 0.9970790663128722, 0.678017282454061, 0.29244193643611877, 0.11553072427974731]\n"
          ]
        }
      ],
      "source": [
        "p6 = [0, 0.01, 0.03, 0.05, 0.1, 0.2]\n",
        "avglist = []\n",
        "stdlist = []\n",
        "\n",
        "for p in p6:\n",
        "    avglist.append(Average(p)[0])\n",
        "    stdlist.append(Average(p)[1])\n",
        "\n",
        "print(avglist)\n",
        "print(stdlist)"
      ]
    },
    {
      "cell_type": "markdown",
      "id": "Yy9rU2zbPhOD",
      "metadata": {
        "id": "Yy9rU2zbPhOD"
      },
      "source": [
        "Lastly, the dependence between the probabilities and the average path length is plotted:"
      ]
    },
    {
      "cell_type": "code",
      "execution_count": 65,
      "id": "aJ344Ez_Phn7",
      "metadata": {
        "colab": {
          "base_uri": "https://localhost:8080/",
          "height": 295
        },
        "id": "aJ344Ez_Phn7",
        "outputId": "fc839ec1-a3dd-4bf1-a15d-01e264fb6a10"
      },
      "outputs": [
        {
          "data": {
            "image/png": "[encoded data removed]",
            "text/plain": [
              "<Figure size 432x288 with 1 Axes>"
            ]
          },
          "metadata": {
            "needs_background": "light"
          },
          "output_type": "display_data"
        }
      ],
      "source": [
        "plt.plot(p6, avglist, 'ko-', linewidth=.5)\n",
        "plt.errorbar(p6, avglist,\n",
        "             yerr = stdlist,\n",
        "             fmt ='k', \n",
        "             linewidth=.5,\n",
        "             capsize=3)\n",
        "plt.xlabel('p')\n",
        "plt.ylabel('average path length <d>')\n",
        "plt.title('Average path length dependent on p')\n",
        "plt.show()"
      ]
    },
    {
      "cell_type": "markdown",
      "id": "tVTv31HRLiMa",
      "metadata": {
        "id": "tVTv31HRLiMa"
      },
      "source": [
        "The plot shows a decrease in the average path length with an increase in probability, $p$."
      ]
    },
    {
      "cell_type": "markdown",
      "id": "n9PReIvJVRHK",
      "metadata": {
        "id": "n9PReIvJVRHK"
      },
      "source": [
        "# Part 4: The Barabasi-Albert Model \n",
        "\n",
        "## A. Create a 100 node BA network using a BA model that you've coded on your own (so don't use the built-in NetworkX function, but the one you created during week 3). And plot it using NetworkX."
      ]
    },
    {
      "cell_type": "code",
      "execution_count": 68,
      "id": "i0XuaoDXd-Y5",
      "metadata": {
        "colab": {
          "base_uri": "https://localhost:8080/",
          "height": 466
        },
        "id": "i0XuaoDXd-Y5",
        "outputId": "1c5cb6d0-255d-42dc-cc08-f3738c80276b"
      },
      "outputs": [
        {
          "data": {
            "image/png": "[encoded data removed]",
            "text/plain": [
              "<Figure size 720x576 with 1 Axes>"
            ]
          },
          "metadata": {},
          "output_type": "display_data"
        }
      ],
      "source": [
        "import random\n",
        "\n",
        "G = nx.Graph()\n",
        "G.add_edge(1,2)\n",
        "\n",
        "for i in range(3, 101):\n",
        "    edges = list(G.edges)\n",
        "    flatten = [item for sublist in edges for item in sublist]\n",
        "    node = random.choice(flatten)\n",
        "    G.add_edge(node, i)\n",
        "\n",
        "plt.figure(figsize=(10, 8))\n",
        "pos = nx.kamada_kawai_layout(G)\n",
        "node_options = {\"node_color\": '#A0CBE2', \"node_size\": 50}\n",
        "edge_options = {\"width\": .7, \"alpha\": 1, \"edge_color\": \"black\"}\n",
        "\n",
        "nx.draw_networkx_nodes(G, pos, **node_options, edgecolors='black')\n",
        "nx.draw_networkx_edges(G, pos, **edge_options)\n",
        "plt.show()"
      ]
    },
    {
      "cell_type": "markdown",
      "id": "N0g_ubIBXkZr",
      "metadata": {
        "id": "N0g_ubIBXkZr"
      },
      "source": [
        "## B. Now create a 5000 node network."
      ]
    },
    {
      "cell_type": "code",
      "execution_count": 69,
      "id": "-qxqVOzUePbG",
      "metadata": {
        "id": "-qxqVOzUePbG"
      },
      "outputs": [],
      "source": [
        "import random\n",
        "\n",
        "for i in range(102, 5001):\n",
        "    edges = list(G.edges)\n",
        "    flatten = [item for sublist in edges for item in sublist]\n",
        "    node = random.choice(flatten)\n",
        "    G.add_edge(node, i)\n"
      ]
    },
    {
      "cell_type": "markdown",
      "id": "0xX0CMO8YUV6",
      "metadata": {
        "id": "0xX0CMO8YUV6"
      },
      "source": [
        "### What's the maximum and minimum degree?"
      ]
    },
    {
      "cell_type": "code",
      "execution_count": 70,
      "id": "KadJVScTYbFc",
      "metadata": {
        "colab": {
          "base_uri": "https://localhost:8080/"
        },
        "id": "KadJVScTYbFc",
        "outputId": "ff9cd094-5057-462b-b113-5e55cd4638f0"
      },
      "outputs": [
        {
          "name": "stdout",
          "output_type": "stream",
          "text": [
            "Max Degree is:  93 Min Degree is:  1\n"
          ]
        }
      ],
      "source": [
        "todict = dict(G.degree()) # Converting to dict in order to be able to extract the degrees from the different nodes.\n",
        "degs = list(todict.values()) # Extracting the degrees\n",
        "\n",
        "maxdeg = max(degs)\n",
        "mindeg = min(degs)\n",
        "\n",
        "print(\"Max Degree is: \", maxdeg,\"Min Degree is: \", mindeg)"
      ]
    },
    {
      "cell_type": "markdown",
      "id": "aZpHrT2rYiNn",
      "metadata": {
        "id": "aZpHrT2rYiNn"
      },
      "source": [
        "### Now, bin the degree distribution, for example using numpy.histogram."
      ]
    },
    {
      "cell_type": "code",
      "execution_count": 71,
      "id": "ovdFizjVYwGG",
      "metadata": {
        "id": "ovdFizjVYwGG"
      },
      "outputs": [],
      "source": [
        "bins = np.arange(maxdeg)\n",
        "\n",
        "hist, bins = np.histogram(G, bins, density=True)\n",
        "\n",
        "def degree_distribution(G):\n",
        "    todict = dict(G.degree()) # Converting to dict in order to be able to extract the degrees from the different nodes.\n",
        "    degs = list(todict.values()) # Extracting the degrees\n",
        "\n",
        "    maxdeg = max(degs)\n",
        "    mindeg = min(degs)\n",
        "    \n",
        "    kvalues= np.arange(0,maxdeg+1) # possible values of k\n",
        "    count = np.zeros(maxdeg+1) # P(k)\n",
        "    for k in degs:\n",
        "        count[k] = count[k] + 1\n",
        "    count = count/sum(count) # the sum of the elements of count(Pk) must to be equal to one\n",
        "    return kvalues,count\n",
        "\n",
        "ks, count = degree_distribution(G)"
      ]
    },
    {
      "cell_type": "markdown",
      "id": "rSXB6L3wYy0y",
      "metadata": {
        "id": "rSXB6L3wYy0y"
      },
      "source": [
        "### Plot the distribution. Plot it with both linear and log-log axes."
      ]
    },
    {
      "cell_type": "code",
      "execution_count": 72,
      "id": "IDR_Wx26Y4a1",
      "metadata": {
        "colab": {
          "base_uri": "https://localhost:8080/",
          "height": 622
        },
        "id": "IDR_Wx26Y4a1",
        "outputId": "9b757054-1d2b-4465-b53a-63a197f1d1ca"
      },
      "outputs": [
        {
          "data": {
            "text/plain": [
              "Text(0.5, 1.0, 'Degree distribution (log-log)')"
            ]
          },
          "execution_count": 72,
          "metadata": {},
          "output_type": "execute_result"
        },
        {
          "data": {
            "image/png": "[encoded data removed]",
            "text/plain": [
              "<Figure size 432x288 with 1 Axes>"
            ]
          },
          "metadata": {
            "needs_background": "light"
          },
          "output_type": "display_data"
        },
        {
          "data": {
            "image/png": "[encoded data removed]",
            "text/plain": [
              "<Figure size 432x288 with 1 Axes>"
            ]
          },
          "metadata": {
            "needs_background": "light"
          },
          "output_type": "display_data"
        }
      ],
      "source": [
        "plt.figure()\n",
        "plt.plot(ks,count,'bo')\n",
        "plt.xlabel(\"k\", fontsize=20)\n",
        "plt.ylabel(\"Count\", fontsize=20)\n",
        "plt.title(\"Degree distribution (linear)\", fontsize=20)\n",
        "\n",
        "plt.figure()\n",
        "plt.loglog(ks,count,'bo')\n",
        "plt.xlabel(\"k\", fontsize=20)\n",
        "plt.ylabel(\"Count\", fontsize=20)\n",
        "plt.title(\"Degree distribution (log-log)\", fontsize=20)"
      ]
    },
    {
      "cell_type": "markdown",
      "id": "90zKu-j4UhQE",
      "metadata": {
        "id": "90zKu-j4UhQE"
      },
      "source": [
        "# Part 5: Power-laws and the friendship paradox "
      ]
    },
    {
      "cell_type": "markdown",
      "id": "4YS5tbnHUmSu",
      "metadata": {
        "id": "4YS5tbnHUmSu"
      },
      "source": [
        "Next step is to explore the Friendship paradox. This paradox states that almost everyone has fewer friends than their friends have, on average*. This sounds crazy, but is actually an almost trivial consequence of living in a social network with a power-law degree distribution. The explanation is that almost everyone is friends with a hub, that drives up the average degree of the friends. Let's explore that in the 5000 node BA network we've just generated (let's call this network F-BA for friendship BA). Do the following:"
      ]
    },
    {
      "cell_type": "markdown",
      "id": "Pp0a5eukUtsD",
      "metadata": {
        "id": "Pp0a5eukUtsD"
      },
      "source": [
        "## A. The friendship paradox in BA networks\n",
        "\n",
        "### Pick a node  at random (e.g. use random.choice). Find its degree.\n"
      ]
    },
    {
      "cell_type": "code",
      "execution_count": 96,
      "id": "wbpJE0vQZoDX",
      "metadata": {
        "colab": {
          "base_uri": "https://localhost:8080/"
        },
        "id": "wbpJE0vQZoDX",
        "outputId": "9969c0f7-b376-437d-85b3-3e74ef6b1315"
      },
      "outputs": [
        {
          "name": "stdout",
          "output_type": "stream",
          "text": [
            "Degree of sample: 2\n"
          ]
        }
      ],
      "source": [
        "import random as rd\n",
        "\n",
        "samples = rd.sample(G.nodes, len(G))\n",
        "sample = rd.choice(samples)\n",
        "\n",
        "#print(sample)\n",
        "\n",
        "ran = G.degree[sample]\n",
        "print('Degree of sample: ' + str(ran))"
      ]
    },
    {
      "cell_type": "markdown",
      "id": "b73l5sk7U3JP",
      "metadata": {
        "id": "b73l5sk7U3JP"
      },
      "source": [
        "### Find 's neighbors. And calculate their average degree.\n"
      ]
    },
    {
      "cell_type": "markdown",
      "id": "Lz237MldaPH2",
      "metadata": {
        "id": "Lz237MldaPH2"
      },
      "source": [
        "First the neghbours are found:"
      ]
    },
    {
      "cell_type": "code",
      "execution_count": 97,
      "id": "IvgNiAOxaHYP",
      "metadata": {
        "colab": {
          "base_uri": "https://localhost:8080/"
        },
        "id": "IvgNiAOxaHYP",
        "outputId": "d745e57d-8942-4c0b-bb6d-747604c69f43"
      },
      "outputs": [
        {
          "name": "stdout",
          "output_type": "stream",
          "text": [
            "[2273, 1795]\n"
          ]
        }
      ],
      "source": [
        "sp = nx.single_source_shortest_path_length(G, sample)\n",
        "\n",
        "l2 = []\n",
        "for node in sp:\n",
        "    if sp[node] == 1:\n",
        "        l2.append(node)\n",
        "        \n",
        "print(l2)"
      ]
    },
    {
      "cell_type": "markdown",
      "id": "2Hr3tK1CaSlm",
      "metadata": {
        "id": "2Hr3tK1CaSlm"
      },
      "source": [
        "And then their average degree:"
      ]
    },
    {
      "cell_type": "code",
      "execution_count": 98,
      "id": "39er3dRPaOG1",
      "metadata": {
        "colab": {
          "base_uri": "https://localhost:8080/"
        },
        "id": "39er3dRPaOG1",
        "outputId": "4efbb409-9f38-448a-bb6f-535133d58a6f"
      },
      "outputs": [
        {
          "name": "stdout",
          "output_type": "stream",
          "text": [
            "3.5\n"
          ]
        }
      ],
      "source": [
        "degs1 = []\n",
        "\n",
        "for node in l2:\n",
        "    degs1.append(G.degree[node])\n",
        "    \n",
        "res1 = sum(degs1)/len(degs1)\n",
        "print(res1)"
      ]
    },
    {
      "cell_type": "markdown",
      "id": "XmyD7sVEU5WG",
      "metadata": {
        "id": "XmyD7sVEU5WG"
      },
      "source": [
        "### Compare the two numbers to check if it's true that $i$'s friends (on average) have more friends than $i$.\n"
      ]
    },
    {
      "cell_type": "code",
      "execution_count": 99,
      "id": "vQ_ZXXgPaW1C",
      "metadata": {
        "colab": {
          "base_uri": "https://localhost:8080/"
        },
        "id": "vQ_ZXXgPaW1C",
        "outputId": "f8cd4840-db2a-42c8-9a6d-9b681a8ab417"
      },
      "outputs": [
        {
          "name": "stdout",
          "output_type": "stream",
          "text": [
            "Average degree of neighbours: 3.5\n",
            "Degree of random node: 2\n",
            "The friendship paradox is ['True']\n"
          ]
        }
      ],
      "source": [
        "compare = []\n",
        "\n",
        "print('Average degree of neighbours: ' + str(res1))\n",
        "print('Degree of random node: ' + str(ran))\n",
        "\n",
        "if res1 > ran:\n",
        "    compare.append(\"True\")\n",
        "else: \n",
        "    compare.append(\"False\")\n",
        "\n",
        "print('The friendship paradox is ' + str(compare))"
      ]
    },
    {
      "cell_type": "markdown",
      "id": "aJfQTCKCU8DU",
      "metadata": {
        "id": "aJfQTCKCU8DU"
      },
      "source": [
        "### Do this 1000 times. How many out of those 1000 times is the friendship paradox true in F-BA?"
      ]
    },
    {
      "cell_type": "code",
      "execution_count": 100,
      "id": "Da-bd_FLaby5",
      "metadata": {
        "colab": {
          "base_uri": "https://localhost:8080/"
        },
        "id": "Da-bd_FLaby5",
        "outputId": "f98045d2-bd54-415b-d663-52ee46fe3391"
      },
      "outputs": [
        {
          "name": "stdout",
          "output_type": "stream",
          "text": [
            "The answer is correct 87.6% of the time\n"
          ]
        }
      ],
      "source": [
        "for x in range(999):\n",
        "    sample = rd.sample(G.nodes, 1)\n",
        "    sample = sample[0]\n",
        "    ran = G.degree[sample]\n",
        "\n",
        "    sp = nx.single_source_shortest_path_length(G, sample)\n",
        "    l2 = []\n",
        "    for node in sp:\n",
        "        if sp[node] == 1:\n",
        "            l2.append(node)\n",
        "\n",
        "    degs1 = []\n",
        "    for node in l2:\n",
        "        degs1.append(G.degree[node])   \n",
        "    res1 = sum(degs1)/len(degs1)\n",
        "        \n",
        "    if res1 > ran:\n",
        "        compare.append(\"True\")\n",
        "    else: \n",
        "        compare.append(\"False\")\n",
        "\n",
        "final = (compare.count(\"True\")/1000)*100\n",
        "\n",
        "print(\"The answer is correct \" + str(final) + \"% of the time\")"
      ]
    },
    {
      "cell_type": "markdown",
      "id": "L-foA_CufUZd",
      "metadata": {
        "id": "L-foA_CufUZd"
      },
      "source": [
        "## B. The friendship paradox more generally"
      ]
    },
    {
      "cell_type": "markdown",
      "id": "8QgpYYazhh7Z",
      "metadata": {
        "id": "8QgpYYazhh7Z"
      },
      "source": [
        "### Will the fraction of times the paradox is true be higher or lower if the power law is flatter with a value of $γ=1.5$?"
      ]
    },
    {
      "cell_type": "markdown",
      "id": "FoSmHbVGiU5V",
      "metadata": {
        "id": "FoSmHbVGiU5V"
      },
      "source": [
        "We know from the book *Network Science by Albert-László Barabási* that there are three regimes dependent on the degree exponent, $γ$. The Anomalous Regime is when $(γ≤ 2)$, and in this regime \"the number of links connected to the largest hub grows faster than the size of the network\" (section 4.7). From this we get that there will be a very high average degree, and hence it is expected that the friendship paradox will hold true in more situations."
      ]
    },
    {
      "cell_type": "markdown",
      "id": "qHkcM9pmfZey",
      "metadata": {
        "id": "qHkcM9pmfZey"
      },
      "source": [
        "### Simulating a new network with $γ=1.5$ and power-law degree distributions by using the configuation model."
      ]
    },
    {
      "cell_type": "code",
      "execution_count": 4,
      "id": "MkXy65S-Up41",
      "metadata": {
        "id": "MkXy65S-Up41"
      },
      "outputs": [],
      "source": [
        "import networkx as nx\n",
        "from networkx import configuration_model\n",
        "from networkx.utils import powerlaw_sequence\n",
        "\n",
        "N = 5000 \n",
        "\n",
        "seq = powerlaw_sequence(N, exponent=1.5, seed=None)\n",
        "#print(seq)\n",
        "\n",
        "for i in range(len(seq)):\n",
        "  seq[i] = round(seq[i])\n",
        "\n",
        "#print(seq)\n",
        "seq[0]=seq[0]+1\n",
        "#print(seq)\n",
        "\n",
        "G = nx.configuration_model(seq)\n",
        "G = nx.Graph(G) # Removing parallel links\n",
        "G.remove_edges_from(nx.selfloop_edges(G)) # Removing self-loops"
      ]
    },
    {
      "cell_type": "markdown",
      "id": "wolMYTAN-Ews",
      "metadata": {
        "id": "wolMYTAN-Ews"
      },
      "source": [
        "And now testing how often the friendhip paradox holds true with the new slope."
      ]
    },
    {
      "cell_type": "code",
      "execution_count": 5,
      "id": "JdFBKLTjdceU",
      "metadata": {
        "colab": {
          "base_uri": "https://localhost:8080/"
        },
        "id": "JdFBKLTjdceU",
        "outputId": "7f650d3c-fa4c-4e7e-ae78-08521f11617b"
      },
      "outputs": [
        {
          "name": "stdout",
          "output_type": "stream",
          "text": [
            "The answer is correct 98.8% of the time\n"
          ]
        }
      ],
      "source": [
        "import random as rd\n",
        "\n",
        "compare = []\n",
        "\n",
        "for x in range(999):\n",
        "    samples = rd.sample(G.nodes, 1)\n",
        "    sample = rd.choice(samples)\n",
        "    ran = G.degree[sample]\n",
        "\n",
        "    sp = nx.single_source_shortest_path_length(G, sample)\n",
        "    l2 = []\n",
        "    for node in sp:\n",
        "        if sp[node] == 1:\n",
        "            l2.append(node)\n",
        "\n",
        "    degs1 = []\n",
        "    for node in l2:\n",
        "        degs1.append(G.degree[node])   \n",
        "    res1 = sum(degs1)/len(degs1)\n",
        "        \n",
        "    if res1 > ran:\n",
        "        compare.append(\"True\")\n",
        "    else: \n",
        "        compare.append(\"False\")\n",
        "\n",
        "final = (compare.count(\"True\")/1000)*100\n",
        "\n",
        "print(\"The answer is correct \" + str(final) + \"% of the time\")"
      ]
    },
    {
      "cell_type": "markdown",
      "id": "R77a9bLPovYP",
      "metadata": {
        "id": "R77a9bLPovYP"
      },
      "source": [
        "### Did you reason correctly above? For what fraction of the time is the friendship paradox true for your network with a new slope?"
      ]
    },
    {
      "cell_type": "markdown",
      "id": "6JLgIzhcgbxG",
      "metadata": {
        "id": "6JLgIzhcgbxG"
      },
      "source": [
        "We see from these results that a flatter power law of $γ=1.5$ increases the fraction of times for which the friendship paradox is true, with correct predictions $98.9%$ of the time. This is also what we expected from the theoretical reasoning."
      ]
    },
    {
      "cell_type": "markdown",
      "id": "hJfwiOjImiVr",
      "metadata": {
        "id": "hJfwiOjImiVr"
      },
      "source": [
        "### Now generating a network for the configuration model that has the same slope and number of nodes as the F-BA model."
      ]
    },
    {
      "cell_type": "markdown",
      "id": "lY7Yf9MSp5jY",
      "metadata": {
        "id": "lY7Yf9MSp5jY"
      },
      "source": [
        "Again, we know from the book *Network Science by Albert-László Barabási (section 5.5)* that the Barabási-Albert model has a degree exponent of $γ=3$.\n",
        "\n",
        "This means that we will now generate a network for the configuration model with a slope of 3 and 5000 nodes."
      ]
    },
    {
      "cell_type": "code",
      "execution_count": 8,
      "id": "Yli2wFsBmnjc",
      "metadata": {
        "id": "Yli2wFsBmnjc"
      },
      "outputs": [],
      "source": [
        "N = 5000\n",
        "\n",
        "seq = powerlaw_sequence(N, exponent=3, seed=None)\n",
        "#print(seq)\n",
        "\n",
        "for i in range(len(seq)):\n",
        "  seq[i] = round(seq[i])\n",
        "\n",
        "#print(seq)\n",
        "seq[0]=seq[0]+1\n",
        "#print(seq)\n",
        "\n",
        "G = nx.configuration_model(seq)\n",
        "G = nx.Graph(G) # Removing parallel links\n",
        "G.remove_edges_from(nx.selfloop_edges(G)) # Removing self-loops\n",
        "\n"
      ]
    },
    {
      "cell_type": "markdown",
      "id": "rFVm21rRq2PP",
      "metadata": {
        "id": "rFVm21rRq2PP"
      },
      "source": [
        "### The fraction of times that the friendship paradox holds true is found"
      ]
    },
    {
      "cell_type": "code",
      "execution_count": 9,
      "id": "Ohjl-xWKrB-C",
      "metadata": {
        "colab": {
          "base_uri": "https://localhost:8080/"
        },
        "id": "Ohjl-xWKrB-C",
        "outputId": "d2ff8f30-9d9b-4a0e-a62c-cfea2d24c580"
      },
      "outputs": [
        {
          "name": "stdout",
          "output_type": "stream",
          "text": [
            "The answer is correct 62.6% of the time\n"
          ]
        }
      ],
      "source": [
        "compare = []\n",
        "\n",
        "for x in range(999):\n",
        "    samples = rd.sample(G.nodes, 1)\n",
        "    sample = rd.choice(samples)\n",
        "    ran = G.degree[sample]\n",
        "\n",
        "    sp = nx.single_source_shortest_path_length(G, sample)\n",
        "    l2 = []\n",
        "    for node in sp:\n",
        "        if sp[node] == 1:\n",
        "            l2.append(node)\n",
        "\n",
        "    degs1 = []\n",
        "    for node in l2:\n",
        "        degs1.append(G.degree[node])   \n",
        "    res1 = sum(degs1)/len(degs1)\n",
        "        \n",
        "    if res1 > ran:\n",
        "        compare.append(\"True\")\n",
        "    else: \n",
        "        compare.append(\"False\")\n",
        "\n",
        "final = (compare.count(\"True\")/1000)*100\n",
        "\n",
        "print(\"The answer is correct \" + str(final) + \"% of the time\")"
      ]
    },
    {
      "cell_type": "markdown",
      "id": "yVJse6xWrOLG",
      "metadata": {
        "id": "yVJse6xWrOLG"
      },
      "source": [
        "We see that the friendship paradox holds true in significantly fewer cases."
      ]
    },
    {
      "cell_type": "markdown",
      "id": "zsNT4TfVvKdO",
      "metadata": {
        "id": "zsNT4TfVvKdO"
      },
      "source": [
        "### Are there factors beyond the degree-distribution that could impact how frequently the friendship paradox is true?\n",
        "\n",
        "Now we have seen, how networks with a scale-free property are much more prone to follow the friendship paradox.\n",
        "Other network properties also have an impact on this, as networks with identical degree distributions still show different structures in the resulting networks as stated in *Network Science\n",
        "by Albert-László Barabási (section 7.2)*. \n",
        "\n",
        "An example of this is assortivity, where the hubs in a network tend to connect to each other, rather than to nodes of low degree.\n",
        "\n",
        "Another example is the community structure, which results from connected subgraphs in a network, where nodes have a much lower probability of being linked to other nodes outside of the community."
      ]
    },
    {
      "cell_type": "markdown",
      "id": "OwUIqRv3vQRF",
      "metadata": {
        "id": "OwUIqRv3vQRF"
      },
      "source": [
        "### How would you test more rigorously if the friendship-paradox is actually true equally often in F-BA and F-CM? "
      ]
    },
    {
      "cell_type": "markdown",
      "id": "h8pirb-4ws6d",
      "metadata": {
        "id": "h8pirb-4ws6d"
      },
      "source": [
        "A comparison of the distribution of nodes for the two networks could be a way to represent how the friendship paradox varies."
      ]
    },
    {
      "cell_type": "markdown",
      "id": "a88b5a10",
      "metadata": {
        "id": "a88b5a10"
      },
      "source": [
        "# Part 6: Growth without Preferential Attachment"
      ]
    },
    {
      "cell_type": "markdown",
      "id": "DNXSBwlGevvw",
      "metadata": {
        "id": "DNXSBwlGevvw"
      },
      "source": [
        "### Finally, we'll build a network of same size and degree as in Part 5, using the growth mechanism without the preferential attachment. Follow the steps below for success.\n",
        "\n",
        "### Grow a network with the same parameters as above, i.e. 5000 nodes, each new node connects to the existing network, but have the incoming nodes connect to the existing nodes with equal probability. Let's call this the Sune-network.\n",
        "\n"
      ]
    },
    {
      "cell_type": "code",
      "execution_count": 10,
      "id": "Dqrrtd6pe6wg",
      "metadata": {
        "id": "Dqrrtd6pe6wg"
      },
      "outputs": [],
      "source": [
        "#Function to grow graph without using preferential attachment to size n\n",
        "def grow_without_pa(Graph,n):\n",
        "    for i in range(n-len(Graph.nodes)):\n",
        "        node = len(Graph.nodes)+1\n",
        "        Graph.add_node(node)\n",
        "        Graph.add_edge(node,np.random.choice(list(Graph.nodes)))\n",
        "    return Graph"
      ]
    },
    {
      "cell_type": "code",
      "execution_count": 12,
      "id": "hsYjRBfNfIji",
      "metadata": {
        "id": "hsYjRBfNfIji"
      },
      "outputs": [],
      "source": [
        "import numpy as np\n",
        "\n",
        "N = 5000\n",
        "Sune = nx.Graph()\n",
        "Sune.add_nodes_from([1,2])\n",
        "Sune.add_edge(1,2)\n",
        "Sune = grow_without_pa(Sune,N)\n"
      ]
    },
    {
      "cell_type": "markdown",
      "id": "zN7JKN1CsTDf",
      "metadata": {
        "id": "zN7JKN1CsTDf"
      },
      "source": [
        "### Generate an ER network of same size and same  as the Sune-network."
      ]
    },
    {
      "cell_type": "code",
      "execution_count": 13,
      "id": "45t23TelsTz8",
      "metadata": {
        "id": "45t23TelsTz8"
      },
      "outputs": [],
      "source": [
        "p = (N-1)/((N*(N-1))/2)\n",
        "ER = nx.erdos_renyi_graph(N,p)"
      ]
    },
    {
      "cell_type": "markdown",
      "id": "w4LTzfoIe1Ek",
      "metadata": {
        "id": "w4LTzfoIe1Ek"
      },
      "source": [
        "### What are the differences between the ER network and the Sune-network? Explain in your own words.\n",
        "### Hints: To get started, plot the two degree distribution in the same plot. Compare and contrast."
      ]
    },
    {
      "cell_type": "code",
      "execution_count": 15,
      "id": "c2db2f19",
      "metadata": {
        "colab": {
          "base_uri": "https://localhost:8080/",
          "height": 312
        },
        "id": "c2db2f19",
        "outputId": "5656990c-50f6-4645-86b9-406441ddc2be"
      },
      "outputs": [
        {
          "data": {
            "image/png": "[encoded data removed]",
            "text/plain": [
              "<Figure size 432x288 with 2 Axes>"
            ]
          },
          "metadata": {
            "needs_background": "light"
          },
          "output_type": "display_data"
        }
      ],
      "source": [
        "import matplotlib.pyplot as plt\n",
        "\n",
        "deg_list_Sune = np.array(list(d for n, d in Sune.degree()))\n",
        "deg_max_Sune = np.max(deg_list_Sune)\n",
        "deg_min_Sune = np.min(deg_list_Sune)\n",
        "\n",
        "deg_dist_Sune = np.histogram(deg_list_Sune,bins=np.arange(deg_min_Sune,deg_max_Sune+2))\n",
        "\n",
        "deg_list_ER = np.array(list(d for n, d in ER.degree()))\n",
        "deg_max_ER = np.max(deg_list_ER)\n",
        "deg_min_ER = np.min(deg_list_ER)\n",
        "\n",
        "deg_dist_ER = np.histogram(deg_list_ER,bins=np.arange(deg_min_ER,deg_max_ER+2))\n",
        "\n",
        "\n",
        "size = 10\n",
        "fig = plt.figure()\n",
        "ax1 = fig.add_subplot(211)\n",
        "ax1.scatter(deg_dist_Sune[1][:-1],deg_dist_Sune[0],s=size,c=\"Blue\")\n",
        "ax1.scatter(deg_dist_ER[1][:-1],deg_dist_ER[0],s=size,c=\"Red\")\n",
        "ax1.set_ylabel('count')\n",
        "\n",
        "ax2 = fig.add_subplot(212)\n",
        "ax2.scatter(deg_dist_Sune[1][:-1],deg_dist_Sune[0],s=size,c=\"Blue\")\n",
        "ax2.scatter(deg_dist_ER[1][:-1],deg_dist_ER[0],s=size,c=\"Red\")\n",
        "ax2.set_yscale('log')\n",
        "ax2.set_xscale('log')\n",
        "ax2.set_ylabel('count')\n",
        "ax2.set_xlabel('k')\n",
        "\n",
        "fig.legend([\"BA without PA\",\"ER\"],bbox_to_anchor=(.70, 0., .5, .6))\n",
        "fig.suptitle(\"Degree distribution\")\n",
        "\n",
        "fig.show()"
      ]
    },
    {
      "cell_type": "markdown",
      "id": "Z9XscmNnODsS",
      "metadata": {
        "id": "Z9XscmNnODsS"
      },
      "source": [
        "First of all, we see that the ER model follows a Poisson degree distribution. \n",
        "\n",
        "Further, a difference between the ER network and the BA network without preferential attachment, is that all nodes in the BA network has at least one link, as a link is created when a node is \"grown\". This is in oppose to the ER network, which has nodes with no links as we see on the plot. \n",
        "\n",
        "We also see that the maximum degree of the BA network is larger than for the ER.The degree distribution of both networks follow roughly the same distribution after degree 1 but diverges again around degree 10.\n"
      ]
    },
    {
      "cell_type": "markdown",
      "id": "KVpQ1kVcZULj",
      "metadata": {
        "id": "KVpQ1kVcZULj"
      },
      "source": [
        "### Another revealing network property to study is the the number of connected components."
      ]
    },
    {
      "cell_type": "code",
      "execution_count": 16,
      "id": "qlqw60LFEKWq",
      "metadata": {
        "colab": {
          "base_uri": "https://localhost:8080/"
        },
        "id": "qlqw60LFEKWq",
        "outputId": "40ba7cbc-7b28-40bd-e8ca-5a33759d5891"
      },
      "outputs": [
        {
          "data": {
            "text/plain": [
              "815"
            ]
          },
          "execution_count": 16,
          "metadata": {},
          "output_type": "execute_result"
        }
      ],
      "source": [
        "nx.number_connected_components(ER)"
      ]
    },
    {
      "cell_type": "code",
      "execution_count": 17,
      "id": "UYxpMXTsEtwH",
      "metadata": {
        "colab": {
          "base_uri": "https://localhost:8080/"
        },
        "id": "UYxpMXTsEtwH",
        "outputId": "2ffc8aa2-64a9-4107-f015-d89459cd8b05"
      },
      "outputs": [
        {
          "data": {
            "text/plain": [
              "7"
            ]
          },
          "execution_count": 17,
          "metadata": {},
          "output_type": "execute_result"
        }
      ],
      "source": [
        "nx.number_connected_components(Sune)"
      ]
    },
    {
      "cell_type": "markdown",
      "id": "XCLjaYarZJW4",
      "metadata": {
        "id": "XCLjaYarZJW4"
      },
      "source": [
        "From this we see that the ER network has a significantly higher number of connected components compare to the Sune network. This is because of the growth of the BA network."
      ]
    }
  ],
  "metadata": {
    "colab": {
      "collapsed_sections": [],
      "provenance": []
    },
    "kernelspec": {
      "display_name": "Python 3.10.6 ('finalProject')",
      "language": "python",
      "name": "python3"
    },
    "language_info": {
      "codemirror_mode": {
        "name": "ipython",
        "version": 3
      },
      "file_extension": ".py",
      "mimetype": "text/x-python",
      "name": "python",
      "nbconvert_exporter": "python",
      "pygments_lexer": "ipython3",
      "version": "3.10.6"
    },
    "vscode": {
      "interpreter": {
        "hash": "6660c4c3f7c9d1098771c7f136eb99dd50ad244ab1f533ce926e29d70a0433b6"
      }
    }
  },
  "nbformat": 4,
  "nbformat_minor": 5
}
