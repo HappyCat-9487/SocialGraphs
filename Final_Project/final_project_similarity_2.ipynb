{
 "cells": [
  {
   "cell_type": "code",
   "execution_count": 15,
   "metadata": {},
   "outputs": [
    {
     "name": "stderr",
     "output_type": "stream",
     "text": [
      "[nltk_data] Downloading package stopwords to\n",
      "[nltk_data]     /Users/luchengliang/nltk_data...\n",
      "[nltk_data]   Package stopwords is already up-to-date!\n"
     ]
    }
   ],
   "source": [
    "import pandas as pd\n",
    "import urllib3\n",
    "import re\n",
    "import json\n",
    "import numpy as np\n",
    "import networkx as nx\n",
    "from melonapi import scrapeMelon\n",
    "import ast\n",
    "import os\n",
    "import spacy\n",
    "import warnings\n",
    "import nltk\n",
    "nltk.download('stopwords')\n",
    "from nltk.corpus import stopwords\n",
    "from nltk.tokenize import word_tokenize\n",
    "import matplotlib.pyplot as plt\n",
    "from fa2 import ForceAtlas2\n",
    "from bs4 import BeautifulSoup\n",
    "from selenium import webdriver\n",
    "from webdriver_manager.chrome import ChromeDriverManager\n",
    "from tqdm import tqdm\n",
    "#import translators as ts\n",
    "#ts.google"
   ]
  },
  {
   "cell_type": "markdown",
   "metadata": {},
   "source": [
    "<h2>Nodes, Edges<h2>"
   ]
  },
  {
   "cell_type": "code",
   "execution_count": 22,
   "metadata": {},
   "outputs": [
    {
     "data": {
      "text/plain": [
       "'{\"1\": {\"name\": \"사건의 지평선\", \"artists\": \"윤하 (YOUNHA)\", \"ranking\": 1, \"songId\": \"34819473\", \"albumId\": \"10903868\"}, \"2\": {\"name\": \"ANTIFRAGILE\", \"artists\": \"LE SSERAFIM (르세라핌)\", \"ranking\": 2, \"songId\": \"35729104\", \"albumId\": \"11078496\"}, \"3\": {\"name\": \"Nxde\", \"artists\": \"(여자)아이들\", \"ranking\": 3, \"songId\": \"35730562\", \"albumId\": \"11078852\"}, \"4\": {\"name\": \"Hype boy\", \"artists\": \"NewJeans\", \"ranking\": 4, \"songId\": \"35454426\", \"albumId\": \"11011565\"}, \"5\": {\"name\": \"After LIKE\", \"artists\": \"IVE (아이브)\", \"ranking\": 5, \"songId\": \"35546497\", \"albumId\": \"11034298\"}, \"6\": {\"name\": \"새삥 (Prod. ZICO) (Feat. 호미들)\", \"artists\": \"지코 (ZICO)\", \"ranking\": 6, \"songId\": \"35595136\", \"albumId\": \"11045985\"}, \"7\": {\"name\": \"Attention\", \"artists\": \"NewJeans\", \"ranking\": 7, \"songId\": \"35454425\", \"albumId\": \"11011565\"}, \"8\": {\"name\": \"Rush Hour (Feat. j-hope of BTS)\", \"artists\": \"Crush\", \"ranking\": 8, \"songId\": \"35665282\", \"albumId\": \"11062364\"}, \"9\": {\"name\": \"Monologue\", \"artists\": \"테이\", \"ranking\": 9, \"songId\": \"35643794\", \"albumId\": \"11057545\"}, \"10\": {\"name\": \"LOVE DIVE\", \"artists\": \"IVE (아이브)\", \"ranking\": 10, \"songId\": \"34847378\", \"albumId\": \"10909179\"}, \"11\": {\"name\": \"Shut Down\", \"artists\": \"BLACKPINK\", \"ranking\": 11, \"songId\": \"35640077\", \"albumId\": \"11033394\"}, \"12\": {\"name\": \"Pink Venom\", \"artists\": \"BLACKPINK\", \"ranking\": 12, \"songId\": \"35542908\", \"albumId\": \"11033394\"}, \"13\": {\"name\": \"자격지심 (Feat. ZICO)\", \"artists\": \"BE\\'O (비오)\", \"ranking\": 13, \"songId\": \"35685439\", \"albumId\": \"11067591\"}, \"14\": {\"name\": \"해요 (2022)\", \"artists\": \"#안녕\", \"ranking\": 14, \"songId\": \"35252996\", \"albumId\": \"10975276\"}, \"15\": {\"name\": \"딱 10CM만\", \"artists\": \"10CM, BIG Naughty (서동현)\", \"ranking\": 15, \"songId\": \"35668899\", \"albumId\": \"11063205\"}, \"16\": {\"name\": \"그때 그 순간 그대로 (그그그)\", \"artists\": \"WSG워너비 (가야G)\", \"ranking\": 16, \"songId\": \"35383397\", \"albumId\": \"11000171\"}, \"17\": {\"name\": \"사랑은 늘 도망가\", \"artists\": \"임영웅\", \"ranking\": 17, \"songId\": \"34061322\", \"albumId\": \"10735654\"}, \"18\": {\"name\": \"사랑인가 봐\", \"artists\": \"멜로망스\", \"ranking\": 18, \"songId\": \"34657844\", \"albumId\": \"10871162\"}, \"19\": {\"name\": \"TOMBOY\", \"artists\": \"(여자)아이들\", \"ranking\": 19, \"songId\": \"34754292\", \"albumId\": \"10890384\"}, \"20\": {\"name\": \"내가 아니라도\", \"artists\": \"주호\", \"ranking\": 20, \"songId\": \"34787226\", \"albumId\": \"10897407\"}, \"21\": {\"name\": \"그라데이션\", \"artists\": \"10CM\", \"ranking\": 21, \"songId\": \"35361345\", \"albumId\": \"10995477\"}, \"22\": {\"name\": \"너의 모든 순간\", \"artists\": \"성시경\", \"ranking\": 22, \"songId\": \"4446485\", \"albumId\": \"2232505\"}, \"23\": {\"name\": \"우린 그렇게 사랑해서\", \"artists\": \"강민경 (다비치), 잔나비 최정훈\", \"ranking\": 23, \"songId\": \"35669445\", \"albumId\": \"11063334\"}, \"24\": {\"name\": \"Cookie\", \"artists\": \"NewJeans\", \"ranking\": 24, \"songId\": \"35485544\", \"albumId\": \"11011565\"}, \"25\": {\"name\": \"정이라고 하자 (Feat. 10CM)\", \"artists\": \"BIG Naughty (서동현)\", \"ranking\": 25, \"songId\": \"34927767\", \"albumId\": \"10925762\"}, \"26\": {\"name\": \"FEARLESS\", \"artists\": \"LE SSERAFIM (르세라핌)\", \"ranking\": 26, \"songId\": \"35009233\", \"albumId\": \"10939458\"}, \"27\": {\"name\": \"나의 X에게\", \"artists\": \"경서\", \"ranking\": 27, \"songId\": \"34943312\", \"albumId\": \"10929486\"}, \"28\": {\"name\": \"취중고백\", \"artists\": \"김민석 (멜로망스)\", \"ranking\": 28, \"songId\": \"34431086\", \"albumId\": \"10816959\"}, \"29\": {\"name\": \"보고싶었어\", \"artists\": \"WSG워너비 (4FIRE)\", \"ranking\": 29, \"songId\": \"35383398\", \"albumId\": \"11000171\"}, \"30\": {\"name\": \"ELEVEN\", \"artists\": \"IVE (아이브)\", \"ranking\": 30, \"songId\": \"34349913\", \"albumId\": \"10798794\"}, \"31\": {\"name\": \"떠나보낼 준비해 둘걸 그랬어\", \"artists\": \"임한별\", \"ranking\": 31, \"songId\": \"35730698\", \"albumId\": \"11078887\"}, \"32\": {\"name\": \"That\\'s Hilarious\", \"artists\": \"Charlie Puth\", \"ranking\": 32, \"songId\": \"34864406\", \"albumId\": \"10844485\"}, \"33\": {\"name\": \"Dreamers [Music from the FIFA World Cup Qatar 2022 Official Soundtrack] (Feat. FIFA Sound)\", \"artists\": \"정국, 방탄소년단\", \"ranking\": 33, \"songId\": \"35849863\", \"albumId\": \"11106209\"}, \"34\": {\"name\": \"다정히 내 이름을 부르면\", \"artists\": \"경서예지, 전건호\", \"ranking\": 34, \"songId\": \"33496587\", \"albumId\": \"10610525\"}, \"35\": {\"name\": \"우리들의 블루스\", \"artists\": \"임영웅\", \"ranking\": 35, \"songId\": \"34908740\", \"albumId\": \"10923444\"}, \"36\": {\"name\": \"That That (prod. & feat. SUGA of BTS)\", \"artists\": \"싸이 (PSY)\", \"ranking\": 36, \"songId\": \"34997078\", \"albumId\": \"10937474\"}, \"37\": {\"name\": \"내 기쁨은 너가 벤틀리를 끄는 거야\", \"artists\": \"김승민\", \"ranking\": 37, \"songId\": \"34100776\", \"albumId\": \"10743373\"}, \"38\": {\"name\": \"I Don\\'t Think That I Like Her\", \"artists\": \"Charlie Puth\", \"ranking\": 38, \"songId\": \"35640751\", \"albumId\": \"10844485\"}, \"39\": {\"name\": \"LOVE me\", \"artists\": \"BE\\'O (비오)\", \"ranking\": 39, \"songId\": \"34875621\", \"albumId\": \"10916904\"}, \"40\": {\"name\": \"주저하는 연인들을 위해\", \"artists\": \"잔나비\", \"ranking\": 40, \"songId\": \"31666417\", \"albumId\": \"10260858\"}, \"41\": {\"name\": \"새벽에 걸려온 너의 전화는\", \"artists\": \"한동근\", \"ranking\": 41, \"songId\": \"35484543\", \"albumId\": \"11017954\"}, \"42\": {\"name\": \"모든 날, 모든 순간 (Every day, Every Moment)\", \"artists\": \"폴킴\", \"ranking\": 42, \"songId\": \"30962526\", \"albumId\": \"10149492\"}, \"43\": {\"name\": \"첫사랑\", \"artists\": \"백아\", \"ranking\": 43, \"songId\": \"31343875\", \"albumId\": \"10210149\"}, \"44\": {\"name\": \"FOREVER 1\", \"artists\": \"소녀시대 (GIRLS\\' GENERATION)\", \"ranking\": 44, \"songId\": \"35504734\", \"albumId\": \"11023224\"}, \"45\": {\"name\": \"고백연습\", \"artists\": \"경서\", \"ranking\": 45, \"songId\": \"35779712\", \"albumId\": \"11089677\"}, \"46\": {\"name\": \"Love story\", \"artists\": \"볼빨간사춘기\", \"ranking\": 46, \"songId\": \"34930368\", \"albumId\": \"10926502\"}, \"47\": {\"name\": \"밤하늘의 별을(2020)\", \"artists\": \"경서\", \"ranking\": 47, \"songId\": \"33061995\", \"albumId\": \"10518234\"}, \"48\": {\"name\": \"STAY\", \"artists\": \"The Kid LAROI, Justin Bieber\", \"ranking\": 48, \"songId\": \"33658563\", \"albumId\": \"10646395\"}, \"49\": {\"name\": \"SNEAKERS\", \"artists\": \"ITZY (있지)\", \"ranking\": 49, \"songId\": \"35413033\", \"albumId\": \"11004992\"}, \"50\": {\"name\": \"다시 만날 수 있을까\", \"artists\": \"임영웅\", \"ranking\": 50, \"songId\": \"35008524\", \"albumId\": \"10923444\"}, \"51\": {\"name\": \"봄여름가을겨울 (Still Life)\", \"artists\": \"BIGBANG (빅뱅)\", \"ranking\": 51, \"songId\": \"34845949\", \"albumId\": \"10908834\"}, \"52\": {\"name\": \"도깨비불 (Illusion)\", \"artists\": \"aespa\", \"ranking\": 52, \"songId\": \"35238221\", \"albumId\": \"10972706\"}, \"53\": {\"name\": \"Dynamite\", \"artists\": \"방탄소년단\", \"ranking\": 53, \"songId\": \"32872978\", \"albumId\": \"10479150\"}, \"54\": {\"name\": \"사랑한다고 말해줘\", \"artists\": \"탑현\", \"ranking\": 54, \"songId\": \"35505810\", \"albumId\": \"11023572\"}, \"55\": {\"name\": \"LAW (Prod. Czaer)\", \"artists\": \"윤미래, 비비 (BIBI)\", \"ranking\": 55, \"songId\": \"35595137\", \"albumId\": \"11045985\"}, \"56\": {\"name\": \"Left and Right (Feat. Jung Kook of BTS)\", \"artists\": \"Charlie Puth, 정국, 방탄소년단\", \"ranking\": 56, \"songId\": \"35331586\", \"albumId\": \"10989806\"}, \"57\": {\"name\": \"스티커 사진\", \"artists\": \"21학번\", \"ranking\": 57, \"songId\": \"35391594\", \"albumId\": \"11001347\"}, \"58\": {\"name\": \"POP!\", \"artists\": \"나연 (TWICE)\", \"ranking\": 58, \"songId\": \"35333345\", \"albumId\": \"10990161\"}, \"59\": {\"name\": \"Feel My Rhythm\", \"artists\": \"Red Velvet (레드벨벳)\", \"ranking\": 59, \"songId\": \"34772475\", \"albumId\": \"10894554\"}, \"60\": {\"name\": \"내 손을 잡아\", \"artists\": \"아이유\", \"ranking\": 60, \"songId\": \"3414749\", \"albumId\": \"1286252\"}, \"61\": {\"name\": \"Birthday\", \"artists\": \"Red Velvet (레드벨벳)\", \"ranking\": 61, \"songId\": \"35868657\", \"albumId\": \"11110911\"}, \"62\": {\"name\": \"이제 나만 믿어요\", \"artists\": \"임영웅\", \"ranking\": 62, \"songId\": \"32508053\", \"albumId\": \"10412319\"}, \"63\": {\"name\": \"신호등\", \"artists\": \"이무진\", \"ranking\": 63, \"songId\": \"33480898\", \"albumId\": \"10607796\"}, \"64\": {\"name\": \"London Boy\", \"artists\": \"임영웅\", \"ranking\": 64, \"songId\": \"35834583\", \"albumId\": \"11102375\"}, \"65\": {\"name\": \"Snowman\", \"artists\": \"Sia\", \"ranking\": 65, \"songId\": \"30717645\", \"albumId\": \"10107511\"}, \"66\": {\"name\": \"INVU\", \"artists\": \"태연 (TAEYEON)\", \"ranking\": 66, \"songId\": \"34626109\", \"albumId\": \"10863559\"}, \"67\": {\"name\": \"strawberry moon\", \"artists\": \"아이유\", \"ranking\": 67, \"songId\": \"34101563\", \"albumId\": \"10743453\"}, \"68\": {\"name\": \"Butter\", \"artists\": \"방탄소년단\", \"ranking\": 68, \"songId\": \"33507137\", \"albumId\": \"10612483\"}, \"69\": {\"name\": \"그래서 그대는\", \"artists\": \"이영현\", \"ranking\": 69, \"songId\": \"35709043\", \"albumId\": \"11073603\"}, \"70\": {\"name\": \"Off My Face\", \"artists\": \"Justin Bieber\", \"ranking\": 70, \"songId\": \"33359309\", \"albumId\": \"10580103\"}, \"71\": {\"name\": \"드라마\", \"artists\": \"아이유\", \"ranking\": 71, \"songId\": \"34481680\", \"albumId\": \"10827816\"}, \"72\": {\"name\": \"무지개\", \"artists\": \"임영웅\", \"ranking\": 72, \"songId\": \"35008525\", \"albumId\": \"10923444\"}, \"73\": {\"name\": \"회전목마 (Feat. Zion.T, 원슈타인) (Prod. Slom)\", \"artists\": \"sokodomo\", \"ranking\": 73, \"songId\": \"34256568\", \"albumId\": \"10775252\"}, \"74\": {\"name\": \"통화연결음\", \"artists\": \"보라미유, MJ (써니사이드)\", \"ranking\": 74, \"songId\": \"35526685\", \"albumId\": \"11029030\"}, \"75\": {\"name\": \"Next Level\", \"artists\": \"aespa\", \"ranking\": 75, \"songId\": \"33487342\", \"albumId\": \"10609232\"}, \"76\": {\"name\": \"봄날\", \"artists\": \"방탄소년단\", \"ranking\": 76, \"songId\": \"30244931\", \"albumId\": \"10037969\"}, \"77\": {\"name\": \"MY BAG\", \"artists\": \"(여자)아이들\", \"ranking\": 77, \"songId\": \"34754299\", \"albumId\": \"10890384\"}, \"78\": {\"name\": \"늦은 밤 헤어지긴 너무 아쉬워\", \"artists\": \"케이시 (Kassy)\", \"ranking\": 78, \"songId\": \"35177030\", \"albumId\": \"10960568\"}, \"79\": {\"name\": \"모든 계절은 너였다\", \"artists\": \"길구봉구\", \"ranking\": 79, \"songId\": \"35828633\", \"albumId\": \"11101104\"}, \"80\": {\"name\": \"바보에게 바보가 (웹툰 \\'연애의 발견\\' X 이석훈)\", \"artists\": \"이석훈\", \"ranking\": 80, \"songId\": \"35388184\", \"albumId\": \"11000863\"}, \"81\": {\"name\": \"Polaroid\", \"artists\": \"임영웅\", \"ranking\": 81, \"songId\": \"35834584\", \"albumId\": \"11102375\"}, \"82\": {\"name\": \"오르트구름\", \"artists\": \"윤하 (YOUNHA)\", \"ranking\": 82, \"songId\": \"34270805\", \"albumId\": \"10778556\"}, \"83\": {\"name\": \"Permission to Dance\", \"artists\": \"방탄소년단\", \"ranking\": 83, \"songId\": \"33666269\", \"albumId\": \"10648182\"}, \"84\": {\"name\": \"못해\", \"artists\": \"김나영\", \"ranking\": 84, \"songId\": \"35694868\", \"albumId\": \"11070148\"}, \"85\": {\"name\": \"아버지\", \"artists\": \"임영웅\", \"ranking\": 85, \"songId\": \"35008527\", \"albumId\": \"10923444\"}, \"86\": {\"name\": \"DICE\", \"artists\": \"NMIXX\", \"ranking\": 86, \"songId\": \"35643842\", \"albumId\": \"11057553\"}, \"87\": {\"name\": \"Yet To Come\", \"artists\": \"방탄소년단\", \"ranking\": 87, \"songId\": \"35272060\", \"albumId\": \"10979636\"}, \"88\": {\"name\": \"너를 생각해\", \"artists\": \"주시크 (Joosiq)\", \"ranking\": 88, \"songId\": \"33978183\", \"albumId\": \"10716399\"}, \"89\": {\"name\": \"Girls\", \"artists\": \"aespa\", \"ranking\": 89, \"songId\": \"35238220\", \"albumId\": \"10972706\"}, \"90\": {\"name\": \"GANADARA (Feat. 아이유)\", \"artists\": \"박재범\", \"ranking\": 90, \"songId\": \"34752700\", \"albumId\": \"10889981\"}, \"91\": {\"name\": \"추억때문에\", \"artists\": \"유림\", \"ranking\": 91, \"songId\": \"35828366\", \"albumId\": \"11101037\"}, \"92\": {\"name\": \"A bientot\", \"artists\": \"임영웅\", \"ranking\": 92, \"songId\": \"35008528\", \"albumId\": \"10923444\"}, \"93\": {\"name\": \"I Ain\\'t Worried\", \"artists\": \"OneRepublic\", \"ranking\": 93, \"songId\": \"35215215\", \"albumId\": \"10967172\"}, \"94\": {\"name\": \"내 세상은 너로 가득해\", \"artists\": \"탑현\", \"ranking\": 94, \"songId\": \"35869149\", \"albumId\": \"11110974\"}, \"95\": {\"name\": \"인생찬가\", \"artists\": \"임영웅\", \"ranking\": 95, \"songId\": \"35008534\", \"albumId\": \"10923444\"}, \"96\": {\"name\": \"The Astronaut\", \"artists\": \"진\", \"ranking\": 96, \"songId\": \"35779025\", \"albumId\": \"11089457\"}, \"97\": {\"name\": \"손이 참 곱던 그대\", \"artists\": \"임영웅\", \"ranking\": 97, \"songId\": \"35008526\", \"albumId\": \"10923444\"}, \"98\": {\"name\": \"GHOST TOWN\", \"artists\": \"Benson Boone\", \"ranking\": 98, \"songId\": \"34098217\", \"albumId\": \"10743130\"}, \"99\": {\"name\": \"All I Want for Christmas Is You\", \"artists\": \"Mariah Carey\", \"ranking\": 99, \"songId\": \"14776\", \"albumId\": \"829\"}, \"100\": {\"name\": \"사랑해 진짜\", \"artists\": \"임영웅\", \"ranking\": 100, \"songId\": \"35008531\", \"albumId\": \"10923444\"}}'"
      ]
     },
     "execution_count": 22,
     "metadata": {},
     "output_type": "execute_result"
    }
   ],
   "source": [
    "rank = scrapeMelon.getList(\"LIVE\").decode()\n",
    "rank"
   ]
  },
  {
   "cell_type": "code",
   "execution_count": 23,
   "metadata": {},
   "outputs": [],
   "source": [
    "rank_dict = ast.literal_eval(rank) # Make this \"string\" -> \"dict\""
   ]
  },
  {
   "cell_type": "code",
   "execution_count": 24,
   "metadata": {},
   "outputs": [
    {
     "data": {
      "text/plain": [
       "{'1': \"{'Name': 'Horizon of the Incident', 'Artists': 'YOUNHA', 'Ranking': 1, 'Songid': '34819473', 'Albumid': '10903868'}\",\n",
       " '2': \"{'Name': 'AntiFragile', 'Artists': 'Le Sserafim', 'Ranking': 2, 'Songid': '35729104', 'Albumid': '11078496'}\",\n",
       " '3': \"{'Name': 'NXDE', 'Artists': '(Women)', 'Ranking': 3, 'Songid': '35730562', 'Albumid': '11078852'}\",\n",
       " '4': \"{'Name': 'Hype Boy', 'Artists': 'Newjeans', 'Ranking': 4, 'Songid': '35454426', 'Albumid': '11011565'}\",\n",
       " '5': \"{'Name': 'After Like', 'Artists': 'Ive (Ive)', 'Ranking': 5, 'Songid': '35546497', 'Albumid': '11034298'}\",\n",
       " '6': \"{'Name': 'Prod. Zico (Feat. Homi)', 'Artists':' Zico ',' Ranking ': 6,' Songid ':' 35595136 ',' Albumid ':' 11045985 '}\",\n",
       " '7': \"{'Name': 'Attension', 'Artists': 'Newjeans', 'Ranking': 7, 'Songid': '35454425', 'Albumid': '11011565'}\",\n",
       " '8': \"{'Name': 'Rush Hour (Feat. J-Hope of BTS)', 'Artists': 'Crush', 'Ranking': 8, 'Songid': '35665282', 'Albumid': '11062364'}\",\n",
       " '9': \"{'Name': 'Monologue', 'Artists': 'Tei', 'Ranking': 9, 'Songid': '35643794', 'Albumid': '11057545'}\",\n",
       " '10': \"{'Name': 'LOVE DIVE', 'Artists': 'Ive (ive)', 'Ranking': 10, 'Songid': '34847378', 'Albumid': '10909179'}\",\n",
       " '11': \"{'Name': 'Shut Down', 'Artists': 'Blackpink', 'Ranking': 11, 'Songid': '35640077', 'Albumid': '11033394'}\",\n",
       " '12': \"{'Name': 'PINK VENOM', 'Artists': 'BLACKPINK', 'Ranking': 12, 'Songid': '35542908', 'Albumid': '11033394'}\",\n",
       " '13': \"{'Name': 'Feat. Zico', 'Artists': 'BE'O', 'Ranking': 13, 'Songid': '35685439', 'Albumid': '11067591'}\",\n",
       " '14': \"{'Name': 'Hayo (2022)', 'Artists': 'Goodbye', 'Ranking': 14, 'Songid': '35252996', 'Albumid': '10975276'}\",\n",
       " '15': \"{'Name': 'Just 10cm', 'Artists': '10cm, Big Naughty', 'Ranking': 15, 'Songid': '35668899', 'Albumid': '11063205'}\",\n",
       " '16': \"{'Name': 'At that time (that time)', 'Artists': 'WSG Wannabe (Gaya G)', 'Ranking': 16, 'Songid': '35383397' }\",\n",
       " '17': \"{'Name': 'Love is always running away', 'Artists': 'Lim Young -woong', 'Ranking': 17, 'Songid': '34061322', 'Albumid': '10735654'}\",\n",
       " '18': \"{'Name': 'It's Love', 'Artists': 'Melomans', 'Ranking': 18, 'Songid': '34657844', 'Albumid': '10871162'}\",\n",
       " '19': \"{'Name': 'Tomboy', 'Artists': '(Girls) Children', 'Ranking': 19, 'Songid': '34754292', 'Albumid': '10890384'}\",\n",
       " '20': \"{'Name': 'No Me', 'Artists': 'Juho', 'Ranking': 20, 'Songid': '34787226', 'Albumid': '10897407'}\",\n",
       " '21': \"{'Name': 'Gradient', 'Artists': '10cm', 'Ranking': 21, 'Songid': '35361345', 'Albumid': '1095477'}\",\n",
       " '22': \"{'Name': 'All Your Moments', 'Artists': 'Sung Si Kyung', 'Ranking': 22, 'Songid': '4446485', 'Albumid': '2232505'}\",\n",
       " '23': \"{'Name': 'We love so', 'Artists': 'Kang Min -kyung (Davichi), Jan butterfly Choi Jung -hoon', 'Ranking': 23, 'Songid': '35669445', 'Albumid': '11063334'}\",\n",
       " '24': \"{'Name': 'Cookie', 'Artists': 'Newjeans', 'Ranking': 24, 'Songid': '35485544', 'Albumid': '11011565'}\",\n",
       " '25': \"{'Name': 'Jeong (Feat. 10cm)', 'Artists': 'Big Naughty', 'Ranking': 25, 'Songid': '34927767', 'Albumid': '10925762'}\",\n",
       " '26': \"{'Name': 'Fearless', 'Artists': 'Le Sserafim', 'Ranking': 26, 'Songid': '35009233', 'Albumid': '10939458'}\",\n",
       " '27': \"{'Name': 'To My X', 'Artists': 'Gyeongseo', 'Ranking': 27, 'Songid': '34943312', 'Albumid': '10929486'}\",\n",
       " '28': \"{'Name': 'Drunken Back', 'Artists': 'Kim Min -seok (Melomans)', 'Ranking': 28, 'Songid': '34431086', 'Albumid': '10816959'}\",\n",
       " '29': \"{'Name': 'I missed you', 'Artists': 'WSG Wannabe (4FIRE)', 'Ranking': 29, 'Songid': '35383398'\",\n",
       " '30': \"{'Name': 'Eleven', 'Artists': 'Ive', 'Ranking': 30, 'Songid': '34349913', 'Albumid': '10798794'}\",\n",
       " '31': \"{'Name': 'I was ready to leave', 'Artists': 'Lim Han -byeol', 'Ranking': 31, 'Songid': '35730698', 'Albumid': '11078887'}\",\n",
       " '32': '{\\'Name\\': \"That \\'s Hilarious\", \"Artists\": \"Charlie push\", \"Ranking\": 32,\\' Songid \\':\\' 34864406 \\',\\' Albumid \\':\\' 1084485 \\'}',\n",
       " '33': \"{'Name': 'Dreamers [Music from the FIFA WORLD CUP qatar 2022 Official Soundtrack],' Artists ':' Jungkook, BTS ',' Ranking ': 33,' Songid ':' 35849863 ',' Albumid ':' 11106209 '}\",\n",
       " '34': \"{'Name': 'If you call my name affectionately', 'Artists': 'Gyeongseo Ye -ji, Jeon Gun -ho', 'Ranking': 34, 'Songid': '33496587', 'Albumid': '10610525'}\",\n",
       " '35': \"{'Name': 'Our Blues', 'Artists': 'Lim Young -woong', 'Ranking': 35, 'Songid': '34908740', 'Albumid': '10923444'}\",\n",
       " '36': \"{'Name': 'That that', 'Artists':' PSY ',' Ranking ': 36,' Songid ':' 34997078 ',' Albumid ':' 10937474 '}\",\n",
       " '37': \"{'Name': 'My joy is that you turn off Bentley', 'Artists': 'Kim Seung -min', 'Ranking': 37, 'Songid': '34100776', 'Albumid': '10743373'}\",\n",
       " '38': '{\\'Name\\': \"I Don\\'t Think That I like Her\", \\'Artists\\': \\'Charlie Puth\\', \\'Ranking\\': 38, \\'Songid\\': \\'35640751\\', \\'Albumid\\': \\'10844485\\'}',\n",
       " '39': \"{'Name': 'LOVE ME', 'Artists': 'BE'O', 'Ranking': 39, 'Songid': '34875621', 'Albumid': '10916904'}\",\n",
       " '40': \"{'Name': 'For lovers who are hesitant', 'artists': 'Jan butterfly', 'Ranking': 40, 'Songid': '31666417', 'Albumid': '10260858'}\",\n",
       " '41': \"{'Name': 'Your phone from dawn is', 'Artists': 'Han Dong -geun', 'Ranking': 41, 'Songid': '35484543', 'Albumid': '11017954'}\",\n",
       " '42': \"{'Name': 'Every day, every moment', 'Artists': 'Paul Kim', 'Ranking': 42, 'Songid': '30962526', 'Albumid': '10149492'}\",\n",
       " '43': \"{'Name': 'First Love', 'Artists': 'Baek -A', 'Ranking': 43, 'Songid': '31343875', 'Albumid': '10210149'}\",\n",
       " '44': \"{'Name': 'Forever 1', 'Artists':' Girls' Generation ',' Ranking ': 44,' Songid ':' 35504734 ',' Albumid ':' 1102324 '}}\",\n",
       " '45': \"{'Name': 'Confession practice', 'Artists': 'Gyeongseo', 'Ranking': 45, 'Songid': '35779712', 'Albumid': '11089677'}\",\n",
       " '46': \"{'Name': 'LOVE STORY', 'Artists': 'Ball Red Puberty', 'Ranking': 46, 'Songid': '34930368', 'Albumid': '10926502'}\",\n",
       " '47': \"{'Name': 'Night Sky Star (2020)', 'Artists': 'Gyeongseo', 'Ranking': 47, 'Songid': '33061995', 'Albumid': '10518234'}\",\n",
       " '48': \"{'Name': 'Stay', 'Artists': 'The Kid Laroi, Justin Bieber', 'Ranking': 48, 'Songid': '33658563', 'Albumid': '10646395'}\",\n",
       " '49': \"{'Name': 'Sneakers', 'Artists': 'Itzy', 'Ranking': 49, 'Songid': '35413033', 'Albumid': '11004992'}\",\n",
       " '50': \"{'Name': 'Can you meet again', 'Artists': 'Lim Young -woong', 'Ranking': 50, 'Songid': '35008524', 'Albumid': '10923444'}\",\n",
       " '51': \"{'Name': 'Spring Summer Autumn Winter', 'Artists': 'Bigbang', 'Ranking': 51, 'Songid': '34845949', 'Albumid': '10908834'}\",\n",
       " '52': \"{'Name': 'Illusion', 'Artists': 'ASPA', 'Ranking': 52, 'Songid': '35238221', 'Albumid': '10972706'}\",\n",
       " '53': \"{'Name': 'Dynamite', 'Artists': 'BTS', 'Ranking': 53, 'Songid': '32872978', 'Albumid': '10479150'}\",\n",
       " '54': \"{'Name': 'Tell me I love you', 'Artists': 'Top Hyun', 'Ranking': 54, 'Songid': '35505810', 'Albumid': '11023572'}\",\n",
       " '55': \"{'Name': 'LAW (Prod. Czaer)', 'Artists': 'Yoon Mi Rae, BIBI', 'Ranking': 55, 'Songid': '35595137', 'Albumid': '11045985'}\",\n",
       " '56': \"{'Name': 'Left and Right (Feat. Jung Kook of BTS)', 'Artists': 'Charlie push, Jungkook, BTS', 'Ranking': 56, 'Songid': '35331586', 'Albumid' : '10989806'}\",\n",
       " '57': \"{'Name': 'Sticker Photo', 'Artists': '21 Studies', 'Ranking': 57, 'Songid': '35391594', 'Albumid': '11001347'}\",\n",
       " '58': \"{'Name': 'POP!', 'Artists': 'TWICE', 'Ranking': 58, 'Songid': '35333345'\",\n",
       " '59': \"{'Name': 'Feel My Rhythm', 'Artists': 'Red Velvet', 'Ranking': 59, 'Songid': '34772475', 'Albumid': '10894554'}\",\n",
       " '60': \"{'Name': 'Catch my hand', 'Artists': 'IU', 'Ranking': 60, 'Songid': '3414749', 'Albumid': '1286252'}\",\n",
       " '61': \"{'Name': 'Birthday', 'Artists': 'Red Velvet', 'Ranking': 61, 'Songid': '35868657', 'Albumid': '11110911'}\",\n",
       " '62': \"{'Name': 'I only believe me now', 'Artists': 'Lim Young -woong', 'Ranking': 62, 'Songid': '32508053', 'Albumid': '10412319'}\",\n",
       " '63': \"{'Name': 'Traffic Lamp', 'Artists': 'Lee Moo -jin', 'Ranking': 63, 'Songid': '33480898', 'Albumid': '10607796'}\",\n",
       " '64': \"{'Name': 'London Boy', 'Artists': 'Lim Young -woong', 'Ranking': 64, 'Songid': '35834583', 'Albumid': '11102375'}\",\n",
       " '65': \"{'Name': 'SNOWMAN', 'Artists': 'SIA', 'Ranking': 65, 'Songid': '30717645', 'Albumid': '10107511'}\",\n",
       " '66': \"{'Name': 'Invu', 'Artists': 'TAEYEON', 'Ranking': 66, 'Songid': '34626109', 'Albumid': '10863559'}\",\n",
       " '67': \"{'Name': 'Strawberry Moon', 'Artists': 'IU', 'Ranking': 67, 'Songid': '34101563', 'Albumid': '10743453'}\",\n",
       " '68': \"{'Name': 'Butter', 'Artists': 'BTS', 'Ranking': 68, 'Songid': '33507137', 'Albumid': '10612483'}\",\n",
       " '69': \"{'Name': 'So you', 'Artists': 'Lee Young -hyun', 'Ranking': 69, 'Songid': '35709043', 'Albumid': '11073603'}\",\n",
       " '70': \"{'Name': 'Off My face', 'Artists': 'Justin Bieber', 'Ranking': 70, 'Songid': '33359309', 'Albumid': '10580103'}\",\n",
       " '71': \"{'Name': 'Drama', 'Artists': 'IU', 'Ranking': 71, 'Songid': '34481680', 'Albumid': '10827816'}\",\n",
       " '72': \"{'Name': 'Rainbow', 'Artists': 'Lim Young -woong', 'Ranking': 72, 'Songid': '35008525', 'Albumid': '10923444'}\",\n",
       " '73': \"{'Name': 'Rotate Thirsty (Feat. Zion.t, Onestein)' (Prod. SLOM) ',' Artists': 'Sokodomo', 'Ranking': 73, 'Songid': : '10775252'}\",\n",
       " '74': \"{'Name': 'Call Connection Tone', 'Artists': 'Bora Miyu, MJ (Sunny Side)', 'Ranking': 74, 'Songid': '35526685', 'Albumid': '11029030'\",\n",
       " '75': \"{'Name': 'Next Level', 'Artists': 'ASSPA', 'Ranking': 75, 'Songid': '33487342', 'Albumid': '10609232'}\",\n",
       " '76': \"{'Name': 'Spring Day', 'Artists': 'BTS', 'Ranking': 76, 'Songid': '30244931', 'Albumid': '10037969'}\",\n",
       " '77': \"{'Name': 'My Bag', 'Artists': '(Women)', 'Ranking': 77, 'Songid': '34754299', 'Albumid': '10890384'}\",\n",
       " '78': \"{'Name': 'It's too bad to break up late at night', 'Artists': 'KASSY', 'Ranking': 78, 'Songid': '35177030', 'Albumid': '10960568'}\",\n",
       " '79': \"{'Name': 'All season was you', 'Artists': 'Gilgu Bong -gu', 'Ranking': 79, 'Songid': '35828633', 'Albumid': '11101104'}\",\n",
       " '80': '{\\'Name\\': \"Fools Fools (Webtoon \\'Discovery of Love\\' X Lee Seok -hoon), \\'Artists\\':\\' Lee Seok -hoon \\',\\' Ranking \\': 80,\\' Songid \\':\\' 35388184 \\',\\' Albumid \\':\\' 11000863 \\'}',\n",
       " '81': \"{'Name': 'Polaroid', 'Artists': 'Lim Young -woong', 'Ranking': 81, 'Songid': '35834584', 'Albumid': '11102375'}\",\n",
       " '82': \"{'Name': 'Ort Cloud', 'Artists': 'YOUNHA', 'Ranking': 82, 'Songid': '34270805', 'Albumid': '1078556'}\",\n",
       " '83': \"{'Name': 'Permission to Dance', 'Artists': 'BTS', 'Ranking': 83, 'Songid': '33666269', 'Albumid': '10648182'}\",\n",
       " '84': \"{'Name': 'Can't', 'Artists': 'Kim Na -young', 'Ranking': 84, 'Songid': '35694868', 'Albumid': '11070148'}\",\n",
       " '85': \"{'Name': 'Father', 'Artists': 'Lim Young -woong', 'Ranking': 85, 'Songid': '35008527', 'Albumid': '10923444'}\",\n",
       " '86': \"{'Name': 'Dice', 'Artists': 'NMIXX', 'Ranking': 86, 'Songid': '35643842', 'Albumid': '11057553'}\",\n",
       " '87': \"{'Name': 'Yet to Come', 'Artists': 'BTS', 'Ranking': 87, 'Songid': '35272060', 'Albumid': '10979636'}\",\n",
       " '88': \"{'Name': 'Think of you', 'Artists': 'JOOSIQ', 'Ranking': 88, 'Songid': '33978183', 'ALBUMID': '10716399'}}\",\n",
       " '89': \"{'Name': 'Girls', 'Artists': 'ASPA', 'Ranking': 89, 'Songid': '35238220', 'Albumid': '10972706'}\",\n",
       " '90': \"{'Name': 'GANADARA (Feat. IU)'\",\n",
       " '91': \"{'Name': 'Because of memories', 'Artists': 'Yurim', 'Ranking': 91, 'Songid': '35828366', 'Albumid': '11101037'}\",\n",
       " '92': \"{'Name': 'A BIENTOT', 'Artists': 'Lim Young -woong', 'Ranking': 92, 'Songid': '35008528', 'Albumid': '10923444'}\",\n",
       " '93': '{\\'Name\\': \"I ain\\'t Worried\", \"Artists\": \"Onerepublic\", \"Ranking\": 93, \\'Songid\\': \\'35215215\\', \\'Albumid\\': \\'10967172\\'}',\n",
       " '94': \"{'Name': 'My world is full of you', 'Artists': 'Top Hyun', 'Ranking': 94, 'Songid': '35869149', 'Albumid': '11110974'}\",\n",
       " '95': \"{'Name': 'Life Chan', 'Artists': 'Lim Young -woong', 'Ranking': 95, 'Songid': '35008534', 'Albumid': '10923444'}\",\n",
       " '96': \"{'Name': 'The Astronaut', 'Artists': 'Jin', 'Ranking': 96, 'Songid': '35779025', 'Albumid': '11089457'}\",\n",
       " '97': \"{'Name': 'You are so great', 'Artists': 'Lim Young -woong', 'Ranking': 97, 'Songid': '35008526', 'Albumid': '10923444'}\",\n",
       " '98': \"{'Name': 'Ghost Town', 'Artists': 'Benson Boone', 'Ranking': 98, 'Songid': '34098217', 'Albumid': '10743130'}\",\n",
       " '99': \"{'Name': 'All I want for Christmas is you', 'Artists': 'Mariah Carey', 'Ranking': 99, 'Songid': '14776', 'Albumid': '829'}\",\n",
       " '100': \"{'Name': 'I Love You Real', 'Artists': 'Lim Young -woong', 'Ranking': 100, 'Songid': '35008531', 'Albumid': '10923444'}\"}"
      ]
     },
     "execution_count": 24,
     "metadata": {},
     "output_type": "execute_result"
    }
   ],
   "source": [
    "rank_en = dict([(key, ts.google(str(value), from_language='ko', to_language='en')) for key, value in rank_dict.items()])\n",
    "rank_en['44'] = rank_en['44'] + '}'\n",
    "rank_en['88'] = rank_en['88'] + '}'\n",
    "rank_en"
   ]
  },
  {
   "cell_type": "code",
   "execution_count": 6,
   "metadata": {},
   "outputs": [
    {
     "ename": "NameError",
     "evalue": "name 'rank_en' is not defined",
     "output_type": "error",
     "traceback": [
      "\u001b[0;31m---------------------------------------------------------------------------\u001b[0m",
      "\u001b[0;31mNameError\u001b[0m                                 Traceback (most recent call last)",
      "Cell \u001b[0;32mIn [6], line 2\u001b[0m\n\u001b[1;32m      1\u001b[0m songs_df \u001b[39m=\u001b[39m []\n\u001b[0;32m----> 2\u001b[0m \u001b[39mfor\u001b[39;00m key, j \u001b[39min\u001b[39;00m rank_en\u001b[39m.\u001b[39mitems():\n\u001b[1;32m      3\u001b[0m     \u001b[39mtry\u001b[39;00m:\n\u001b[1;32m      4\u001b[0m         res \u001b[39m=\u001b[39m re\u001b[39m.\u001b[39msub(\u001b[39m'\u001b[39m\u001b[39m\\\u001b[39m\u001b[39m(Women\u001b[39m\u001b[39m\\\u001b[39m\u001b[39m)\u001b[39m\u001b[39m'\u001b[39m, \u001b[39m'\u001b[39m\u001b[39m(G)I-DLE\u001b[39m\u001b[39m'\u001b[39m, j)\n",
      "\u001b[0;31mNameError\u001b[0m: name 'rank_en' is not defined"
     ]
    }
   ],
   "source": [
    "songs_df = []\n",
    "for key, j in rank_en.items():\n",
    "    try:\n",
    "        res = re.sub('\\(Women\\)', '(G)I-DLE', j)\n",
    "        res = re.sub('Ive \\(Ive\\)', 'Ive', res)\n",
    "        res = re.sub('Blackpink', 'BLACKPINK', res)\n",
    "        res = re.sub(' PSY ', 'PSY', res)\n",
    "        res = re.sub('Itzy', 'ITZY', res)\n",
    "        res = re.sub('Dreamers [Music from the FIFA WORLD CUP qatar 2022 Official Soundtrack]', \n",
    "                     'Dreamers [Music from the FIFA WORLD CUP qatar 2022 Official Soundtrack]\\'', res)\n",
    "        res = re.sub(' Jungkook, BTS ', 'Jungkook', res)\n",
    "        res = re.sub('It\\'s Love', 'It%27s Love', res)\n",
    "        result = ast.literal_eval(res)\n",
    "        result = {k.lower(): v for k, v in result.items()}\n",
    "        songs_df.append(pd.DataFrame([result]))\n",
    "    except:\n",
    "        pass\n",
    "\n",
    "song_df = pd.concat(songs_df)\n",
    "#song_df = song_df.assign(**{'songID': song_df['songid'].fillna(song_df['songs'])})\n",
    "#song_df = song_df.assign(**{'albumID': song_df['albumid'].fillna(song_df['albums'])})\n",
    "#song_df.drop(['songid', 'albumid', 'songs', 'albums', ' ranking ', ' songid ', ' albumid '], axis=1, inplace=True)\n",
    "song_df.drop([' ranking ', ' songid ', ' albumid '], axis=1, inplace=True)\n",
    "song_df.dropna(axis=0, inplace=True)\n",
    "song_df.set_index(np.arange(1,len(song_df)+1), inplace=True)\n",
    "song_df.replace(' ', '_', regex=True, inplace=True)\n",
    "song_df"
   ]
  },
  {
   "cell_type": "code",
   "execution_count": 83,
   "metadata": {},
   "outputs": [
    {
     "ename": "NameError",
     "evalue": "name 'song_df' is not defined",
     "output_type": "error",
     "traceback": [
      "\u001b[0;31m---------------------------------------------------------------------------\u001b[0m",
      "\u001b[0;31mNameError\u001b[0m                                 Traceback (most recent call last)",
      "Cell \u001b[0;32mIn [83], line 1\u001b[0m\n\u001b[0;32m----> 1\u001b[0m frames \u001b[39m=\u001b[39m [song_df[song_df[\u001b[39m'\u001b[39m\u001b[39martists\u001b[39m\u001b[39m'\u001b[39m]\u001b[39m.\u001b[39misin(df[\u001b[39m'\u001b[39m\u001b[39mGroup\u001b[39m\u001b[39m'\u001b[39m])], song_df[song_df[\u001b[39m'\u001b[39m\u001b[39martists\u001b[39m\u001b[39m'\u001b[39m]\u001b[39m.\u001b[39misin(df[\u001b[39m'\u001b[39m\u001b[39mStage Name\u001b[39m\u001b[39m'\u001b[39m])]]\n\u001b[1;32m      2\u001b[0m df_song \u001b[39m=\u001b[39m pd\u001b[39m.\u001b[39mconcat(frames, axis\u001b[39m=\u001b[39m\u001b[39m0\u001b[39m)\n\u001b[1;32m      3\u001b[0m df_song\u001b[39m.\u001b[39msort_index(inplace\u001b[39m=\u001b[39m\u001b[39mTrue\u001b[39;00m)\n",
      "\u001b[0;31mNameError\u001b[0m: name 'song_df' is not defined"
     ]
    }
   ],
   "source": [
    "frames = [song_df[song_df['artists'].isin(df['Group'])], song_df[song_df['artists'].isin(df['Stage Name'])]]\n",
    "df_song = pd.concat(frames, axis=0)\n",
    "df_song.sort_index(inplace=True)\n",
    "df_song"
   ]
  },
  {
   "cell_type": "markdown",
   "metadata": {},
   "source": [
    "<h1>已蒐集完“node”資料<h1>"
   ]
  },
  {
   "cell_type": "code",
   "execution_count": 2,
   "metadata": {},
   "outputs": [],
   "source": [
    "from pathlib import Path\n",
    "mother_dir = Path(\"Rank_eachArtist\")"
   ]
  },
  {
   "cell_type": "code",
   "execution_count": 3,
   "metadata": {},
   "outputs": [
    {
     "name": "stdout",
     "output_type": "stream",
     "text": [
      "['Aespa', 'Girls-Generation', 'Younha', 'BTS', 'ITZY', '(G)-IDLE', 'Red_Velvet', 'IU', 'Twice', 'Ive', 'Le_Sserafim', 'BLACKPINK', 'Bigbang', 'NewJeans', 'NMIXX']\n"
     ]
    }
   ],
   "source": [
    "#The groups we interested in (Which are in TOP 100 in Melon)\n",
    "group_name = []\n",
    "for name in list(mother_dir.glob(\"*.csv\")):\n",
    "    name = str(name)\n",
    "    name = name.replace(\"Rank_eachArtist/\", \"\")\n",
    "    name = name.replace(\".csv\", \"\")\n",
    "    group_name.append(name)\n",
    "print(group_name)"
   ]
  },
  {
   "cell_type": "code",
   "execution_count": 7,
   "metadata": {},
   "outputs": [],
   "source": [
    "#Each groups' dataframe\n",
    "Le_Sserafim_df = Le_Sserafim_df = pd.read_csv(\"Rank_eachArtist/\" + \"Le_Sserafim\" + \".csv\")\n",
    "if 'Unnamed: 0' in Le_Sserafim_df:\n",
    "    Le_Sserafim_df.drop(['Unnamed: 0'], axis=1, inplace=True)\n",
    "Le_Sserafim_df['group'] = 'Le_Sserafim'\n",
    "Le_Sserafim_df['group_wiki'] = 'le-sserafim'\n",
    "    \n",
    "Girls_Generation_df = pd.read_csv(\"Rank_eachArtist/\" + \"Girls-Generation\" + \".csv\")\n",
    "if 'Unnamed: 0' in Girls_Generation_df:\n",
    "    Girls_Generation_df.drop(['Unnamed: 0'], axis=1, inplace=True)\n",
    "Girls_Generation_df['group'] = 'Girls-Generation' \n",
    "Girls_Generation_df['group_wiki'] = 'girls-generation'\n",
    "    \n",
    "BTS_df = pd.read_csv(\"Rank_eachArtist/\" + \"BTS\" + \".csv\")\n",
    "if 'Unnamed: 0' in BTS_df:\n",
    "    BTS_df.drop(['Unnamed: 0'], axis=1, inplace=True)\n",
    "BTS_df['group'] = 'BTS'\n",
    "BTS_df['group_wiki'] = 'bts'\n",
    "    \n",
    "ITZY_df = pd.read_csv(\"Rank_eachArtist/\" + \"ITZY\" + \".csv\")\n",
    "if 'Unnamed: 0' in ITZY_df:\n",
    "    ITZY_df.drop(['Unnamed: 0'], axis=1, inplace=True)\n",
    "ITZY_df['group'] = 'ITZY'\n",
    "ITZY_df['group_wiki'] = 'itzy'\n",
    "    \n",
    "G_IDLE_df = pd.read_csv(\"Rank_eachArtist/\" + \"(G)-IDLE\" + \".csv\")\n",
    "if 'Unnamed: 0' in G_IDLE_df:\n",
    "    G_IDLE_df.drop(['Unnamed: 0'], axis=1, inplace=True)\n",
    "G_IDLE_df['group'] = '(G)-IDLE'\n",
    "G_IDLE_df['group_wiki'] = 'g-i-dle'\n",
    "    \n",
    "Red_Velvet_df = pd.read_csv(\"Rank_eachArtist/\" + \"Red_Velvet\" + \".csv\")\n",
    "if 'Unnamed: 0' in Red_Velvet_df:\n",
    "    Red_Velvet_df.drop(['Unnamed: 0'], axis=1, inplace=True)\n",
    "Red_Velvet_df['group_wiki'] = 'Red_Velvet'\n",
    "Red_Velvet_df['group_wiki'] = 'redvelvet'\n",
    "    \n",
    "IU_df = pd.read_csv(\"Rank_eachArtist/\" + \"IU\" + \".csv\")\n",
    "if 'Unnamed: 0' in IU_df:\n",
    "    IU_df.drop(['Unnamed: 0'], axis=1, inplace=True)\n",
    "IU_df['group'] = 'IU'\n",
    "IU_df['group_wiki'] = 'i-u'\n",
    "    \n",
    "Twice_df = pd.read_csv(\"Rank_eachArtist/\" + \"Twice\" + \".csv\")\n",
    "if 'Unnamed: 0' in Twice_df:\n",
    "    Twice_df.drop(['Unnamed: 0'], axis=1, inplace=True)\n",
    "Twice_df['group'] = 'Twice'\n",
    "Twice_df['group_wiki'] = 'twice'\n",
    "    \n",
    "Aespa_df = pd.read_csv(\"Rank_eachArtist/\" + \"Aespa\" + \".csv\")\n",
    "if 'Unnamed: 0' in Aespa_df:\n",
    "    Aespa_df.drop(['Unnamed: 0'], axis=1, inplace=True)\n",
    "Aespa_df['group'] = 'Aespa'\n",
    "Aespa_df['group_wiki'] = 'aespa'\n",
    "    \n",
    "Ive_df = pd.read_csv(\"Rank_eachArtist/\" + \"Ive\" + \".csv\")\n",
    "if 'Unnamed: 0' in Ive_df:\n",
    "    Ive_df.drop(['Unnamed: 0'], axis=1, inplace=True)\n",
    "Ive_df['group'] = 'Ive'\n",
    "Ive_df['group_wiki'] = 'ive'\n",
    "    \n",
    "BLACKPINK_df = pd.read_csv(\"Rank_eachArtist/\" + \"BLACKPINK\" + \".csv\")\n",
    "if 'Unnamed: 0' in BLACKPINK_df:\n",
    "    BLACKPINK_df.drop(['Unnamed: 0'], axis=1, inplace=True)\n",
    "BLACKPINK_df['group'] = 'BLACKPINK'\n",
    "BLACKPINK_df['group_wiki'] = 'black-pink'\n",
    "    \n",
    "Bigbang_df = pd.read_csv(\"Rank_eachArtist/\" + \"Bigbang\" + \".csv\")\n",
    "if 'Unnamed: 0' in Bigbang_df:\n",
    "    Bigbang_df.drop(['Unnamed: 0'], axis=1, inplace=True)\n",
    "Bigbang_df['group'] = 'Bigbang'\n",
    "Bigbang_df['group_wiki'] = 'bigbangkpop'\n",
    "    \n",
    "NewJeans_df = pd.read_csv(\"Rank_eachArtist/\" + \"NewJeans\" + \".csv\")\n",
    "if 'Unnamed: 0' in NewJeans_df:\n",
    "    NewJeans_df.drop(['Unnamed: 0'], axis=1, inplace=True)\n",
    "NewJeans_df['group'] = 'NewJeans'\n",
    "NewJeans_df['group_wiki'] = 'newjeans'\n",
    "    \n",
    "NMIXX_df = pd.read_csv(\"Rank_eachArtist/\" + \"NMIXX\" + \".csv\")\n",
    "if 'Unnamed: 0' in NMIXX_df:\n",
    "    NMIXX_df.drop(['Unnamed: 0'], axis=1, inplace=True)\n",
    "NMIXX_df['group'] = 'NMIXX'\n",
    "NMIXX_df['group_wiki'] = 'nmixx'"
   ]
  },
  {
   "cell_type": "code",
   "execution_count": 8,
   "metadata": {},
   "outputs": [
    {
     "data": {
      "text/html": [
       "<div>\n",
       "<style scoped>\n",
       "    .dataframe tbody tr th:only-of-type {\n",
       "        vertical-align: middle;\n",
       "    }\n",
       "\n",
       "    .dataframe tbody tr th {\n",
       "        vertical-align: top;\n",
       "    }\n",
       "\n",
       "    .dataframe thead th {\n",
       "        text-align: right;\n",
       "    }\n",
       "</style>\n",
       "<table border=\"1\" class=\"dataframe\">\n",
       "  <thead>\n",
       "    <tr style=\"text-align: right;\">\n",
       "      <th></th>\n",
       "      <th>NO</th>\n",
       "      <th>song</th>\n",
       "      <th>resource</th>\n",
       "      <th>Web</th>\n",
       "      <th>group</th>\n",
       "      <th>group_wiki</th>\n",
       "    </tr>\n",
       "  </thead>\n",
       "  <tbody>\n",
       "    <tr>\n",
       "      <th>0</th>\n",
       "      <td>1</td>\n",
       "      <td>ANTIFRAGILE_(song)</td>\n",
       "      <td>Wiki_f</td>\n",
       "      <td>https://le-sserafim.fandom.com/wiki/ANTIFRAGIL...</td>\n",
       "      <td>Le_Sserafim</td>\n",
       "      <td>le-sserafim</td>\n",
       "    </tr>\n",
       "    <tr>\n",
       "      <th>1</th>\n",
       "      <td>2</td>\n",
       "      <td>Fearless_(Le_Sserafim_song)</td>\n",
       "      <td>Wiki</td>\n",
       "      <td>NaN</td>\n",
       "      <td>Le_Sserafim</td>\n",
       "      <td>le-sserafim</td>\n",
       "    </tr>\n",
       "    <tr>\n",
       "      <th>2</th>\n",
       "      <td>3</td>\n",
       "      <td>impurities</td>\n",
       "      <td>NaN</td>\n",
       "      <td>NaN</td>\n",
       "      <td>Le_Sserafim</td>\n",
       "      <td>le-sserafim</td>\n",
       "    </tr>\n",
       "    <tr>\n",
       "      <th>3</th>\n",
       "      <td>4</td>\n",
       "      <td>Good Parts (when the quality is bad but I am)</td>\n",
       "      <td>NaN</td>\n",
       "      <td>NaN</td>\n",
       "      <td>Le_Sserafim</td>\n",
       "      <td>le-sserafim</td>\n",
       "    </tr>\n",
       "    <tr>\n",
       "      <th>4</th>\n",
       "      <td>5</td>\n",
       "      <td>no celestial</td>\n",
       "      <td>NaN</td>\n",
       "      <td>NaN</td>\n",
       "      <td>Le_Sserafim</td>\n",
       "      <td>le-sserafim</td>\n",
       "    </tr>\n",
       "    <tr>\n",
       "      <th>...</th>\n",
       "      <td>...</td>\n",
       "      <td>...</td>\n",
       "      <td>...</td>\n",
       "      <td>...</td>\n",
       "      <td>...</td>\n",
       "      <td>...</td>\n",
       "    </tr>\n",
       "    <tr>\n",
       "      <th>203</th>\n",
       "      <td>3</td>\n",
       "      <td>Funky_Glitter_Christmas</td>\n",
       "      <td>Wiki_f</td>\n",
       "      <td>https://kpop.fandom.com/wiki/Funky_Glitter_Chr...</td>\n",
       "      <td>NMIXX</td>\n",
       "      <td>nmixx</td>\n",
       "    </tr>\n",
       "    <tr>\n",
       "      <th>204</th>\n",
       "      <td>4</td>\n",
       "      <td>COOL_(Your_rainbow)</td>\n",
       "      <td>Wiki_f</td>\n",
       "      <td>https://nmixx.fandom.com/wiki/COOL_(Your_rainbow)</td>\n",
       "      <td>NMIXX</td>\n",
       "      <td>nmixx</td>\n",
       "    </tr>\n",
       "    <tr>\n",
       "      <th>205</th>\n",
       "      <td>5</td>\n",
       "      <td>Kiss</td>\n",
       "      <td>Wiki_f</td>\n",
       "      <td>https://nmixx.fandom.com/wiki/Kiss</td>\n",
       "      <td>NMIXX</td>\n",
       "      <td>nmixx</td>\n",
       "    </tr>\n",
       "    <tr>\n",
       "      <th>206</th>\n",
       "      <td>6</td>\n",
       "      <td>TANK</td>\n",
       "      <td>Wiki_f</td>\n",
       "      <td>https://nmixx.fandom.com/wiki/TANK</td>\n",
       "      <td>NMIXX</td>\n",
       "      <td>nmixx</td>\n",
       "    </tr>\n",
       "    <tr>\n",
       "      <th>207</th>\n",
       "      <td>7</td>\n",
       "      <td>Sprinkle_Party</td>\n",
       "      <td>Wiki_f</td>\n",
       "      <td>https://nmixx.fandom.com/wiki/Sprinkle_Party</td>\n",
       "      <td>NMIXX</td>\n",
       "      <td>nmixx</td>\n",
       "    </tr>\n",
       "  </tbody>\n",
       "</table>\n",
       "<p>208 rows × 6 columns</p>\n",
       "</div>"
      ],
      "text/plain": [
       "     NO                                           song resource  \\\n",
       "0     1                             ANTIFRAGILE_(song)   Wiki_f   \n",
       "1     2                    Fearless_(Le_Sserafim_song)     Wiki   \n",
       "2     3                                     impurities      NaN   \n",
       "3     4  Good Parts (when the quality is bad but I am)      NaN   \n",
       "4     5                                   no celestial      NaN   \n",
       "..   ..                                            ...      ...   \n",
       "203   3                        Funky_Glitter_Christmas   Wiki_f   \n",
       "204   4                            COOL_(Your_rainbow)   Wiki_f   \n",
       "205   5                                           Kiss   Wiki_f   \n",
       "206   6                                           TANK   Wiki_f   \n",
       "207   7                                 Sprinkle_Party   Wiki_f   \n",
       "\n",
       "                                                   Web        group  \\\n",
       "0    https://le-sserafim.fandom.com/wiki/ANTIFRAGIL...  Le_Sserafim   \n",
       "1                                                  NaN  Le_Sserafim   \n",
       "2                                                  NaN  Le_Sserafim   \n",
       "3                                                  NaN  Le_Sserafim   \n",
       "4                                                  NaN  Le_Sserafim   \n",
       "..                                                 ...          ...   \n",
       "203  https://kpop.fandom.com/wiki/Funky_Glitter_Chr...        NMIXX   \n",
       "204  https://nmixx.fandom.com/wiki/COOL_(Your_rainbow)        NMIXX   \n",
       "205                 https://nmixx.fandom.com/wiki/Kiss        NMIXX   \n",
       "206                 https://nmixx.fandom.com/wiki/TANK        NMIXX   \n",
       "207       https://nmixx.fandom.com/wiki/Sprinkle_Party        NMIXX   \n",
       "\n",
       "      group_wiki  \n",
       "0    le-sserafim  \n",
       "1    le-sserafim  \n",
       "2    le-sserafim  \n",
       "3    le-sserafim  \n",
       "4    le-sserafim  \n",
       "..           ...  \n",
       "203        nmixx  \n",
       "204        nmixx  \n",
       "205        nmixx  \n",
       "206        nmixx  \n",
       "207        nmixx  \n",
       "\n",
       "[208 rows x 6 columns]"
      ]
     },
     "execution_count": 8,
     "metadata": {},
     "output_type": "execute_result"
    }
   ],
   "source": [
    "#Combine all the dataframes\n",
    "frames = [Le_Sserafim_df, Girls_Generation_df, BTS_df, ITZY_df, \n",
    "          G_IDLE_df, Red_Velvet_df, IU_df, Twice_df, Aespa_df,\n",
    "          Ive_df, BLACKPINK_df, Bigbang_df, NewJeans_df, NMIXX_df]\n",
    "\n",
    "all_df = pd.concat(frames)\n",
    "all_df.fillna(0)\n",
    "#all_df.song.combine_first(all_df.Song)\n",
    "#all_df.resource.combine_first(all_df.Resourse)\n",
    "#all_df.drop(['Song', 'Resourse'], axis=1, inplace=True)\n",
    "all_df.reset_index(inplace=True)\n",
    "all_df.drop(['index'], axis=1, inplace=True)\n",
    "all_df"
   ]
  },
  {
   "cell_type": "markdown",
   "metadata": {},
   "source": [
    "<h2>Wikipage Scraping<h2>"
   ]
  },
  {
   "cell_type": "markdown",
   "metadata": {},
   "source": [
    "**Scrapt our data from the website**"
   ]
  },
  {
   "cell_type": "code",
   "execution_count": 2,
   "metadata": {},
   "outputs": [
    {
     "data": {
      "text/plain": [
       "'https://aespa.fandom.com/api.php?action=query&prop=revisions&rvprop=content&titles=Illusion#Lyrics&format=json'"
      ]
     },
     "execution_count": 2,
     "metadata": {},
     "output_type": "execute_result"
    }
   ],
   "source": [
    "http = urllib3.PoolManager()\n",
    "baseurl = \"https://\" + \"aespa\" + \".fandom.com/api.php?\"\n",
    "action = \"action=query\"\n",
    "title = \"titles=\" + \"Illusion#Lyrics\"\n",
    "content = \"prop=revisions&rvprop=content\"\n",
    "dataformat = \"format=json\"\n",
    "\n",
    "query = \"%s%s&%s&%s&%s\" % (baseurl, action, content, title, dataformat)\n",
    "query"
   ]
  },
  {
   "cell_type": "code",
   "execution_count": 102,
   "metadata": {},
   "outputs": [],
   "source": [
    "http = urllib3.PoolManager()\n",
    "\n",
    "def wiki_scr(text):\n",
    "   baseurl = \"https://en.wikipedia.org/w/api.php?\"\n",
    "   action = \"action=query\"\n",
    "   title = \"titles=\" + text\n",
    "   content = \"prop=revisions&rvprop=content\"\n",
    "   dataformat = \"format=json\"\n",
    "   \n",
    "   query = \"%s%s&%s&%s&%s\" % (baseurl, action, content, title, dataformat)\n",
    "   wiki_bf(text, query)\n",
    "\n",
    "def wiki_kpop_scr(text):\n",
    "   baseurl = \"https://kpop.fandom.com/api.php?\"\n",
    "   action = \"action=query\"\n",
    "   title = \"titles=\" + text\n",
    "   content = \"prop=revisions&rvprop=content\"\n",
    "   dataformat = \"format=json\"\n",
    "\n",
    "   query = \"%s%s&%s&%s&%s\" % (baseurl, action, content, title, dataformat)\n",
    "   wiki_bf(text, query)\n",
    "   \n",
    "\n",
    "def wiki_scr_kpopEach(gname, text):\n",
    "   baseurl = \"https://\" + gname + \".fandom.com/api.php?\"\n",
    "   action = \"action=query\"\n",
    "   title = \"titles=\" + text\n",
    "   content = \"prop=revisions&rvprop=content\"\n",
    "   dataformat = \"format=json\"\n",
    "\n",
    "   query = \"%s%s&%s&%s&%s\" % (baseurl, action, content, title, dataformat)\n",
    "   wiki_bf(text, query)\n",
    "   \n",
    "\n",
    "def wiki_bf(text, query):\n",
    "   wikiresource = http.request('GET', query)\n",
    "   wikijson = json.loads(wikiresource.data.decode('utf-8'))\n",
    "   \n",
    "   if re.search(r'/', text):\n",
    "      text = text.replace(\"/\", \"\\\\\")\n",
    "    \n",
    "   with open('/Users/luchengliang/Social_Graph_and_Networks/Final_Project/jsonWebpage/' + text + '.txt', 'w') as f:\n",
    "      f.write(str(wikijson))"
   ]
  },
  {
   "cell_type": "code",
   "execution_count": 101,
   "metadata": {},
   "outputs": [],
   "source": [
    "for i in range(len(all_df)):\n",
    "   x = all_df.iloc[i, :]\n",
    "   \n",
    "   #Scrape different kind of wiki pages\n",
    "   #First is the normal wiki\n",
    "   if x['resource'] == 'Wiki':\n",
    "      q = wiki_scr(x['song'])\n",
    "\n",
    "   if x['resource'] == 'Wiki_f':\n",
    "      #Second one is from Kpop fandom page, not their own page\n",
    "      if '//kpop.fandom' in str(x['Web']):\n",
    "         q = wiki_kpop_scr(x['song'])\n",
    "      elif type(x['group_wiki']) != float:\n",
    "         #Third one is from each fandom wiki page\n",
    "         q = wiki_scr_kpopEach(x['group_wiki'], x['song'])\n",
    "      else:\n",
    "         continue"
   ]
  },
  {
   "cell_type": "code",
   "execution_count": 104,
   "metadata": {},
   "outputs": [
    {
     "name": "stdout",
     "output_type": "stream",
     "text": [
      "Files: \n",
      "['Typa_Girl.txt', 'Change.txt', 'Tell_Me_Your_Wish_(Genie)_(song).txt', 'Never_Stop_Me.txt', 'Black_Swan.txt', 'Happiness.txt', 'Butter_(song).txt', 'Bang_Bang_Bang.txt', 'Dance_The_Night_Away.txt', 'Hurt.txt', 'SNEAKERS.txt', 'Lovesick_Girls.txt', 'Talk_That_Talk.txt', 'The_Truth_Untold.txt', 'Cookie.txt', 'Hype_Boy.txt', 'Oh!_(song).txt', 'Blue.txt', 'I_Need_U_(BTS_song).txt', 'In_the_morning.txt', 'Merry_%26_Happy.txt', 'After_LIKE.txt', '.DS_Store', 'Christmas_Carol_Medley.txt', 'Butterfly.txt', 'Wish_Tree.txt', 'Magic_Shop.txt', 'Not_Shy.txt', 'Like.txt', 'Twenty.txt', 'ICY.txt', 'Sour_Grapes.txt', 'Illusion.txt', 'Boy_with_Luv.txt', 'Answer:_Love_Myself.txt', 'Fantastic_Baby.txt', 'Yes_Or_Yes.txt', 'Nxde.txt', 'Anpanman.txt', 'Ice_Cream_Cake_(song).txt', 'Take_It.txt', 'Stay.txt', 'LOCO.txt', 'Dreams_Come_True.txt', 'Left_and_Right_(Feat._Jung_Kook_of_BTS).txt', 'Palette.txt', 'HWAA.txt', 'Epiphany.txt', 'Don%27t_Know_What_To_Do.txt', 'Heart_Shaker.txt', 'Luv_U.txt', 'Psycho.txt', 'Last_Dance.txt', 'Yet_to_Come_(The_Most_Beautiful_Moment).txt', 'Make_It_Right.txt', 'DALLA_DALLA.txt', 'Sprinkle_Party.txt', 'Girls_(song).txt', 'I%27ll_Make_You_Cry.txt', 'Shut_Down.txt', 'Boombayah.txt', 'Dumdi_Dumdi.txt', 'Blue_%26_Grey.txt', 'Attention.txt', 'Whistle.txt', 'Next_Level.txt', 'Blue_%26_Black.txt', 'Boys_Like_You.txt', 'Autumn_Morning.txt', 'Run_BTS.txt', 'Love_Poem_(single).txt', 'Kill_This_Love.txt', 'Oh_my_god.txt', 'Mikrokosmos.txt', 'LION.txt', 'Into_the_New_World_(song).txt', 'Ddu-Du_Ddu-Du.txt', 'Spring_Day_(song).txt', 'Zoom.txt', 'Dreamers_(Jungkook_song).txt', 'Playing_With_Fire.txt', 'Dynamite_(BTS_song).txt', 'Gee_(song).txt', 'Epilogue:_Young_Forever.txt', 'POLAROID.txt', 'Pied_Piper.txt', 'Hard_to_Love.txt', 'Alcohol-Free.txt', 'As_If_It%27s_Your_Last.txt', 'DNA_(BTS_song).txt', 'VILLAIN_DIES.txt', 'Ready_For_Love.txt', 'Celebrity.txt', 'The_Happiest_Girl.txt', 'Fire_(BTS_song).txt', 'Pretty_Savage.txt', 'Tally.txt', 'LATATA.txt', 'Umpah_Umpah.txt', 'We_are_Bulletproof:_the_Eternal.txt', 'MY_BAG.txt', 'LOVE.txt', 'POP!.txt', 'Celebrate.txt', 'Still_Life.txt', 'WANNABE.txt', 'Blue_Flame.txt', 'Eleven.txt', 'Pink_Venom.txt', 'Paradise.txt', 'Power_Up.txt', 'Savage_(song).txt', 'BYE_BYE.txt', 'I_Give_You_My_Heart.txt', 'Queendom.txt', 'Cheer_Up.txt', 'Kissing_You_(song).txt', 'ESCAPE.txt', 'COOL_(Your_rainbow).txt', 'Zimzalabim.txt', 'Dope.txt', 'My_Universe_(song).txt', 'ICONIC.txt', 'TOMBOY.txt', 'YEPPI_YEPPI.txt', 'Forever_Young.txt', 'The_Great_Mermaid.txt', 'Forever.txt', 'POP\\\\STARS.txt', 'Awake.txt', 'Way_to_Go!.txt', 'How_You_Like_That.txt', 'TANK.txt', 'Save_Me.txt', 'Always_(song).txt', 'Lucid_Dream.txt', 'Life_Goes_On_(BTS_song).txt', 'That_That_(Prod._%26_Feat._SUGA_of_BTS).txt', 'Idol_(BTS_song).txt', 'Senorita.txt', 'Fake_Love_(BTS_song).txt', 'Permission_to_Dance.txt', 'Funky_Glitter_Christmas.txt', 'Life%27s_Too_Short_(English_Ver.).txt', 'Flower_Road.txt', 'Best_Of_Me.txt', 'RBB_(Really_Bad_Boy).txt', 'ICU.txt', 'ANTIFRAGILE_(song).txt', 'Forever_1_(song).txt', 'Moon.txt', 'Dynamite_(Holiday_Remix).txt', 'Friends.txt', 'Not_Today.txt', 'Lion_Heart_(song).txt', 'Party_(song).txt', 'Mic_Drop_(song).txt', 'Blood_Sweat_%26_Tears_(song).txt', 'Russian_Roulette.txt', 'Snowy_Wish.txt', 'DICE.txt', 'Dumb_Dumb.txt', 'Fearless_(Le_Sserafim_song).txt', 'Love_Dive.txt', 'Black_Mamba.txt', 'Royal.txt', 'Kiss.txt', 'Lies.txt', 'Filter.txt', 'FXXK_IT.txt', 'On_A_Ride.txt', 'Rookie.txt', '00:00_(Zero_O%27Clock).txt', 'Red_Flavor.txt', 'Feel_My_Rhythm.txt', 'IU_-_Meaning_of_you_Ft._Kim_Chang_Wan.txt', 'Telepathy.txt', 'O.O.txt', 'Sorry_Not_Sorry.txt', 'Bad_Boy.txt', 'Uh-Oh.txt', 'What_Is_Love%3F.txt', 'Boy_In_Luv.txt', 'Aenergy.txt', 'My_Sea.txt', 'I%27m_Fine.txt', 'Fancy.txt', 'Peek-A-Boo.txt', 'Blueming.txt', 'Eight_(Prod._%26_Feat._Suga_of_BTS).txt', 'Last_Farewell.txt', 'HANN_(Alone).txt', 'Life%27s_Too_Short.txt', 'Yeah_Yeah_Yeah.txt', 'Love_Maze.txt']\n"
     ]
    }
   ],
   "source": [
    "path = \"/Users/luchengliang/Social_Graph_and_Networks/Final_Project/jsonWebpage\"\n",
    "\n",
    "dir_list = os.listdir(path)\n",
    "    \n",
    "print(\"Files: \") \n",
    "# print the list\n",
    "print(dir_list)"
   ]
  },
  {
   "cell_type": "markdown",
   "metadata": {},
   "source": [
    "<h1>Find Lyrics<h1>"
   ]
  },
  {
   "cell_type": "code",
   "execution_count": 9,
   "metadata": {},
   "outputs": [],
   "source": [
    "all_df['lyrics'] = pd.Series(dtype='str')"
   ]
  },
  {
   "cell_type": "code",
   "execution_count": 10,
   "metadata": {},
   "outputs": [
    {
     "data": {
      "text/html": [
       "<div>\n",
       "<style scoped>\n",
       "    .dataframe tbody tr th:only-of-type {\n",
       "        vertical-align: middle;\n",
       "    }\n",
       "\n",
       "    .dataframe tbody tr th {\n",
       "        vertical-align: top;\n",
       "    }\n",
       "\n",
       "    .dataframe thead th {\n",
       "        text-align: right;\n",
       "    }\n",
       "</style>\n",
       "<table border=\"1\" class=\"dataframe\">\n",
       "  <thead>\n",
       "    <tr style=\"text-align: right;\">\n",
       "      <th></th>\n",
       "      <th>NO</th>\n",
       "      <th>song</th>\n",
       "      <th>resource</th>\n",
       "      <th>Web</th>\n",
       "      <th>group</th>\n",
       "      <th>group_wiki</th>\n",
       "      <th>lyrics</th>\n",
       "    </tr>\n",
       "  </thead>\n",
       "  <tbody>\n",
       "    <tr>\n",
       "      <th>0</th>\n",
       "      <td>1</td>\n",
       "      <td>ANTIFRAGILE_(song)</td>\n",
       "      <td>Wiki_f</td>\n",
       "      <td>https://le-sserafim.fandom.com/wiki/ANTIFRAGIL...</td>\n",
       "      <td>Le_Sserafim</td>\n",
       "      <td>le-sserafim</td>\n",
       "      <td>NaN</td>\n",
       "    </tr>\n",
       "    <tr>\n",
       "      <th>1</th>\n",
       "      <td>2</td>\n",
       "      <td>Fearless_(Le_Sserafim_song)</td>\n",
       "      <td>Wiki</td>\n",
       "      <td>NaN</td>\n",
       "      <td>Le_Sserafim</td>\n",
       "      <td>le-sserafim</td>\n",
       "      <td>NaN</td>\n",
       "    </tr>\n",
       "    <tr>\n",
       "      <th>2</th>\n",
       "      <td>3</td>\n",
       "      <td>impurities</td>\n",
       "      <td>NaN</td>\n",
       "      <td>NaN</td>\n",
       "      <td>Le_Sserafim</td>\n",
       "      <td>le-sserafim</td>\n",
       "      <td>NaN</td>\n",
       "    </tr>\n",
       "    <tr>\n",
       "      <th>3</th>\n",
       "      <td>4</td>\n",
       "      <td>Good Parts (when the quality is bad but I am)</td>\n",
       "      <td>NaN</td>\n",
       "      <td>NaN</td>\n",
       "      <td>Le_Sserafim</td>\n",
       "      <td>le-sserafim</td>\n",
       "      <td>NaN</td>\n",
       "    </tr>\n",
       "    <tr>\n",
       "      <th>4</th>\n",
       "      <td>5</td>\n",
       "      <td>no celestial</td>\n",
       "      <td>NaN</td>\n",
       "      <td>NaN</td>\n",
       "      <td>Le_Sserafim</td>\n",
       "      <td>le-sserafim</td>\n",
       "      <td>NaN</td>\n",
       "    </tr>\n",
       "    <tr>\n",
       "      <th>...</th>\n",
       "      <td>...</td>\n",
       "      <td>...</td>\n",
       "      <td>...</td>\n",
       "      <td>...</td>\n",
       "      <td>...</td>\n",
       "      <td>...</td>\n",
       "      <td>...</td>\n",
       "    </tr>\n",
       "    <tr>\n",
       "      <th>203</th>\n",
       "      <td>3</td>\n",
       "      <td>Funky_Glitter_Christmas</td>\n",
       "      <td>Wiki_f</td>\n",
       "      <td>https://kpop.fandom.com/wiki/Funky_Glitter_Chr...</td>\n",
       "      <td>NMIXX</td>\n",
       "      <td>nmixx</td>\n",
       "      <td>NaN</td>\n",
       "    </tr>\n",
       "    <tr>\n",
       "      <th>204</th>\n",
       "      <td>4</td>\n",
       "      <td>COOL_(Your_rainbow)</td>\n",
       "      <td>Wiki_f</td>\n",
       "      <td>https://nmixx.fandom.com/wiki/COOL_(Your_rainbow)</td>\n",
       "      <td>NMIXX</td>\n",
       "      <td>nmixx</td>\n",
       "      <td>NaN</td>\n",
       "    </tr>\n",
       "    <tr>\n",
       "      <th>205</th>\n",
       "      <td>5</td>\n",
       "      <td>Kiss</td>\n",
       "      <td>Wiki_f</td>\n",
       "      <td>https://nmixx.fandom.com/wiki/Kiss</td>\n",
       "      <td>NMIXX</td>\n",
       "      <td>nmixx</td>\n",
       "      <td>NaN</td>\n",
       "    </tr>\n",
       "    <tr>\n",
       "      <th>206</th>\n",
       "      <td>6</td>\n",
       "      <td>TANK</td>\n",
       "      <td>Wiki_f</td>\n",
       "      <td>https://nmixx.fandom.com/wiki/TANK</td>\n",
       "      <td>NMIXX</td>\n",
       "      <td>nmixx</td>\n",
       "      <td>NaN</td>\n",
       "    </tr>\n",
       "    <tr>\n",
       "      <th>207</th>\n",
       "      <td>7</td>\n",
       "      <td>Sprinkle_Party</td>\n",
       "      <td>Wiki_f</td>\n",
       "      <td>https://nmixx.fandom.com/wiki/Sprinkle_Party</td>\n",
       "      <td>NMIXX</td>\n",
       "      <td>nmixx</td>\n",
       "      <td>NaN</td>\n",
       "    </tr>\n",
       "  </tbody>\n",
       "</table>\n",
       "<p>208 rows × 7 columns</p>\n",
       "</div>"
      ],
      "text/plain": [
       "     NO                                           song resource  \\\n",
       "0     1                             ANTIFRAGILE_(song)   Wiki_f   \n",
       "1     2                    Fearless_(Le_Sserafim_song)     Wiki   \n",
       "2     3                                     impurities      NaN   \n",
       "3     4  Good Parts (when the quality is bad but I am)      NaN   \n",
       "4     5                                   no celestial      NaN   \n",
       "..   ..                                            ...      ...   \n",
       "203   3                        Funky_Glitter_Christmas   Wiki_f   \n",
       "204   4                            COOL_(Your_rainbow)   Wiki_f   \n",
       "205   5                                           Kiss   Wiki_f   \n",
       "206   6                                           TANK   Wiki_f   \n",
       "207   7                                 Sprinkle_Party   Wiki_f   \n",
       "\n",
       "                                                   Web        group  \\\n",
       "0    https://le-sserafim.fandom.com/wiki/ANTIFRAGIL...  Le_Sserafim   \n",
       "1                                                  NaN  Le_Sserafim   \n",
       "2                                                  NaN  Le_Sserafim   \n",
       "3                                                  NaN  Le_Sserafim   \n",
       "4                                                  NaN  Le_Sserafim   \n",
       "..                                                 ...          ...   \n",
       "203  https://kpop.fandom.com/wiki/Funky_Glitter_Chr...        NMIXX   \n",
       "204  https://nmixx.fandom.com/wiki/COOL_(Your_rainbow)        NMIXX   \n",
       "205                 https://nmixx.fandom.com/wiki/Kiss        NMIXX   \n",
       "206                 https://nmixx.fandom.com/wiki/TANK        NMIXX   \n",
       "207       https://nmixx.fandom.com/wiki/Sprinkle_Party        NMIXX   \n",
       "\n",
       "      group_wiki lyrics  \n",
       "0    le-sserafim    NaN  \n",
       "1    le-sserafim    NaN  \n",
       "2    le-sserafim    NaN  \n",
       "3    le-sserafim    NaN  \n",
       "4    le-sserafim    NaN  \n",
       "..           ...    ...  \n",
       "203        nmixx    NaN  \n",
       "204        nmixx    NaN  \n",
       "205        nmixx    NaN  \n",
       "206        nmixx    NaN  \n",
       "207        nmixx    NaN  \n",
       "\n",
       "[208 rows x 7 columns]"
      ]
     },
     "execution_count": 10,
     "metadata": {},
     "output_type": "execute_result"
    }
   ],
   "source": [
    "all_df"
   ]
  },
  {
   "cell_type": "markdown",
   "metadata": {},
   "source": [
    "<h3>Scrapt a single song lyrics<h3>"
   ]
  },
  {
   "cell_type": "code",
   "execution_count": 13,
   "metadata": {},
   "outputs": [
    {
     "data": {
      "text/plain": [
       "'think bout nude cause view rude think outside box like hello name yeppi yeppi slightly dumb way talk got sexy sexy figure well tiara diamond think laugh laugh twisted lorelei need man bookworm obsessed philosophy selfmade woman flabbergasted sassy story audience booing shouting tricked liar ah undressed movie star ah night broken starlight even look tacky fall apart even loved anymore yes nude nude ddaddalatddara yes nude nude give love baby look look put beautiful self ddaddalatddara baby look look put beautiful self ddaddalatddara ouch excusezmoi sitting expecting rated r show oh sorry showing refund see direction whatever people say interest welcome throw popcorns rating inverse bliss climax feel sick prejudice made ah undressed movie star ah shameless night even look tacky perhaps even loved anymore yes nude nude ddaddalatddara yes nude nude give love baby look look put beautiful self ddaddalatddara baby look look put beautiful self ddaddalatddara um ha um ha um ha um yes nude yes nude draw luxury nude think bout nude cause view rude think outside box speak beautiful self beautiful self born nude got dirty mind rude nude'"
      ]
     },
     "execution_count": 13,
     "metadata": {},
     "output_type": "execute_result"
    }
   ],
   "source": [
    "url = \"https://g-i-dle.fandom.com/wiki/Nxde\"\n",
    "req = urllib3.PoolManager()\n",
    "res = req.request('GET', url)\n",
    "soup = BeautifulSoup(res.data, 'html.parser')\n",
    "lyrics = soup.find_all('div', attrs={\"class\":\"poem\"})\n",
    "\n",
    "#Become the normal lyrics\n",
    "result = re.sub(r'\\<(.*)\\>', '', lyrics[-2].prettify())\n",
    "result = re.sub(r'\\n', '', result)\n",
    "result = ' '.join(result.split())\n",
    "\n",
    "#Replace Stop words\n",
    "tokens = word_tokenize(result.lower())\n",
    "english_stopwords = stopwords.words('english')\n",
    "tokens_wo_stopwords= [t for t in tokens if t not in english_stopwords]\n",
    "result = \" \".join(tokens_wo_stopwords)\n",
    "result = ''.join(char for char in result if char.isalnum() or char.isspace())\n",
    "result = ' '.join(result.split())\n",
    "\n",
    "result"
   ]
  },
  {
   "cell_type": "markdown",
   "metadata": {},
   "source": [
    "<h3>Try to get multiple songs' lyrics<h3>"
   ]
  },
  {
   "cell_type": "code",
   "execution_count": 23,
   "metadata": {},
   "outputs": [],
   "source": [
    "def kpop_eachfandom_lyrics(song_name, gname):\n",
    "    url = \"https://\" + gname + \".fandom.com/wiki/\" + song_name\n",
    "    req = urllib3.PoolManager()\n",
    "    res = req.request('GET', url)\n",
    "    soup = BeautifulSoup(res.data, 'html.parser')\n",
    "    lyrics = soup.find_all('div', attrs={\"class\":\"poem\"})\n",
    "    if len(lyrics) == 0:\n",
    "        return \"notfound\"\n",
    "    \n",
    "    #Become the normal lyrics\n",
    "    result = re.sub(r'\\<(.*)\\>', '', lyrics[-2].prettify())\n",
    "    result = re.sub(r'\\n', '', result)\n",
    "    result = ' '.join(result.split())\n",
    "\n",
    "    #Replace Stop words\n",
    "    tokens = word_tokenize(result.lower())\n",
    "    english_stopwords = stopwords.words('english')\n",
    "    tokens_wo_stopwords= [t for t in tokens if t not in english_stopwords]\n",
    "    result = \" \".join(tokens_wo_stopwords)\n",
    "    result = ''.join(char for char in result if char.isalnum() or char.isspace())\n",
    "    result = ' '.join(result.split())\n",
    "    return result\n"
   ]
  },
  {
   "cell_type": "code",
   "execution_count": 24,
   "metadata": {},
   "outputs": [
    {
     "name": "stderr",
     "output_type": "stream",
     "text": [
      "  0%|          | 0/208 [00:00<?, ?it/s]"
     ]
    },
    {
     "name": "stdout",
     "output_type": "stream",
     "text": [
      "ANTIFRAGILE_(song)\n"
     ]
    },
    {
     "name": "stderr",
     "output_type": "stream",
     "text": [
      "  0%|          | 1/208 [00:02<07:22,  2.14s/it]"
     ]
    },
    {
     "name": "stdout",
     "output_type": "stream",
     "text": [
      "Blue_Flame\n"
     ]
    },
    {
     "name": "stderr",
     "output_type": "stream",
     "text": [
      "  3%|▎         | 6/208 [00:04<02:09,  1.56it/s]"
     ]
    },
    {
     "name": "stdout",
     "output_type": "stream",
     "text": [
      "Sour_Grapes\n"
     ]
    },
    {
     "name": "stderr",
     "output_type": "stream",
     "text": [
      "  3%|▎         | 7/208 [00:05<02:28,  1.35it/s]"
     ]
    },
    {
     "name": "stdout",
     "output_type": "stream",
     "text": [
      "The_Great_Mermaid\n"
     ]
    },
    {
     "name": "stderr",
     "output_type": "stream",
     "text": [
      "  4%|▍         | 9/208 [00:06<02:17,  1.44it/s]"
     ]
    },
    {
     "name": "stdout",
     "output_type": "stream",
     "text": [
      "Forever_1_(song)\n"
     ]
    },
    {
     "name": "stderr",
     "output_type": "stream",
     "text": [
      "  6%|▌         | 12/208 [00:07<01:26,  2.26it/s]"
     ]
    },
    {
     "name": "stdout",
     "output_type": "stream",
     "text": [
      "Into_the_New_World_(song)\n",
      "Gee_(song)\n"
     ]
    },
    {
     "name": "stderr",
     "output_type": "stream",
     "text": [
      "  6%|▋         | 13/208 [00:07<01:14,  2.61it/s]"
     ]
    },
    {
     "name": "stdout",
     "output_type": "stream",
     "text": [
      "Lion_Heart_(song)\n"
     ]
    },
    {
     "name": "stderr",
     "output_type": "stream",
     "text": [
      "  7%|▋         | 14/208 [00:07<01:12,  2.69it/s]"
     ]
    },
    {
     "name": "stdout",
     "output_type": "stream",
     "text": [
      "Snowy_Wish\n"
     ]
    },
    {
     "name": "stderr",
     "output_type": "stream",
     "text": [
      "  7%|▋         | 15/208 [00:07<01:08,  2.80it/s]"
     ]
    },
    {
     "name": "stdout",
     "output_type": "stream",
     "text": [
      "Party_(song)\n"
     ]
    },
    {
     "name": "stderr",
     "output_type": "stream",
     "text": [
      "  8%|▊         | 16/208 [00:08<01:27,  2.20it/s]"
     ]
    },
    {
     "name": "stdout",
     "output_type": "stream",
     "text": [
      "Tell_Me_Your_Wish_(Genie)_(song)\n"
     ]
    },
    {
     "name": "stderr",
     "output_type": "stream",
     "text": [
      "  8%|▊         | 17/208 [00:09<01:31,  2.10it/s]"
     ]
    },
    {
     "name": "stdout",
     "output_type": "stream",
     "text": [
      "Oh!_(song)\n"
     ]
    },
    {
     "name": "stderr",
     "output_type": "stream",
     "text": [
      "  9%|▊         | 18/208 [00:09<01:34,  2.01it/s]"
     ]
    },
    {
     "name": "stdout",
     "output_type": "stream",
     "text": [
      "Way_to_Go!\n"
     ]
    },
    {
     "name": "stderr",
     "output_type": "stream",
     "text": [
      "  9%|▉         | 19/208 [00:10<01:33,  2.01it/s]"
     ]
    },
    {
     "name": "stdout",
     "output_type": "stream",
     "text": [
      "Kissing_You_(song)\n"
     ]
    },
    {
     "name": "stderr",
     "output_type": "stream",
     "text": [
      " 10%|▉         | 20/208 [00:10<01:37,  1.94it/s]"
     ]
    },
    {
     "name": "stdout",
     "output_type": "stream",
     "text": [
      "That_That_(Prod._%26_Feat._SUGA_of_BTS)\n"
     ]
    },
    {
     "name": "stderr",
     "output_type": "stream",
     "text": [
      " 11%|█         | 22/208 [00:11<01:16,  2.42it/s]"
     ]
    },
    {
     "name": "stdout",
     "output_type": "stream",
     "text": [
      "Left_and_Right_(Feat._Jung_Kook_of_BTS)\n"
     ]
    },
    {
     "name": "stderr",
     "output_type": "stream",
     "text": [
      " 12%|█▏        | 25/208 [00:11<01:26,  2.11it/s]\n"
     ]
    },
    {
     "ename": "IndexError",
     "evalue": "list index out of range",
     "output_type": "error",
     "traceback": [
      "\u001b[0;31m---------------------------------------------------------------------------\u001b[0m",
      "\u001b[0;31mIndexError\u001b[0m                                Traceback (most recent call last)",
      "Cell \u001b[0;32mIn [24], line 7\u001b[0m\n\u001b[1;32m      5\u001b[0m \u001b[39mif\u001b[39;00m \u001b[39m'\u001b[39m\u001b[39m//kpop.fandom\u001b[39m\u001b[39m'\u001b[39m \u001b[39mnot\u001b[39;00m \u001b[39min\u001b[39;00m \u001b[39mstr\u001b[39m(x[\u001b[39m'\u001b[39m\u001b[39mWeb\u001b[39m\u001b[39m'\u001b[39m]):\n\u001b[1;32m      6\u001b[0m    \u001b[39mprint\u001b[39m(x[\u001b[39m'\u001b[39m\u001b[39msong\u001b[39m\u001b[39m'\u001b[39m])\n\u001b[0;32m----> 7\u001b[0m    lyrics \u001b[39m=\u001b[39m kpop_eachfandom_lyrics(x[\u001b[39m'\u001b[39;49m\u001b[39msong\u001b[39;49m\u001b[39m'\u001b[39;49m], x[\u001b[39m'\u001b[39;49m\u001b[39mgroup_wiki\u001b[39;49m\u001b[39m'\u001b[39;49m])\n\u001b[1;32m      9\u001b[0m    \u001b[39mif\u001b[39;00m lyrics \u001b[39m==\u001b[39m \u001b[39m\"\u001b[39m\u001b[39mnotfound\u001b[39m\u001b[39m\"\u001b[39m:\n\u001b[1;32m     10\u001b[0m       \u001b[39mcontinue\u001b[39;00m\n",
      "Cell \u001b[0;32mIn [23], line 11\u001b[0m, in \u001b[0;36mkpop_eachfandom_lyrics\u001b[0;34m(song_name, gname)\u001b[0m\n\u001b[1;32m      8\u001b[0m     \u001b[39mreturn\u001b[39;00m \u001b[39m\"\u001b[39m\u001b[39mnotfound\u001b[39m\u001b[39m\"\u001b[39m\n\u001b[1;32m     10\u001b[0m \u001b[39m#Become the normal lyrics\u001b[39;00m\n\u001b[0;32m---> 11\u001b[0m result \u001b[39m=\u001b[39m re\u001b[39m.\u001b[39msub(\u001b[39mr\u001b[39m\u001b[39m'\u001b[39m\u001b[39m\\\u001b[39m\u001b[39m<(.*)\u001b[39m\u001b[39m\\\u001b[39m\u001b[39m>\u001b[39m\u001b[39m'\u001b[39m, \u001b[39m'\u001b[39m\u001b[39m'\u001b[39m, lyrics[\u001b[39m-\u001b[39;49m\u001b[39m2\u001b[39;49m]\u001b[39m.\u001b[39mprettify())\n\u001b[1;32m     12\u001b[0m result \u001b[39m=\u001b[39m re\u001b[39m.\u001b[39msub(\u001b[39mr\u001b[39m\u001b[39m'\u001b[39m\u001b[39m\\\u001b[39m\u001b[39mn\u001b[39m\u001b[39m'\u001b[39m, \u001b[39m'\u001b[39m\u001b[39m'\u001b[39m, result)\n\u001b[1;32m     13\u001b[0m result \u001b[39m=\u001b[39m \u001b[39m'\u001b[39m\u001b[39m \u001b[39m\u001b[39m'\u001b[39m\u001b[39m.\u001b[39mjoin(result\u001b[39m.\u001b[39msplit())\n",
      "\u001b[0;31mIndexError\u001b[0m: list index out of range"
     ]
    }
   ],
   "source": [
    "for i in tqdm(range(len(all_df))):\n",
    "   x = all_df.iloc[i, :]\n",
    "   \n",
    "   if x['resource'] == 'Wiki_f':\n",
    "      if '//kpop.fandom' not in str(x['Web']):\n",
    "         print(x['song'])\n",
    "         lyrics = kpop_eachfandom_lyrics(x['song'], x['group_wiki'])\n",
    "         \n",
    "         if lyrics == \"notfound\":\n",
    "            continue\n",
    "            \n",
    "         all_df.loc[i, ['lyrics']] = lyrics\n",
    "      else:\n",
    "         continue"
   ]
  },
  {
   "cell_type": "markdown",
   "metadata": {},
   "source": [
    "<h2>Songs that have lyrics<h2>"
   ]
  },
  {
   "cell_type": "code",
   "execution_count": 272,
   "metadata": {},
   "outputs": [
    {
     "name": "stdout",
     "output_type": "stream",
     "text": [
      "88\n",
      "38\n",
      "Songs that have lyrics: 82\n"
     ]
    }
   ],
   "source": [
    "N = len(all_df[all_df['lyrics'] == 'nfind'])\n",
    "nan = all_df['lyrics'].isnull().sum()\n",
    "\n",
    "print(N)\n",
    "print(nan)\n",
    "print(\"Songs that have lyrics:\", len(all_df)-N-nan)\n"
   ]
  },
  {
   "cell_type": "code",
   "execution_count": 273,
   "metadata": {},
   "outputs": [
    {
     "data": {
      "text/html": [
       "<div>\n",
       "<style scoped>\n",
       "    .dataframe tbody tr th:only-of-type {\n",
       "        vertical-align: middle;\n",
       "    }\n",
       "\n",
       "    .dataframe tbody tr th {\n",
       "        vertical-align: top;\n",
       "    }\n",
       "\n",
       "    .dataframe thead th {\n",
       "        text-align: right;\n",
       "    }\n",
       "</style>\n",
       "<table border=\"1\" class=\"dataframe\">\n",
       "  <thead>\n",
       "    <tr style=\"text-align: right;\">\n",
       "      <th></th>\n",
       "      <th>NO</th>\n",
       "      <th>song</th>\n",
       "      <th>resource</th>\n",
       "      <th>Web</th>\n",
       "      <th>group</th>\n",
       "      <th>group_wiki</th>\n",
       "      <th>lyrics</th>\n",
       "    </tr>\n",
       "  </thead>\n",
       "  <tbody>\n",
       "    <tr>\n",
       "      <th>0</th>\n",
       "      <td>1</td>\n",
       "      <td>ANTIFRAGILE_(song)</td>\n",
       "      <td>Wiki_f</td>\n",
       "      <td>https://le-sserafim.fandom.com/wiki/ANTIFRAGIL...</td>\n",
       "      <td>Le_Sserafim</td>\n",
       "      <td>le-sserafim</td>\n",
       "      <td>anti ti ti ti fragile fragile anti ti ti ti fr...</td>\n",
       "    </tr>\n",
       "    <tr>\n",
       "      <th>1</th>\n",
       "      <td>6</td>\n",
       "      <td>Blue_Flame</td>\n",
       "      <td>Wiki_f</td>\n",
       "      <td>NaN</td>\n",
       "      <td>Le_Sserafim</td>\n",
       "      <td>le-sserafim</td>\n",
       "      <td>colorsakuraill like ill like like coloryunjini...</td>\n",
       "    </tr>\n",
       "    <tr>\n",
       "      <th>2</th>\n",
       "      <td>7</td>\n",
       "      <td>Sour_Grapes</td>\n",
       "      <td>Wiki_f</td>\n",
       "      <td>NaN</td>\n",
       "      <td>Le_Sserafim</td>\n",
       "      <td>le-sserafim</td>\n",
       "      <td>colorchaewondu ru ru ru ru du du yeah colorgar...</td>\n",
       "    </tr>\n",
       "    <tr>\n",
       "      <th>3</th>\n",
       "      <td>9</td>\n",
       "      <td>The_Great_Mermaid</td>\n",
       "      <td>Wiki_f</td>\n",
       "      <td>NaN</td>\n",
       "      <td>Le_Sserafim</td>\n",
       "      <td>le-sserafim</td>\n",
       "      <td>colorchaewonwish never cost matter wont give o...</td>\n",
       "    </tr>\n",
       "    <tr>\n",
       "      <th>4</th>\n",
       "      <td>1</td>\n",
       "      <td>Forever_1_(song)</td>\n",
       "      <td>Wiki_f</td>\n",
       "      <td>https://girls-generation.fandom.com/wiki/Forev...</td>\n",
       "      <td>Girls-Generation</td>\n",
       "      <td>girls-generation</td>\n",
       "      <td>forever 1 love love stopping make world beauti...</td>\n",
       "    </tr>\n",
       "    <tr>\n",
       "      <th>...</th>\n",
       "      <td>...</td>\n",
       "      <td>...</td>\n",
       "      <td>...</td>\n",
       "      <td>...</td>\n",
       "      <td>...</td>\n",
       "      <td>...</td>\n",
       "      <td>...</td>\n",
       "    </tr>\n",
       "    <tr>\n",
       "      <th>77</th>\n",
       "      <td>16</td>\n",
       "      <td>Hard_to_Love</td>\n",
       "      <td>Wiki_f</td>\n",
       "      <td>https://black-pink.fandom.com/wiki/Hard_to_Love</td>\n",
       "      <td>BLACKPINK</td>\n",
       "      <td>black-pink</td>\n",
       "      <td>color lyricsroséaint magic tool fix keep dista...</td>\n",
       "    </tr>\n",
       "    <tr>\n",
       "      <th>78</th>\n",
       "      <td>18</td>\n",
       "      <td>Whistle</td>\n",
       "      <td>Wiki_f</td>\n",
       "      <td>https://black-pink.fandom.com/wiki/Whistle</td>\n",
       "      <td>BLACKPINK</td>\n",
       "      <td>black-pink</td>\n",
       "      <td>div classjisoohey boydiv div classlisamake em ...</td>\n",
       "    </tr>\n",
       "    <tr>\n",
       "      <th>79</th>\n",
       "      <td>2</td>\n",
       "      <td>Lies</td>\n",
       "      <td>Wiki_f</td>\n",
       "      <td>https://bigbangkpop.fandom.com/wiki/Lies</td>\n",
       "      <td>Bigbang</td>\n",
       "      <td>bigbangkpop</td>\n",
       "      <td>yeah love pain dedicated brokenhearted people ...</td>\n",
       "    </tr>\n",
       "    <tr>\n",
       "      <th>80</th>\n",
       "      <td>4</td>\n",
       "      <td>Always_(song)</td>\n",
       "      <td>Wiki_f</td>\n",
       "      <td>https://bigbangkpop.fandom.com/wiki/Always_(song)</td>\n",
       "      <td>Bigbang</td>\n",
       "      <td>bigbangkpop</td>\n",
       "      <td>first day couldnt keep eyes time stopped new l...</td>\n",
       "    </tr>\n",
       "    <tr>\n",
       "      <th>81</th>\n",
       "      <td>7</td>\n",
       "      <td>Last_Farewell</td>\n",
       "      <td>Wiki_f</td>\n",
       "      <td>https://bigbangkpop.fandom.com/wiki/Last_Farewell</td>\n",
       "      <td>Bigbang</td>\n",
       "      <td>bigbangkpop</td>\n",
       "      <td>yes big bang back definitely incredible hey mo...</td>\n",
       "    </tr>\n",
       "  </tbody>\n",
       "</table>\n",
       "<p>82 rows × 7 columns</p>\n",
       "</div>"
      ],
      "text/plain": [
       "    NO                song resource  \\\n",
       "0    1  ANTIFRAGILE_(song)   Wiki_f   \n",
       "1    6          Blue_Flame   Wiki_f   \n",
       "2    7         Sour_Grapes   Wiki_f   \n",
       "3    9   The_Great_Mermaid   Wiki_f   \n",
       "4    1    Forever_1_(song)   Wiki_f   \n",
       "..  ..                 ...      ...   \n",
       "77  16        Hard_to_Love   Wiki_f   \n",
       "78  18             Whistle   Wiki_f   \n",
       "79   2                Lies   Wiki_f   \n",
       "80   4       Always_(song)   Wiki_f   \n",
       "81   7       Last_Farewell   Wiki_f   \n",
       "\n",
       "                                                  Web             group  \\\n",
       "0   https://le-sserafim.fandom.com/wiki/ANTIFRAGIL...       Le_Sserafim   \n",
       "1                                                 NaN       Le_Sserafim   \n",
       "2                                                 NaN       Le_Sserafim   \n",
       "3                                                 NaN       Le_Sserafim   \n",
       "4   https://girls-generation.fandom.com/wiki/Forev...  Girls-Generation   \n",
       "..                                                ...               ...   \n",
       "77    https://black-pink.fandom.com/wiki/Hard_to_Love         BLACKPINK   \n",
       "78         https://black-pink.fandom.com/wiki/Whistle         BLACKPINK   \n",
       "79           https://bigbangkpop.fandom.com/wiki/Lies           Bigbang   \n",
       "80  https://bigbangkpop.fandom.com/wiki/Always_(song)           Bigbang   \n",
       "81  https://bigbangkpop.fandom.com/wiki/Last_Farewell           Bigbang   \n",
       "\n",
       "          group_wiki                                             lyrics  \n",
       "0        le-sserafim  anti ti ti ti fragile fragile anti ti ti ti fr...  \n",
       "1        le-sserafim  colorsakuraill like ill like like coloryunjini...  \n",
       "2        le-sserafim  colorchaewondu ru ru ru ru du du yeah colorgar...  \n",
       "3        le-sserafim  colorchaewonwish never cost matter wont give o...  \n",
       "4   girls-generation  forever 1 love love stopping make world beauti...  \n",
       "..               ...                                                ...  \n",
       "77        black-pink  color lyricsroséaint magic tool fix keep dista...  \n",
       "78        black-pink  div classjisoohey boydiv div classlisamake em ...  \n",
       "79       bigbangkpop  yeah love pain dedicated brokenhearted people ...  \n",
       "80       bigbangkpop  first day couldnt keep eyes time stopped new l...  \n",
       "81       bigbangkpop  yes big bang back definitely incredible hey mo...  \n",
       "\n",
       "[82 rows x 7 columns]"
      ]
     },
     "execution_count": 273,
     "metadata": {},
     "output_type": "execute_result"
    }
   ],
   "source": [
    "df_wLyrics = all_df[(all_df['lyrics'] != 'nfind') & (all_df['lyrics'].isna() == False)] \n",
    "df_wLyrics = df_wLyrics.reset_index()\n",
    "del df_wLyrics['index']\n",
    "df_wLyrics"
   ]
  },
  {
   "cell_type": "markdown",
   "metadata": {},
   "source": [
    "**試驗**"
   ]
  },
  {
   "cell_type": "code",
   "execution_count": 274,
   "metadata": {},
   "outputs": [
    {
     "name": "stdout",
     "output_type": "stream",
     "text": [
      "0.8565656903365492\n"
     ]
    }
   ],
   "source": [
    "warnings.filterwarnings(\"ignore\")\n",
    "nlp = spacy.load('en_core_web_sm')\n",
    "\n",
    "'''\n",
    "doc1 = nlp('Hello hi there!')\n",
    "doc2 = nlp('Hello hi there!')\n",
    "doc3 = nlp('Hey whatsup?')\n",
    "\n",
    "print (doc1.similarity(doc2)) # 0.999999954642\n",
    "print (doc2.similarity(doc3)) # 0.699032527716\n",
    "print (doc1.similarity(doc3))\n",
    "'''\n",
    "\n",
    "doc1 = nlp(all_df.loc[0, ['lyrics']].item())\n",
    "doc2 = nlp(all_df.loc[184, ['lyrics']].item())\n",
    "\n",
    "print(doc1.similarity(doc2)) # 0.999999954642"
   ]
  },
  {
   "cell_type": "markdown",
   "metadata": {},
   "source": [
    "**試驗終了**"
   ]
  },
  {
   "cell_type": "markdown",
   "metadata": {},
   "source": [
    "<h3>Distribution for the similarity up to 0.75-1.0 and 0.5-0.75 between each kpop songs (National)<h3>"
   ]
  },
  {
   "cell_type": "code",
   "execution_count": 1,
   "metadata": {},
   "outputs": [
    {
     "ename": "NameError",
     "evalue": "name 'warnings' is not defined",
     "output_type": "error",
     "traceback": [
      "\u001b[0;31m---------------------------------------------------------------------------\u001b[0m",
      "\u001b[0;31mNameError\u001b[0m                                 Traceback (most recent call last)",
      "Cell \u001b[0;32mIn [1], line 1\u001b[0m\n\u001b[0;32m----> 1\u001b[0m warnings\u001b[39m.\u001b[39mfilterwarnings(\u001b[39m\"\u001b[39m\u001b[39mignore\u001b[39m\u001b[39m\"\u001b[39m)\n\u001b[1;32m      2\u001b[0m nlp \u001b[39m=\u001b[39m spacy\u001b[39m.\u001b[39mload(\u001b[39m'\u001b[39m\u001b[39men_core_web_sm\u001b[39m\u001b[39m'\u001b[39m)\n\u001b[1;32m      4\u001b[0m G \u001b[39m=\u001b[39m nx\u001b[39m.\u001b[39mGraph()\n",
      "\u001b[0;31mNameError\u001b[0m: name 'warnings' is not defined"
     ]
    }
   ],
   "source": [
    "warnings.filterwarnings(\"ignore\")\n",
    "nlp = spacy.load('en_core_web_sm')\n",
    "\n",
    "G = nx.Graph()\n",
    "warnings.filterwarnings(\"ignore\")\n",
    "nlp = spacy.load('en_core_web_sm')\n",
    "\n",
    "for i in range(len(df_wLyrics)):\n",
    "   doc1 = nlp(df_wLyrics.loc[i, ['lyrics']].item())\n",
    "   original_node_name = df_wLyrics.loc[i, ['song']].item()\n",
    "   \n",
    "   if original_node_name not in list(G.nodes):\n",
    "      G.add_node(original_node_name, universe = \"national\")\n",
    "   \n",
    "   for j in range(i+1, len(df_wLyrics)):\n",
    "      doc2 = nlp(df_wLyrics.loc[j, ['lyrics']].item())\n",
    "      new_node_name = df_wLyrics.loc[j, ['song']].item()\n",
    "      \n",
    "      if doc1.similarity(doc2) >= 0.75:\n",
    "         #build connection\n",
    "         if new_node_name in list(G.nodes):\n",
    "            G.add_edge(original_node_name, new_node_name, color='r', weight=1)\n",
    "         else:\n",
    "            G.add_node(new_node_name, universe = \"national\")\n",
    "            G.add_edge(original_node_name, new_node_name, color='r', weight=1)\n",
    "      elif doc1.similarity(doc2) >= 0.5:\n",
    "         #build connection\n",
    "         if new_node_name in list(G.nodes):\n",
    "            G.add_edge(original_node_name, new_node_name, color='g', weight=3)\n",
    "         else:\n",
    "            G.add_node(new_node_name, universe = \"national\")\n",
    "            G.add_edge(original_node_name, new_node_name, color='g', weight=3)"
   ]
  },
  {
   "cell_type": "code",
   "execution_count": 278,
   "metadata": {},
   "outputs": [
    {
     "name": "stdout",
     "output_type": "stream",
     "text": [
      "Graph with 81 nodes and 3088 edges\n"
     ]
    }
   ],
   "source": [
    "print(G)"
   ]
  },
  {
   "cell_type": "code",
   "execution_count": 295,
   "metadata": {},
   "outputs": [
    {
     "name": "stdout",
     "output_type": "stream",
     "text": [
      "The similarity point 0.75-1.0:  2046\n",
      "The similarity point 0.5-0.75:  1042\n"
     ]
    }
   ],
   "source": [
    "#print the \n",
    "count_r = 0\n",
    "count_g = 0\n",
    "col =nx.get_edge_attributes(G,'color')\n",
    "\n",
    "for edge in G.edges():\n",
    "    if col[edge] == 'r':\n",
    "        count_r += 1\n",
    "    elif col[edge] == 'g':\n",
    "        count_g += 1\n",
    "\n",
    "print(\"The similarity point 0.75-1.0: \", count_r)\n",
    "print(\"The similarity point 0.5-0.75: \", count_g)"
   ]
  },
  {
   "cell_type": "code",
   "execution_count": 296,
   "metadata": {},
   "outputs": [
    {
     "name": "stdout",
     "output_type": "stream",
     "text": [
      "Average of 0.75-1.0 similarity's degree: 51.15\n",
      "Median of 0.75-1.0 similarity's degree: 54.5\n",
      "Mode of 0.75-1.0 similarity's degree: 67\n",
      "Maximum degree value in 0.75-1.0 similarity's degree: 73\n",
      "Minimum degree value in 0.75-1.0 similarity's degree: 4\n",
      "- - - - - - - - - - - - - - - - - - - - - -\n",
      "Average of 0.5-0.75 similarity's degree: 26.05\n",
      "Median of 0.5-0.75 similarity's degree: 23.5\n",
      "Mode of 0.5-0.75 similarity's degree: 12\n",
      "Maximum degree value in 0.5-0.75 similarity's degree: 70\n",
      "Minimum degree value in 0.5-0.75 similarity's degree: 7\n"
     ]
    }
   ],
   "source": [
    "RG = nx.Graph( [ (u,v,d) for u,v,d in G.edges(data=True) if d['color'] == 'r'] )\n",
    "GG = nx.Graph( [ (u,v,d) for u,v,d in G.edges(data=True) if d['color'] == 'g'] )\n",
    "\n",
    "#similarity-0.75\n",
    "all_rdegree = sorted(RG.degree, key=lambda x: x[1], reverse=True)\n",
    "all_rdegree_nums = list(list(zip(*all_rdegree))[1])\n",
    "aver_rdegree = np.average(all_rdegree_nums)\n",
    "median_rdegree = np.median(all_rdegree_nums)\n",
    "mode_rdegree = max(all_rdegree_nums, key=all_rdegree_nums.count)\n",
    "max_rdegree = all_rdegree_nums[0]\n",
    "min_rdegree = all_rdegree_nums[-1]\n",
    "\n",
    "print(\"Average of 0.75-1.0 similarity's degree: \" + str(aver_rdegree))\n",
    "print(\"Median of 0.75-1.0 similarity's degree: \" + str(median_rdegree))\n",
    "print(\"Mode of 0.75-1.0 similarity's degree: \" + str(mode_rdegree))\n",
    "print(\"Maximum degree value in 0.75-1.0 similarity's degree: \" + str(max_rdegree))\n",
    "print(\"Minimum degree value in 0.75-1.0 similarity's degree: \" + str(min_rdegree))\n",
    "\n",
    "print(\"- - - - - - - - - - - - - - - - - - - - - -\")\n",
    "#similarity-0.5\n",
    "all_gdegree = sorted(GG.degree, key=lambda x: x[1], reverse=True)\n",
    "all_gdegree_nums = list(list(zip(*all_gdegree))[1])\n",
    "aver_gdegree = np.average(all_gdegree_nums)\n",
    "median_gdegree = np.median(all_gdegree_nums)\n",
    "mode_gdegree = max(all_gdegree_nums, key=all_gdegree_nums.count)\n",
    "max_gdegree = all_gdegree_nums[0]\n",
    "min_gdegree = all_gdegree_nums[-1]\n",
    "\n",
    "print(\"Average of 0.5-0.75 similarity's degree: \" + str(aver_gdegree))\n",
    "print(\"Median of 0.5-0.75 similarity's degree: \" + str(median_gdegree))\n",
    "print(\"Mode of 0.5-0.75 similarity's degree: \" + str(mode_gdegree))\n",
    "print(\"Maximum degree value in 0.5-0.75 similarity's degree: \" + str(max_gdegree))\n",
    "print(\"Minimum degree value in 0.5-0.75 similarity's degree: \" + str(min_gdegree))"
   ]
  },
  {
   "cell_type": "markdown",
   "metadata": {},
   "source": [
    "<h2>Degree distribution of 0.75-1.0 similarity<h2>"
   ]
  },
  {
   "cell_type": "code",
   "execution_count": 304,
   "metadata": {},
   "outputs": [
    {
     "data": {
      "text/plain": [
       "Text(0.5, 1.0, '0.75-1.0 similarity degree distribution (linear)')"
      ]
     },
     "execution_count": 304,
     "metadata": {},
     "output_type": "execute_result"
    },
    {
     "data": {
      "image/png": "[encoded data removed]",
      "text/plain": [
       "<Figure size 500x300 with 1 Axes>"
      ]
     },
     "metadata": {},
     "output_type": "display_data"
    }
   ],
   "source": [
    "def degree_distribution(degs):\n",
    "    maxdeg = degs[0]\n",
    "    mindeg = degs[-1]\n",
    "    \n",
    "    kvalues= np.arange(0,maxdeg+1) # possible values of k\n",
    "    count = np.zeros(maxdeg+1) # P(k)\n",
    "    for k in degs:\n",
    "        count[k] = count[k] + 1\n",
    "    count = count/sum(count) # the sum of the elements of count(Pk) must to be equal to one\n",
    "    return kvalues,count\n",
    "\n",
    "all_rdegree = sorted(RG.degree, key=lambda x: x[1], reverse=True)\n",
    "all_rdegree_nums = list(list(zip(*all_rdegree))[1])\n",
    "ks_in, count_in = degree_distribution(all_rdegree_nums)\n",
    "\n",
    "plt.figure(figsize=(5,3))\n",
    "plt.plot(ks_in,count_in,'ro')\n",
    "plt.xlabel(\"k\", fontsize=20)\n",
    "plt.ylabel(\"Count\", fontsize=20)\n",
    "plt.title(\"0.75-1.0 similarity degree distribution (linear)\", fontsize=20)"
   ]
  },
  {
   "cell_type": "markdown",
   "metadata": {},
   "source": [
    "<h2>Degree distribution of 0.5-0.75 similarity<h2>"
   ]
  },
  {
   "cell_type": "code",
   "execution_count": 305,
   "metadata": {},
   "outputs": [
    {
     "data": {
      "text/plain": [
       "Text(0.5, 1.0, '0.5-0.75 similarity degree distribution (linear)')"
      ]
     },
     "execution_count": 305,
     "metadata": {},
     "output_type": "execute_result"
    },
    {
     "data": {
      "image/png": "[encoded data removed]",
      "text/plain": [
       "<Figure size 500x300 with 1 Axes>"
      ]
     },
     "metadata": {},
     "output_type": "display_data"
    }
   ],
   "source": [
    "all_gdegree = sorted(GG.degree, key=lambda x: x[1], reverse=True)\n",
    "all_gdegree_nums = list(list(zip(*all_gdegree))[1])\n",
    "ks_in, count_in = degree_distribution(all_gdegree_nums)\n",
    "\n",
    "plt.figure(figsize=(5,3))\n",
    "plt.plot(ks_in,count_in,'go')\n",
    "plt.xlabel(\"k\", fontsize=20)\n",
    "plt.ylabel(\"Count\", fontsize=20)\n",
    "plt.title(\"0.5-0.75 similarity degree distribution (linear)\", fontsize=20)"
   ]
  },
  {
   "cell_type": "markdown",
   "metadata": {},
   "source": [
    "<h2>Plot the network using the Force Atlas algorithm<h2>"
   ]
  },
  {
   "cell_type": "code",
   "execution_count": 323,
   "metadata": {},
   "outputs": [
    {
     "ename": "TypeError",
     "evalue": "'_AxesStack' object is not callable",
     "output_type": "error",
     "traceback": [
      "\u001b[0;31m---------------------------------------------------------------------------\u001b[0m",
      "\u001b[0;31mTypeError\u001b[0m                                 Traceback (most recent call last)",
      "Cell \u001b[0;32mIn [323], line 9\u001b[0m\n\u001b[1;32m      6\u001b[0m colors \u001b[39m=\u001b[39m [G[u][v][\u001b[39m'\u001b[39m\u001b[39mcolor\u001b[39m\u001b[39m'\u001b[39m] \u001b[39mfor\u001b[39;00m u,v \u001b[39min\u001b[39;00m edges]\n\u001b[1;32m      7\u001b[0m weights \u001b[39m=\u001b[39m [G[u][v][\u001b[39m'\u001b[39m\u001b[39mweight\u001b[39m\u001b[39m'\u001b[39m] \u001b[39mfor\u001b[39;00m u,v \u001b[39min\u001b[39;00m edges]\n\u001b[0;32m----> 9\u001b[0m pos \u001b[39m=\u001b[39m nx\u001b[39m.\u001b[39;49mdraw_kamada_kawai(G)\n\u001b[1;32m     11\u001b[0m forceatlas2 \u001b[39m=\u001b[39m ForceAtlas2(\n\u001b[1;32m     12\u001b[0m                         \u001b[39m# Behavior alternatives\u001b[39;00m\n\u001b[1;32m     13\u001b[0m                         outboundAttractionDistribution\u001b[39m=\u001b[39m\u001b[39mTrue\u001b[39;00m,  \u001b[39m# Dissuade hubs\u001b[39;00m\n\u001b[0;32m   (...)\u001b[0m\n\u001b[1;32m     29\u001b[0m                         \u001b[39m# Log\u001b[39;00m\n\u001b[1;32m     30\u001b[0m                         verbose\u001b[39m=\u001b[39m\u001b[39mTrue\u001b[39;00m)\n\u001b[1;32m     32\u001b[0m positions \u001b[39m=\u001b[39m forceatlas2\u001b[39m.\u001b[39mforceatlas2_networkx_layout(G, pos\u001b[39m=\u001b[39mpos, iterations\u001b[39m=\u001b[39m\u001b[39m2000\u001b[39m)\n",
      "File \u001b[0;32m~/opt/anaconda3/envs/finalProject/lib/python3.10/site-packages/networkx/drawing/nx_pylab.py:1253\u001b[0m, in \u001b[0;36mdraw_kamada_kawai\u001b[0;34m(G, **kwargs)\u001b[0m\n\u001b[1;32m   1221\u001b[0m \u001b[39mdef\u001b[39;00m \u001b[39mdraw_kamada_kawai\u001b[39m(G, \u001b[39m*\u001b[39m\u001b[39m*\u001b[39mkwargs):\n\u001b[1;32m   1222\u001b[0m     \u001b[39m\"\"\"Draw the graph `G` with a Kamada-Kawai force-directed layout.\u001b[39;00m\n\u001b[1;32m   1223\u001b[0m \n\u001b[1;32m   1224\u001b[0m \u001b[39m    This is a convenience function equivalent to::\u001b[39;00m\n\u001b[0;32m   (...)\u001b[0m\n\u001b[1;32m   1251\u001b[0m \u001b[39m    :func:`~networkx.drawing.layout.kamada_kawai_layout`\u001b[39;00m\n\u001b[1;32m   1252\u001b[0m \u001b[39m    \"\"\"\u001b[39;00m\n\u001b[0;32m-> 1253\u001b[0m     draw(G, kamada_kawai_layout(G), \u001b[39m*\u001b[39;49m\u001b[39m*\u001b[39;49mkwargs)\n",
      "File \u001b[0;32m~/opt/anaconda3/envs/finalProject/lib/python3.10/site-packages/networkx/drawing/nx_pylab.py:113\u001b[0m, in \u001b[0;36mdraw\u001b[0;34m(G, pos, ax, **kwds)\u001b[0m\n\u001b[1;32m    111\u001b[0m cf\u001b[39m.\u001b[39mset_facecolor(\u001b[39m\"\u001b[39m\u001b[39mw\u001b[39m\u001b[39m\"\u001b[39m)\n\u001b[1;32m    112\u001b[0m \u001b[39mif\u001b[39;00m ax \u001b[39mis\u001b[39;00m \u001b[39mNone\u001b[39;00m:\n\u001b[0;32m--> 113\u001b[0m     \u001b[39mif\u001b[39;00m cf\u001b[39m.\u001b[39;49m_axstack() \u001b[39mis\u001b[39;00m \u001b[39mNone\u001b[39;00m:\n\u001b[1;32m    114\u001b[0m         ax \u001b[39m=\u001b[39m cf\u001b[39m.\u001b[39madd_axes((\u001b[39m0\u001b[39m, \u001b[39m0\u001b[39m, \u001b[39m1\u001b[39m, \u001b[39m1\u001b[39m))\n\u001b[1;32m    115\u001b[0m     \u001b[39melse\u001b[39;00m:\n",
      "\u001b[0;31mTypeError\u001b[0m: '_AxesStack' object is not callable"
     ]
    },
    {
     "data": {
      "text/plain": [
       "<Figure size 1200x400 with 0 Axes>"
      ]
     },
     "metadata": {},
     "output_type": "display_data"
    }
   ],
   "source": [
    "plt.figure(figsize=(12, 4))\n",
    "\n",
    "degrees = nx.degree(G)\n",
    "\n",
    "edges = G.edges()\n",
    "colors = [G[u][v]['color'] for u,v in edges]\n",
    "weights = [G[u][v]['weight'] for u,v in edges]\n",
    "\n",
    "pos = nx.draw_kamada_kawai(G)\n",
    "\n",
    "forceatlas2 = ForceAtlas2(\n",
    "                        # Behavior alternatives\n",
    "                        outboundAttractionDistribution=True,  # Dissuade hubs\n",
    "                        linLogMode=False,  # NOT IMPLEMENTED\n",
    "                        adjustSizes=False,  # Prevent overlap (NOT IMPLEMENTED)\n",
    "                        edgeWeightInfluence=1.0,\n",
    "\n",
    "                        # Performance\n",
    "                        jitterTolerance=1.0,  # Tolerance\n",
    "                        barnesHutOptimize=True,\n",
    "                        barnesHutTheta=1.2,\n",
    "                        multiThreaded=False,  # NOT IMPLEMENTED\n",
    "\n",
    "                        # Tuning\n",
    "                        scalingRatio=2.0,\n",
    "                        strongGravityMode=True,\n",
    "                        gravity=5.0,\n",
    "\n",
    "                        # Log\n",
    "                        verbose=True)\n",
    "\n",
    "positions = forceatlas2.forceatlas2_networkx_layout(G, pos=pos, iterations=2000)\n",
    "nx.draw_networkx_nodes(G, positions, \n",
    "                       node_size=[degrees[v] for v in G.nodes()], \n",
    "                       label=False, \n",
    "                       node_color='#D61E1E', \n",
    "                       alpha=1.0)\n",
    "nx.draw_networkx_edges(G, positions, edge_color=colors, width=weights, alpha=0.1)\n",
    "plt.axis('off')\n",
    "plt.show()"
   ]
  },
  {
   "cell_type": "markdown",
   "metadata": {},
   "source": [
    "<h1>Building Network<h1>"
   ]
  },
  {
   "cell_type": "code",
   "execution_count": null,
   "metadata": {},
   "outputs": [],
   "source": [
    "#Find out the writer, producer, song writer, distributors\n",
    "with open('./jsonWebpage/ANTIFRAGILE_(song).txt') as f:\n",
    "    Anti = f.readlines()\n",
    "    connections = re.findall(r'\\|writer=[^\\W_]*\\|', str(Anti))\n",
    "    for i in range(len(connections)):\n",
    "        connections[i] = connections[i].partition('|')[0]\n",
    "        connections[i] = connections[i].replace(\" \", \"_\")\n",
    "    print(set(connections))\n",
    "\n",
    "\n",
    "path_dc = \"/Users/luchengliang/Social_Graph_and_Networks/DC\"\n",
    "path_marvel = \"/Users/luchengliang/Social_Graph_and_Networks/Marvel\"\n",
    "\n",
    "dir_list_dc = os.listdir(path_dc)\n",
    "dir_list_marvel = os.listdir(path_marvel)\n",
    "\n",
    "neighbors = []\n",
    "#print(connections)\n",
    "for j in range(len(connections)):\n",
    "    for p in range(len(dir_list_dc)):\n",
    "        dir_list_dc[p] = dir_list_dc[p].replace(\".txt\", \"\")\n",
    "        neighbors += re.findall(dir_list_dc[p], connections[j])\n",
    "        \n",
    "    for u in range(len(dir_list_marvel)):\n",
    "        dir_list_marvel[u] = dir_list_marvel[u].replace(\".txt\", \"\")\n",
    "        neighbors += re.findall(dir_list_marvel[u], connections[j])\n",
    "\n",
    "#print(neighbors)"
   ]
  },
  {
   "cell_type": "markdown",
   "metadata": {},
   "source": [
    "<h2>Lyrics<h2>"
   ]
  },
  {
   "cell_type": "code",
   "execution_count": null,
   "metadata": {},
   "outputs": [
    {
     "name": "stdout",
     "output_type": "stream",
     "text": [
      "Anti ti ti ti fragile fragile\n",
      "Anti ti ti ti fragile\n",
      "Anti ti ti ti fragile fragile\n",
      "Antifragile antifragile\n",
      "가시밭길 위로 riding\n",
      "you made me boost up\n",
      "거짓으로 가득 찬 party\n",
      "가렵지도 않아\n",
      "내 뒤에 말들이 많아\n",
      "나도 첨 듣는 내 rival\n",
      "모두 기도해 내 falling\n",
      "그 손 위로 I’mma jump in\n",
      "Yes gimme that\n",
      "걸어봐 위엄 like a lion\n",
      "눈빛엔 거대한 desire\n",
      "더 부어 gasoline on fire\n",
      "불길 속에 다시 날아 rising\n",
      "잊지 마 내가 두고 온 toe shoes\n",
      "무슨 말이 더 필요해\n",
      "무시 마 내가 걸어온 커리어\n",
      "I go to ride till I die die\n",
      "더 높이 가줄게\n",
      "내가 바랐던 세계 젤 위에\n",
      "떨어져도 돼\n",
      "I’m antifragile antifragile\n",
      "난 지금 on my way 갖다버려 줘\n",
      "너의 fairy tale\n",
      "Now you know my name\n",
      "I’m antifragile antifragile\n",
      "Anti ti ti ti fragile fragile\n",
      "Anti ti ti ti fragile\n",
      "Anti ti ti ti fragile fragile\n",
      "Antifragile antifragile\n",
      "“Lovey lovey lovey\n",
      "dovey dovey dovey”\n",
      "멋대로 정하네 나란 애에 대해\n",
      "I don't know what to say\n",
      "I can't feel it\n",
      "뜨거운 관심은 환영\n",
      "귀여운 질투는 go ahead\n",
      "줄 달린 인형은 no thanks\n",
      "내 미랠 쓸 나의 노래\n",
      "Yes gimme that\n",
      "걸어봐 위엄 like a lion\n",
      "눈빛엔 거대한 desire\n",
      "더 부어 gasoline on fire\n",
      "불길 속에 다시 날아 rising\n",
      "잊지 마 내가 두고 온 toe shoes\n",
      "무슨 말이 더 필요해\n",
      "무시 마 내가 걸어온 커리어\n",
      "I go to ride till I die die\n",
      "더 높이 가줄게\n",
      "내가 바랐던 세계 젤 위에\n",
      "떨어져도 돼\n",
      "I’m antifragile antifragile\n",
      "난 지금 on my way 갖다버려 줘\n",
      "너의 fairy tale\n",
      "Now you know my name\n",
      "I’m antifragile antifragile\n",
      "Anti ti ti ti fragile fragile\n",
      "Anti ti ti ti fragile\n",
      "Anti ti ti ti fragile fragile\n",
      "Antifragile antifragile\n",
      "We can break it baby\n",
      "Rock it twist it lock it baby\n",
      "All I know is you can’t chain me\n",
      "‘Cause I’m gonna break out\n",
      "gonna gonna break out out\n",
      "We can break it baby\n",
      "Rock it twist it lock it baby\n",
      "All I know is you can’t chain me\n",
      "'Cause I’m gonna break out\n",
      "gonna gonna break out out\n",
      "더 높이 가줄게\n",
      "내가 바랐던 세계 젤 위에\n",
      "떨어져도 돼\n",
      "I’m antifragile antifragile\n",
      "난 지금 on my way 갖다버려 줘\n",
      "너의 fairy tale\n",
      "Now you know my name\n",
      "I’m antifragile antifragile\n",
      "Anti ti ti ti fragile fragile\n",
      "Anti ti ti ti fragile\n",
      "Anti ti ti ti fragile fragile\n",
      "Antifragile antifragile\n",
      "<class 'str'>\n"
     ]
    }
   ],
   "source": [
    "content = scrapeMelon.getLyric(35729104)\n",
    "print(content)\n",
    "print(type(content))"
   ]
  },
  {
   "cell_type": "code",
   "execution_count": null,
   "metadata": {},
   "outputs": [
    {
     "name": "stdout",
     "output_type": "stream",
     "text": [
      "Help on method google_api in module translators.servers:\n",
      "\n",
      "google_api(query_text: str, from_language: str = 'auto', to_language: str = 'en', **kwargs) -> Union[str, list] method of translators.servers.GoogleV2 instance\n",
      "    https://translate.google.com, https://translate.google.cn.\n",
      "    :param query_text: str, must.\n",
      "    :param from_language: str, default 'auto'.\n",
      "    :param to_language: str, default 'en'.\n",
      "    :param **kwargs:\n",
      "            :param reset_host_url: str, default None. eg: 'https://translate.google.fr'\n",
      "            :param if_use_cn_host: boolean, default None. affected by `reset_host_url`.\n",
      "            :param if_ignore_limit_of_length: boolean, default False.\n",
      "            :param is_detail_result: boolean, default False.\n",
      "            :param timeout: float, default None.\n",
      "            :param proxies: dict, default None.\n",
      "            :param sleep_seconds: float, default `random.random()`.\n",
      "    :return: str or list\n",
      "\n"
     ]
    }
   ],
   "source": [
    "help(ts.google)"
   ]
  },
  {
   "cell_type": "code",
   "execution_count": null,
   "metadata": {},
   "outputs": [
    {
     "name": "stdout",
     "output_type": "stream",
     "text": [
      "Anti Ti Ti Ti fragile fragile\n",
      "Anti Ti Ti Ti Fragile\n",
      "Anti Ti Ti Ti fragile fragile\n",
      "AntiFragile Antifragile\n",
      "Riding on the thorny field road\n",
      "You Made Me Boost Up\n",
      "PARTY full of lies\n",
      "Not itchy\n",
      "There are a lot of horses behind me\n",
      "My RIVAL\n",
      "All prayer\n",
      "I ’mma jump in that hand\n",
      "Yes gimme that\n",
      "Walk Dignity like a Lion\n",
      "A huge desire for eyes\n",
      "Pour more Gasoline on Fire\n",
      "RISING flew again in the flames\n",
      "Don't forget TOE Shoes I left\n",
      "I need something more\n",
      "The career I've walked\n",
      "I go to ride till I die Die\n",
      "I'll get more height\n",
      "On the world gel I wanted\n",
      "You can fall\n",
      "I ’m Antifragile Antifragile\n",
      "I'm on my way now\n",
      "Your Fairy Tale\n",
      "Now you know my name\n",
      "I ’m Antifragile Antifragile\n",
      "Anti Ti Ti Ti fragile fragile\n",
      "Anti Ti Ti Ti Fragile\n",
      "Anti Ti Ti Ti fragile fragile\n",
      "AntiFragile Antifragile\n",
      "“LOVEY LOVEY LOVEY\n",
      "DOVEY DOVEY DOVEY ”\n",
      "I decided to decide what it is.\n",
      "I don't know what to say\n",
      "I Can't Feel It\n",
      "Hot interest is welcome\n",
      "Cute jealousy is Go ahead\n",
      "The rowing doll is No Thanks\n",
      "My song to write my mirror\n",
      "Yes gimme that\n",
      "Walk Dignity like a Lion\n",
      "A huge desire for eyes\n",
      "Pour more Gasoline on Fire\n",
      "RISING flew again in the flames\n",
      "Don't forget TOE Shoes I left\n",
      "I need something more\n",
      "The career I've walked\n",
      "I go to ride till I die Die\n",
      "I'll get more height\n",
      "On the world gel I wanted\n",
      "You can fall\n",
      "I ’m Antifragile Antifragile\n",
      "I'm on my way now\n",
      "Your Fairy Tale\n",
      "Now you know my name\n",
      "I ’m Antifragile Antifragile\n",
      "Anti Ti Ti Ti fragile fragile\n",
      "Anti Ti Ti Ti Fragile\n",
      "Anti Ti Ti Ti fragile fragile\n",
      "AntiFragile Antifragile\n",
      "We can break it Baby\n",
      "ROCK IT Twist It Lock it Baby\n",
      "All I Know Is You CAN CHAIN ​​ME\n",
      "'Cause I ’m Gonna Break Out\n",
      "Gonna Gonna Break Out Out\n",
      "We can break it Baby\n",
      "ROCK IT Twist It Lock it Baby\n",
      "All I Know Is You CAN CHAIN ​​ME\n",
      "'Cause I ’m Gonna Break Out\n",
      "Gonna Gonna Break Out Out\n",
      "I'll get more height\n",
      "On the world gel I wanted\n",
      "You can fall\n",
      "I ’m Antifragile Antifragile\n",
      "I'm on my way now\n",
      "Your Fairy Tale\n",
      "Now you know my name\n",
      "I ’m Antifragile Antifragile\n",
      "Anti Ti Ti Ti fragile fragile\n",
      "Anti Ti Ti Ti Fragile\n",
      "Anti Ti Ti Ti fragile fragile\n",
      "AntiFragile Antifragile\n"
     ]
    }
   ],
   "source": [
    "content_trans = ts.google(content, from_language='auto', to_language='en')\n",
    "print(content_trans)"
   ]
  }
 ],
 "metadata": {
  "kernelspec": {
   "display_name": "Python 3.10.6 ('finalProject')",
   "language": "python",
   "name": "python3"
  },
  "language_info": {
   "codemirror_mode": {
    "name": "ipython",
    "version": 3
   },
   "file_extension": ".py",
   "mimetype": "text/x-python",
   "name": "python",
   "nbconvert_exporter": "python",
   "pygments_lexer": "ipython3",
   "version": "3.10.6"
  },
  "orig_nbformat": 4,
  "vscode": {
   "interpreter": {
    "hash": "6660c4c3f7c9d1098771c7f136eb99dd50ad244ab1f533ce926e29d70a0433b6"
   }
  }
 },
 "nbformat": 4,
 "nbformat_minor": 2
}
